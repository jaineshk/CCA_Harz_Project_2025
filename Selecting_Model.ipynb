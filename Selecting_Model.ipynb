{
 "cells": [
  {
   "cell_type": "code",
   "execution_count": 2,
   "metadata": {},
   "outputs": [],
   "source": [
    "import pandas as pd\n",
    "import matplotlib.pyplot as plt\n",
    "import numpy as np\n",
    "import openmeteo_requests\n",
    "import requests_cache\n",
    "from retry_requests import retry\n",
    "from sklearn.metrics import mean_squared_error"
   ]
  },
  {
   "cell_type": "code",
   "execution_count": null,
   "metadata": {},
   "outputs": [],
   "source": [
    "# resuable code\n",
    "\n",
    "cache_session = requests_cache.CachedSession('.cache', expire_after = 3600)\n",
    "retry_session = retry(cache_session, retries = 5, backoff_factor = 0.2)\n",
    "openmeteo = openmeteo_requests.Client(session = retry_session)\n",
    "\n",
    "# Function for frequent use for houlrly data\n",
    "#https://open-meteo.com/en/docs/historical-weather-api#start_date=1950-01-01&end_date=2023-12-31&hourly=&daily=temperature_2m_mean&timezone=Europe%2FBerlin&models=era5_seamless\n",
    "def daily_open_meteo_data(start_date:str, end_date:str, lat:list, long:list, variable, model:list):\n",
    "\turl = \"https://archive-api.open-meteo.com/v1/archive\"\n",
    "\tparams = {\n",
    "\t\"latitude\": lat,\n",
    "\t\"longitude\": long,\n",
    "\t\"start_date\":start_date,\n",
    "\t\"end_date\": end_date,\n",
    "\t\"timezone\": \"Europe/Berlin\",\n",
    "\t\"daily\": variable,\n",
    "\t\"models\": model\n",
    "\t}\n",
    "\tresponses = openmeteo.weather_api(url, params=params)\n",
    "\tresponse = responses[0]\n",
    "\t# Process daily data. The order of variables needs to be the same as requested.\n",
    "\tdaily = response.Daily()\n",
    "\tdaily_sum = daily.Variables(0).ValuesAsNumpy()\n",
    "\n",
    "\tdaily_data = {\"date\": pd.date_range(\n",
    "\tstart = pd.to_datetime(daily.Time(), unit = \"s\", utc = True),\n",
    "\tend = pd.to_datetime(daily.TimeEnd(), unit = \"s\", utc = True),\n",
    "\tfreq = pd.Timedelta(seconds = daily.Interval()),\n",
    "\tinclusive = \"left\"\n",
    "\t)}\n",
    "\tdaily_data[\"open_meteo\"] = daily_sum\n",
    "\n",
    "\tdaily_dataframe = pd.DataFrame(data = daily_data)\n",
    "\tif daily_dataframe.empty:\n",
    "\t\treturn print(\"The daily limit reached\")\n",
    "\treturn daily_dataframe\n",
    "\n",
    "def calculate_accuracy(original_data, predicted_data):\n",
    "\tmbe = np.mean(predicted_data - original_data)\n",
    "\trmse = np.sqrt(mean_squared_error(original_data, predicted_data))\n",
    "\tcorrelation = np.corrcoef(original_data, predicted_data)[0, 1]\n",
    "\n",
    "\t# Print results\n",
    "\tprint(f\"Mean Bias Error (MBE): {mbe}\")\n",
    "\tprint(f\"Root Mean Square Error (RMSE): {rmse}\")\n",
    "\tprint(f\"Correlation: {correlation}\")\n",
    "\t\n",
    "\n",
    "# Function for frequent use for houlrly data\n",
    "# the Function is take from this source.\n",
    "#https://open-meteo.com/en/docs/historical-weather-api#start_date=1950-01-01&end_date=2023-12-31&hourly=&daily=temperature_2m_mean&timezone=Europe%2FBerlin&models=era5_seamless\n",
    "def Hourly_open_meteo_data(start_date:str, end_date:str, lat:list, long:list, variable):\n",
    "\turl = \"https://archive-api.open-meteo.com/v1/archive\"\n",
    "\tparams = {\n",
    "\t\"latitude\": lat,\n",
    "\t\"longitude\": long,\n",
    "\t\"start_date\":start_date,\n",
    "\t\"end_date\": end_date,\n",
    "\t\"timezone\": \"Europe/Berlin\",\n",
    "\t\"hourly\": variable,\n",
    "\t\"models\": [\"era5_seamless\"]\n",
    "\t}\n",
    "\tresponses = openmeteo.weather_api(url, params=params)\n",
    "\tresponse = responses[0]\n",
    "\t# Process daily data. The order of variables needs to be the same as requested.\n",
    "\thourly = response.Hourly()\n",
    "\thourly_snow_depth = hourly.Variables(0).ValuesAsNumpy()\n",
    "\n",
    "\thourly_data = {\"date\": pd.date_range(\n",
    "\t\tstart = pd.to_datetime(hourly.Time(), unit = \"s\", utc = True),\n",
    "\t\tend = pd.to_datetime(hourly.TimeEnd(), unit = \"s\", utc = True),\n",
    "\t\tfreq = pd.Timedelta(seconds = hourly.Interval()),\n",
    "\t\tinclusive = \"left\"\n",
    "\t)}\n",
    "\thourly_data[\"open_meteo\"] = hourly_snow_depth\n",
    "\n",
    "\thourly_dataframe = pd.DataFrame(data = hourly_data)\n",
    "\n",
    "\tif hourly_dataframe.empty:\n",
    "\t\treturn print(\"The daily limit reached\")\n",
    "\treturn hourly_dataframe\n",
    "\n",
    "\n",
    "\n",
    "# plots\n",
    "def plot_my_bargraph(length:int,breath:int,xaxis,yaxis,title:str,xlabel:str,ylabel:str, widthv=0.5, colorv='blue',xtick = False):\n",
    "    plt.figure(figsize=(length, breath))\n",
    "    plt.bar(xaxis, yaxis, width = widthv , color=colorv)\n",
    "    plt.title(title)\n",
    "    plt.xlabel(xlabel)\n",
    "    plt.ylabel(ylabel)\n",
    "    plt.grid(axis='y')\n",
    "    if xtick == True:\n",
    "        plt.xticks(xaxis,rotation=45,fontsize=10)\n",
    "    plt.tight_layout()\n",
    "    plt.show()\n",
    "\n",
    "\n",
    "\n",
    "def plot_my_bargraph_withnumbers(length:int,breath:int,xaxis,yaxis,title:str,xlabel:str,ylabel:str, widthv=0.5, colorv='blue'):\n",
    "    plt.figure(figsize=(length, breath))\n",
    "    plt.bar(xaxis, yaxis, width = widthv , color=colorv)\n",
    "    plt.title(title)\n",
    "    plt.xlabel(xlabel)\n",
    "    plt.ylabel(ylabel)\n",
    "    plt.grid(axis='y')\n",
    "    for i, value in enumerate(yaxis):\n",
    "        plt.text(xaxis[i], value + 1, str(value), ha='center', fontsize=9)\n",
    "    plt.tight_layout()\n",
    "    plt.xticks(xaxis,rotation=45,fontsize=10)\n",
    "    plt.show()"
   ]
  },
  {
   "cell_type": "markdown",
   "metadata": {},
   "source": [
    "### Cleaning the data set of DWD,"
   ]
  },
  {
   "cell_type": "code",
   "execution_count": 4,
   "metadata": {},
   "outputs": [],
   "source": [
    "Dwd_50_year_data = pd.read_csv(r'.\\Taglich\\50_years_data.csv',sep= ';')"
   ]
  },
  {
   "cell_type": "code",
   "execution_count": 5,
   "metadata": {},
   "outputs": [],
   "source": [
    "new_column = {'MESS_DATUM':'date','  FX':'Maximum wind peak ','  FM':'Daily average wind speed m/s',' RSK':'daily rainfall','RSKF':'daily form of precipitation',' TMK':'Daily average temperature',}\n",
    "drop = ['QN_3','QN_4',' SDK','SHK_TAG', '  NM', ' VPM', '  PM', ' UPM', ' TNK', ' TGK', 'eor', ' TXK','STATIONS_ID']\n",
    "Dwd_50_year_data.drop(columns=drop,inplace=True)"
   ]
  },
  {
   "cell_type": "code",
   "execution_count": 6,
   "metadata": {},
   "outputs": [
    {
     "data": {
      "text/html": [
       "<div>\n",
       "<style scoped>\n",
       "    .dataframe tbody tr th:only-of-type {\n",
       "        vertical-align: middle;\n",
       "    }\n",
       "\n",
       "    .dataframe tbody tr th {\n",
       "        vertical-align: top;\n",
       "    }\n",
       "\n",
       "    .dataframe thead th {\n",
       "        text-align: right;\n",
       "    }\n",
       "</style>\n",
       "<table border=\"1\" class=\"dataframe\">\n",
       "  <thead>\n",
       "    <tr style=\"text-align: right;\">\n",
       "      <th></th>\n",
       "      <th>Maximum wind peak</th>\n",
       "      <th>Daily average wind speed m/s</th>\n",
       "      <th>daily rainfall</th>\n",
       "      <th>daily form of precipitation</th>\n",
       "      <th>Daily average temperature</th>\n",
       "    </tr>\n",
       "    <tr>\n",
       "      <th>date</th>\n",
       "      <th></th>\n",
       "      <th></th>\n",
       "      <th></th>\n",
       "      <th></th>\n",
       "      <th></th>\n",
       "    </tr>\n",
       "  </thead>\n",
       "  <tbody>\n",
       "    <tr>\n",
       "      <th>1896-01-01</th>\n",
       "      <td>0.0</td>\n",
       "      <td>0.0</td>\n",
       "      <td>0.0</td>\n",
       "      <td>0</td>\n",
       "      <td>-6.7</td>\n",
       "    </tr>\n",
       "    <tr>\n",
       "      <th>1896-01-02</th>\n",
       "      <td>0.0</td>\n",
       "      <td>0.0</td>\n",
       "      <td>2.1</td>\n",
       "      <td>0</td>\n",
       "      <td>-2.2</td>\n",
       "    </tr>\n",
       "    <tr>\n",
       "      <th>1896-01-03</th>\n",
       "      <td>0.0</td>\n",
       "      <td>0.0</td>\n",
       "      <td>1.8</td>\n",
       "      <td>0</td>\n",
       "      <td>0.1</td>\n",
       "    </tr>\n",
       "    <tr>\n",
       "      <th>1896-01-04</th>\n",
       "      <td>0.0</td>\n",
       "      <td>0.0</td>\n",
       "      <td>0.9</td>\n",
       "      <td>0</td>\n",
       "      <td>-4.0</td>\n",
       "    </tr>\n",
       "    <tr>\n",
       "      <th>1896-01-05</th>\n",
       "      <td>0.0</td>\n",
       "      <td>0.0</td>\n",
       "      <td>0.0</td>\n",
       "      <td>0</td>\n",
       "      <td>-3.2</td>\n",
       "    </tr>\n",
       "    <tr>\n",
       "      <th>...</th>\n",
       "      <td>...</td>\n",
       "      <td>...</td>\n",
       "      <td>...</td>\n",
       "      <td>...</td>\n",
       "      <td>...</td>\n",
       "    </tr>\n",
       "    <tr>\n",
       "      <th>2023-12-27</th>\n",
       "      <td>32.5</td>\n",
       "      <td>13.7</td>\n",
       "      <td>1.4</td>\n",
       "      <td>8</td>\n",
       "      <td>-1.2</td>\n",
       "    </tr>\n",
       "    <tr>\n",
       "      <th>2023-12-28</th>\n",
       "      <td>33.0</td>\n",
       "      <td>22.6</td>\n",
       "      <td>1.3</td>\n",
       "      <td>8</td>\n",
       "      <td>0.8</td>\n",
       "    </tr>\n",
       "    <tr>\n",
       "      <th>2023-12-29</th>\n",
       "      <td>36.9</td>\n",
       "      <td>22.9</td>\n",
       "      <td>21.7</td>\n",
       "      <td>4</td>\n",
       "      <td>1.2</td>\n",
       "    </tr>\n",
       "    <tr>\n",
       "      <th>2023-12-30</th>\n",
       "      <td>34.5</td>\n",
       "      <td>17.8</td>\n",
       "      <td>0.8</td>\n",
       "      <td>8</td>\n",
       "      <td>-0.5</td>\n",
       "    </tr>\n",
       "    <tr>\n",
       "      <th>2023-12-31</th>\n",
       "      <td>30.4</td>\n",
       "      <td>18.0</td>\n",
       "      <td>0.1</td>\n",
       "      <td>8</td>\n",
       "      <td>0.3</td>\n",
       "    </tr>\n",
       "  </tbody>\n",
       "</table>\n",
       "<p>45827 rows × 5 columns</p>\n",
       "</div>"
      ],
      "text/plain": [
       "            Maximum wind peak   Daily average wind speed m/s  daily rainfall  \\\n",
       "date                                                                           \n",
       "1896-01-01                 0.0                           0.0             0.0   \n",
       "1896-01-02                 0.0                           0.0             2.1   \n",
       "1896-01-03                 0.0                           0.0             1.8   \n",
       "1896-01-04                 0.0                           0.0             0.9   \n",
       "1896-01-05                 0.0                           0.0             0.0   \n",
       "...                        ...                           ...             ...   \n",
       "2023-12-27                32.5                          13.7             1.4   \n",
       "2023-12-28                33.0                          22.6             1.3   \n",
       "2023-12-29                36.9                          22.9            21.7   \n",
       "2023-12-30                34.5                          17.8             0.8   \n",
       "2023-12-31                30.4                          18.0             0.1   \n",
       "\n",
       "            daily form of precipitation  Daily average temperature  \n",
       "date                                                                \n",
       "1896-01-01                            0                       -6.7  \n",
       "1896-01-02                            0                       -2.2  \n",
       "1896-01-03                            0                        0.1  \n",
       "1896-01-04                            0                       -4.0  \n",
       "1896-01-05                            0                       -3.2  \n",
       "...                                 ...                        ...  \n",
       "2023-12-27                            8                       -1.2  \n",
       "2023-12-28                            8                        0.8  \n",
       "2023-12-29                            4                        1.2  \n",
       "2023-12-30                            8                       -0.5  \n",
       "2023-12-31                            8                        0.3  \n",
       "\n",
       "[45827 rows x 5 columns]"
      ]
     },
     "execution_count": 6,
     "metadata": {},
     "output_type": "execute_result"
    }
   ],
   "source": [
    "drop = ['QN_3','QN_4',' SDK','SHK_TAG', '  NM', ' VPM', '  PM', ' UPM', ' TNK', ' TGK', 'eor', ' TXK','STATIONS_ID']\n",
    "Dwd_50_year_data.rename(columns=new_column, inplace=True)\n",
    "Dwd_50_year_data['date'] = pd.to_datetime(Dwd_50_year_data['date'], format='%Y%m%d')\n",
    "Dwd_50_year_data.apply(pd.to_numeric)\n",
    "Dwd_50_year_data.replace(to_replace= -999.0, value=0,inplace=True)\n",
    "Dwd_50_year_data.replace(to_replace= -999, value=0,inplace=True)\n",
    "Dwd_50_year_data.set_index('date',inplace=True)\n",
    "Dwd_50_year_data"
   ]
  },
  {
   "cell_type": "markdown",
   "metadata": {},
   "source": [
    "### Calclutating the accuracy of model \"Era5_seamless\" using RMSE and Co_relation"
   ]
  },
  {
   "cell_type": "markdown",
   "metadata": {},
   "source": [
    "### For tempreature"
   ]
  },
  {
   "cell_type": "code",
   "execution_count": 7,
   "metadata": {},
   "outputs": [
    {
     "name": "stdout",
     "output_type": "stream",
     "text": [
      "Mean Bias Error (MBE): nan\n",
      "Root Mean Square Error (RMSE): 2.395438885439637\n",
      "Correlation: 0.9515450721927863\n"
     ]
    }
   ],
   "source": [
    "open_meto_50_years_Temp_dataframe = daily_open_meteo_data(\"1950-01-01\", \"2023-12-31\",[51.79], [10.62],\"temperature_2m_mean\",[\"era5_seamless\"])\n",
    "calculate_accuracy( Dwd_50_year_data[\"1950-01-01\":\"2023-12-31\"][\"Daily average temperature\"],open_meto_50_years_Temp_dataframe[\"open_meteo\"])"
   ]
  },
  {
   "cell_type": "markdown",
   "metadata": {},
   "source": [
    "### Precipitation"
   ]
  },
  {
   "cell_type": "code",
   "execution_count": 10,
   "metadata": {},
   "outputs": [
    {
     "name": "stdout",
     "output_type": "stream",
     "text": [
      "Mean Bias Error (MBE): nan\n",
      "Root Mean Square Error (RMSE): 4.668683925941836\n",
      "Correlation: 0.2688971588581231\n"
     ]
    }
   ],
   "source": [
    "open_meto_50_years_precipitation = daily_open_meteo_data(\"1950-01-01\", \"2023-12-31\",[51.79], [10.62],\"precipitation_sum\",[\"era5_seamless\"])\n",
    "calculate_accuracy( Dwd_50_year_data[\"1950-01-01\":\"2023-12-31\"][\"daily form of precipitation\"],open_meto_50_years_precipitation[\"open_meteo\"])"
   ]
  },
  {
   "cell_type": "markdown",
   "metadata": {},
   "source": [
    "### RainFall"
   ]
  },
  {
   "cell_type": "code",
   "execution_count": 12,
   "metadata": {},
   "outputs": [
    {
     "name": "stdout",
     "output_type": "stream",
     "text": [
      "Mean Bias Error (MBE): nan\n",
      "Root Mean Square Error (RMSE): 6.880847891969073\n",
      "Correlation: 0.6265610455756389\n"
     ]
    }
   ],
   "source": [
    "open_meto_50_years_precipitation = daily_open_meteo_data(\"1950-01-01\", \"2023-12-31\",[51.79], [10.62],\"rain_sum\",[\"era5_seamless\"])\n",
    "calculate_accuracy( Dwd_50_year_data[\"1950-01-01\":\"2023-12-31\"][\"daily rainfall\"],open_meto_50_years_precipitation[\"open_meteo\"])"
   ]
  },
  {
   "cell_type": "markdown",
   "metadata": {},
   "source": [
    "## Calclutating the accuracy of model \"Cerra\" using RMSE and Co_relation\n",
    "### for the cerra model the data is only avaialable between 1985 to June 2021 \n"
   ]
  },
  {
   "cell_type": "markdown",
   "metadata": {},
   "source": [
    "### Tempreture"
   ]
  },
  {
   "cell_type": "markdown",
   "metadata": {},
   "source": [
    "### Handling the error one Nan value and replacing it with 0"
   ]
  },
  {
   "cell_type": "code",
   "execution_count": 24,
   "metadata": {},
   "outputs": [],
   "source": [
    "C_open_meto_50_years_Temp_dataframe = daily_open_meteo_data(\"1986-01-01\", \"2020-12-31\",[51.79], [10.62],\"temperature_2m_mean\",[\"cerra\"])"
   ]
  },
  {
   "cell_type": "code",
   "execution_count": 25,
   "metadata": {},
   "outputs": [
    {
     "data": {
      "text/plain": [
       "date          0\n",
       "open_meteo    1\n",
       "dtype: int64"
      ]
     },
     "execution_count": 25,
     "metadata": {},
     "output_type": "execute_result"
    }
   ],
   "source": [
    "C_open_meto_50_years_Temp_dataframe.isna().sum()"
   ]
  },
  {
   "cell_type": "code",
   "execution_count": 26,
   "metadata": {},
   "outputs": [],
   "source": [
    "C_open_meto_50_years_Temp_dataframe.fillna(0,inplace=True)"
   ]
  },
  {
   "cell_type": "code",
   "execution_count": 27,
   "metadata": {},
   "outputs": [
    {
     "name": "stdout",
     "output_type": "stream",
     "text": [
      "Mean Bias Error (MBE): nan\n",
      "Root Mean Square Error (RMSE): 1.8961551016485763\n",
      "Correlation: 0.9647151339361298\n"
     ]
    }
   ],
   "source": [
    "calculate_accuracy( Dwd_50_year_data[\"1986-01-01\":\"2020-12-31\"][\"Daily average temperature\"],C_open_meto_50_years_Temp_dataframe[\"open_meteo\"])"
   ]
  },
  {
   "cell_type": "markdown",
   "metadata": {},
   "source": [
    "### Precipitation"
   ]
  },
  {
   "cell_type": "code",
   "execution_count": 39,
   "metadata": {},
   "outputs": [
    {
     "name": "stdout",
     "output_type": "stream",
     "text": [
      "Mean Bias Error (MBE): nan\n",
      "Root Mean Square Error (RMSE): 6.118380530617456\n",
      "Correlation: 0.33754814932570426\n"
     ]
    }
   ],
   "source": [
    "C_open_meto_50_years_precipitation = daily_open_meteo_data(\"1986-01-01\", \"2020-12-31\",[51.79], [10.62],\"precipitation_sum\",[\"cerra\"])\n",
    "C_open_meto_50_years_precipitation.fillna(0,inplace=True) # to be sure it do not contain NAN values\n",
    "calculate_accuracy( Dwd_50_year_data[\"1986-01-01\":\"2020-12-31\"][\"daily form of precipitation\"],C_open_meto_50_years_precipitation[\"open_meteo\"])"
   ]
  },
  {
   "cell_type": "code",
   "execution_count": 40,
   "metadata": {},
   "outputs": [
    {
     "ename": "RetryError",
     "evalue": "HTTPSConnectionPool(host='archive-api.open-meteo.com', port=443): Max retries exceeded with url: /v1/archive?latitude=51.79&longitude=10.62&start_date=1986-01-01&end_date=2020-12-31&timezone=Europe%2FBerlin&daily=rain_sum&models=cerra&format=flatbuffers (Caused by ResponseError('too many 500 error responses'))",
     "output_type": "error",
     "traceback": [
      "\u001b[1;31m---------------------------------------------------------------------------\u001b[0m",
      "\u001b[1;31mResponseError\u001b[0m                             Traceback (most recent call last)",
      "\u001b[1;31mResponseError\u001b[0m: too many 500 error responses",
      "\nThe above exception was the direct cause of the following exception:\n",
      "\u001b[1;31mMaxRetryError\u001b[0m                             Traceback (most recent call last)",
      "File \u001b[1;32mc:\\Users\\rande\\anaconda3\\Lib\\site-packages\\requests\\adapters.py:486\u001b[0m, in \u001b[0;36mHTTPAdapter.send\u001b[1;34m(self, request, stream, timeout, verify, cert, proxies)\u001b[0m\n\u001b[0;32m    485\u001b[0m \u001b[38;5;28;01mtry\u001b[39;00m:\n\u001b[1;32m--> 486\u001b[0m     resp \u001b[38;5;241m=\u001b[39m conn\u001b[38;5;241m.\u001b[39murlopen(\n\u001b[0;32m    487\u001b[0m         method\u001b[38;5;241m=\u001b[39mrequest\u001b[38;5;241m.\u001b[39mmethod,\n\u001b[0;32m    488\u001b[0m         url\u001b[38;5;241m=\u001b[39murl,\n\u001b[0;32m    489\u001b[0m         body\u001b[38;5;241m=\u001b[39mrequest\u001b[38;5;241m.\u001b[39mbody,\n\u001b[0;32m    490\u001b[0m         headers\u001b[38;5;241m=\u001b[39mrequest\u001b[38;5;241m.\u001b[39mheaders,\n\u001b[0;32m    491\u001b[0m         redirect\u001b[38;5;241m=\u001b[39m\u001b[38;5;28;01mFalse\u001b[39;00m,\n\u001b[0;32m    492\u001b[0m         assert_same_host\u001b[38;5;241m=\u001b[39m\u001b[38;5;28;01mFalse\u001b[39;00m,\n\u001b[0;32m    493\u001b[0m         preload_content\u001b[38;5;241m=\u001b[39m\u001b[38;5;28;01mFalse\u001b[39;00m,\n\u001b[0;32m    494\u001b[0m         decode_content\u001b[38;5;241m=\u001b[39m\u001b[38;5;28;01mFalse\u001b[39;00m,\n\u001b[0;32m    495\u001b[0m         retries\u001b[38;5;241m=\u001b[39m\u001b[38;5;28mself\u001b[39m\u001b[38;5;241m.\u001b[39mmax_retries,\n\u001b[0;32m    496\u001b[0m         timeout\u001b[38;5;241m=\u001b[39mtimeout,\n\u001b[0;32m    497\u001b[0m         chunked\u001b[38;5;241m=\u001b[39mchunked,\n\u001b[0;32m    498\u001b[0m     )\n\u001b[0;32m    500\u001b[0m \u001b[38;5;28;01mexcept\u001b[39;00m (ProtocolError, \u001b[38;5;167;01mOSError\u001b[39;00m) \u001b[38;5;28;01mas\u001b[39;00m err:\n",
      "File \u001b[1;32mc:\\Users\\rande\\anaconda3\\Lib\\site-packages\\urllib3\\connectionpool.py:946\u001b[0m, in \u001b[0;36mHTTPConnectionPool.urlopen\u001b[1;34m(self, method, url, body, headers, retries, redirect, assert_same_host, timeout, pool_timeout, release_conn, chunked, body_pos, preload_content, decode_content, **response_kw)\u001b[0m\n\u001b[0;32m    945\u001b[0m     log\u001b[38;5;241m.\u001b[39mdebug(\u001b[38;5;124m\"\u001b[39m\u001b[38;5;124mRetry: \u001b[39m\u001b[38;5;132;01m%s\u001b[39;00m\u001b[38;5;124m\"\u001b[39m, url)\n\u001b[1;32m--> 946\u001b[0m     \u001b[38;5;28;01mreturn\u001b[39;00m \u001b[38;5;28mself\u001b[39m\u001b[38;5;241m.\u001b[39murlopen(\n\u001b[0;32m    947\u001b[0m         method,\n\u001b[0;32m    948\u001b[0m         url,\n\u001b[0;32m    949\u001b[0m         body,\n\u001b[0;32m    950\u001b[0m         headers,\n\u001b[0;32m    951\u001b[0m         retries\u001b[38;5;241m=\u001b[39mretries,\n\u001b[0;32m    952\u001b[0m         redirect\u001b[38;5;241m=\u001b[39mredirect,\n\u001b[0;32m    953\u001b[0m         assert_same_host\u001b[38;5;241m=\u001b[39massert_same_host,\n\u001b[0;32m    954\u001b[0m         timeout\u001b[38;5;241m=\u001b[39mtimeout,\n\u001b[0;32m    955\u001b[0m         pool_timeout\u001b[38;5;241m=\u001b[39mpool_timeout,\n\u001b[0;32m    956\u001b[0m         release_conn\u001b[38;5;241m=\u001b[39mrelease_conn,\n\u001b[0;32m    957\u001b[0m         chunked\u001b[38;5;241m=\u001b[39mchunked,\n\u001b[0;32m    958\u001b[0m         body_pos\u001b[38;5;241m=\u001b[39mbody_pos,\n\u001b[0;32m    959\u001b[0m         preload_content\u001b[38;5;241m=\u001b[39mpreload_content,\n\u001b[0;32m    960\u001b[0m         decode_content\u001b[38;5;241m=\u001b[39mdecode_content,\n\u001b[0;32m    961\u001b[0m         \u001b[38;5;241m*\u001b[39m\u001b[38;5;241m*\u001b[39mresponse_kw,\n\u001b[0;32m    962\u001b[0m     )\n\u001b[0;32m    964\u001b[0m \u001b[38;5;28;01mreturn\u001b[39;00m response\n",
      "File \u001b[1;32mc:\\Users\\rande\\anaconda3\\Lib\\site-packages\\urllib3\\connectionpool.py:946\u001b[0m, in \u001b[0;36mHTTPConnectionPool.urlopen\u001b[1;34m(self, method, url, body, headers, retries, redirect, assert_same_host, timeout, pool_timeout, release_conn, chunked, body_pos, preload_content, decode_content, **response_kw)\u001b[0m\n\u001b[0;32m    945\u001b[0m     log\u001b[38;5;241m.\u001b[39mdebug(\u001b[38;5;124m\"\u001b[39m\u001b[38;5;124mRetry: \u001b[39m\u001b[38;5;132;01m%s\u001b[39;00m\u001b[38;5;124m\"\u001b[39m, url)\n\u001b[1;32m--> 946\u001b[0m     \u001b[38;5;28;01mreturn\u001b[39;00m \u001b[38;5;28mself\u001b[39m\u001b[38;5;241m.\u001b[39murlopen(\n\u001b[0;32m    947\u001b[0m         method,\n\u001b[0;32m    948\u001b[0m         url,\n\u001b[0;32m    949\u001b[0m         body,\n\u001b[0;32m    950\u001b[0m         headers,\n\u001b[0;32m    951\u001b[0m         retries\u001b[38;5;241m=\u001b[39mretries,\n\u001b[0;32m    952\u001b[0m         redirect\u001b[38;5;241m=\u001b[39mredirect,\n\u001b[0;32m    953\u001b[0m         assert_same_host\u001b[38;5;241m=\u001b[39massert_same_host,\n\u001b[0;32m    954\u001b[0m         timeout\u001b[38;5;241m=\u001b[39mtimeout,\n\u001b[0;32m    955\u001b[0m         pool_timeout\u001b[38;5;241m=\u001b[39mpool_timeout,\n\u001b[0;32m    956\u001b[0m         release_conn\u001b[38;5;241m=\u001b[39mrelease_conn,\n\u001b[0;32m    957\u001b[0m         chunked\u001b[38;5;241m=\u001b[39mchunked,\n\u001b[0;32m    958\u001b[0m         body_pos\u001b[38;5;241m=\u001b[39mbody_pos,\n\u001b[0;32m    959\u001b[0m         preload_content\u001b[38;5;241m=\u001b[39mpreload_content,\n\u001b[0;32m    960\u001b[0m         decode_content\u001b[38;5;241m=\u001b[39mdecode_content,\n\u001b[0;32m    961\u001b[0m         \u001b[38;5;241m*\u001b[39m\u001b[38;5;241m*\u001b[39mresponse_kw,\n\u001b[0;32m    962\u001b[0m     )\n\u001b[0;32m    964\u001b[0m \u001b[38;5;28;01mreturn\u001b[39;00m response\n",
      "    \u001b[1;31m[... skipping similar frames: HTTPConnectionPool.urlopen at line 946 (2 times)]\u001b[0m\n",
      "File \u001b[1;32mc:\\Users\\rande\\anaconda3\\Lib\\site-packages\\urllib3\\connectionpool.py:946\u001b[0m, in \u001b[0;36mHTTPConnectionPool.urlopen\u001b[1;34m(self, method, url, body, headers, retries, redirect, assert_same_host, timeout, pool_timeout, release_conn, chunked, body_pos, preload_content, decode_content, **response_kw)\u001b[0m\n\u001b[0;32m    945\u001b[0m     log\u001b[38;5;241m.\u001b[39mdebug(\u001b[38;5;124m\"\u001b[39m\u001b[38;5;124mRetry: \u001b[39m\u001b[38;5;132;01m%s\u001b[39;00m\u001b[38;5;124m\"\u001b[39m, url)\n\u001b[1;32m--> 946\u001b[0m     \u001b[38;5;28;01mreturn\u001b[39;00m \u001b[38;5;28mself\u001b[39m\u001b[38;5;241m.\u001b[39murlopen(\n\u001b[0;32m    947\u001b[0m         method,\n\u001b[0;32m    948\u001b[0m         url,\n\u001b[0;32m    949\u001b[0m         body,\n\u001b[0;32m    950\u001b[0m         headers,\n\u001b[0;32m    951\u001b[0m         retries\u001b[38;5;241m=\u001b[39mretries,\n\u001b[0;32m    952\u001b[0m         redirect\u001b[38;5;241m=\u001b[39mredirect,\n\u001b[0;32m    953\u001b[0m         assert_same_host\u001b[38;5;241m=\u001b[39massert_same_host,\n\u001b[0;32m    954\u001b[0m         timeout\u001b[38;5;241m=\u001b[39mtimeout,\n\u001b[0;32m    955\u001b[0m         pool_timeout\u001b[38;5;241m=\u001b[39mpool_timeout,\n\u001b[0;32m    956\u001b[0m         release_conn\u001b[38;5;241m=\u001b[39mrelease_conn,\n\u001b[0;32m    957\u001b[0m         chunked\u001b[38;5;241m=\u001b[39mchunked,\n\u001b[0;32m    958\u001b[0m         body_pos\u001b[38;5;241m=\u001b[39mbody_pos,\n\u001b[0;32m    959\u001b[0m         preload_content\u001b[38;5;241m=\u001b[39mpreload_content,\n\u001b[0;32m    960\u001b[0m         decode_content\u001b[38;5;241m=\u001b[39mdecode_content,\n\u001b[0;32m    961\u001b[0m         \u001b[38;5;241m*\u001b[39m\u001b[38;5;241m*\u001b[39mresponse_kw,\n\u001b[0;32m    962\u001b[0m     )\n\u001b[0;32m    964\u001b[0m \u001b[38;5;28;01mreturn\u001b[39;00m response\n",
      "File \u001b[1;32mc:\\Users\\rande\\anaconda3\\Lib\\site-packages\\urllib3\\connectionpool.py:936\u001b[0m, in \u001b[0;36mHTTPConnectionPool.urlopen\u001b[1;34m(self, method, url, body, headers, retries, redirect, assert_same_host, timeout, pool_timeout, release_conn, chunked, body_pos, preload_content, decode_content, **response_kw)\u001b[0m\n\u001b[0;32m    935\u001b[0m \u001b[38;5;28;01mtry\u001b[39;00m:\n\u001b[1;32m--> 936\u001b[0m     retries \u001b[38;5;241m=\u001b[39m retries\u001b[38;5;241m.\u001b[39mincrement(method, url, response\u001b[38;5;241m=\u001b[39mresponse, _pool\u001b[38;5;241m=\u001b[39m\u001b[38;5;28mself\u001b[39m)\n\u001b[0;32m    937\u001b[0m \u001b[38;5;28;01mexcept\u001b[39;00m MaxRetryError:\n",
      "File \u001b[1;32mc:\\Users\\rande\\anaconda3\\Lib\\site-packages\\urllib3\\util\\retry.py:515\u001b[0m, in \u001b[0;36mRetry.increment\u001b[1;34m(self, method, url, response, error, _pool, _stacktrace)\u001b[0m\n\u001b[0;32m    514\u001b[0m     reason \u001b[38;5;241m=\u001b[39m error \u001b[38;5;129;01mor\u001b[39;00m ResponseError(cause)\n\u001b[1;32m--> 515\u001b[0m     \u001b[38;5;28;01mraise\u001b[39;00m MaxRetryError(_pool, url, reason) \u001b[38;5;28;01mfrom\u001b[39;00m \u001b[38;5;21;01mreason\u001b[39;00m  \u001b[38;5;66;03m# type: ignore[arg-type]\u001b[39;00m\n\u001b[0;32m    517\u001b[0m log\u001b[38;5;241m.\u001b[39mdebug(\u001b[38;5;124m\"\u001b[39m\u001b[38;5;124mIncremented Retry for (url=\u001b[39m\u001b[38;5;124m'\u001b[39m\u001b[38;5;132;01m%s\u001b[39;00m\u001b[38;5;124m'\u001b[39m\u001b[38;5;124m): \u001b[39m\u001b[38;5;132;01m%r\u001b[39;00m\u001b[38;5;124m\"\u001b[39m, url, new_retry)\n",
      "\u001b[1;31mMaxRetryError\u001b[0m: HTTPSConnectionPool(host='archive-api.open-meteo.com', port=443): Max retries exceeded with url: /v1/archive?latitude=51.79&longitude=10.62&start_date=1986-01-01&end_date=2020-12-31&timezone=Europe%2FBerlin&daily=rain_sum&models=cerra&format=flatbuffers (Caused by ResponseError('too many 500 error responses'))",
      "\nDuring handling of the above exception, another exception occurred:\n",
      "\u001b[1;31mRetryError\u001b[0m                                Traceback (most recent call last)",
      "Cell \u001b[1;32mIn[40], line 1\u001b[0m\n\u001b[1;32m----> 1\u001b[0m C_open_meto_50_years_rainfall \u001b[38;5;241m=\u001b[39m daily_open_meteo_data(\u001b[38;5;124m\"\u001b[39m\u001b[38;5;124m1986-01-01\u001b[39m\u001b[38;5;124m\"\u001b[39m, \u001b[38;5;124m\"\u001b[39m\u001b[38;5;124m2020-12-31\u001b[39m\u001b[38;5;124m\"\u001b[39m,[\u001b[38;5;241m51.79\u001b[39m], [\u001b[38;5;241m10.62\u001b[39m],\u001b[38;5;124m\"\u001b[39m\u001b[38;5;124mrain_sum\u001b[39m\u001b[38;5;124m\"\u001b[39m,[\u001b[38;5;124m\"\u001b[39m\u001b[38;5;124mcerra\u001b[39m\u001b[38;5;124m\"\u001b[39m])\n\u001b[0;32m      2\u001b[0m C_open_meto_50_years_rainfall\u001b[38;5;241m.\u001b[39mfillna(\u001b[38;5;241m0\u001b[39m,inplace\u001b[38;5;241m=\u001b[39m\u001b[38;5;28;01mTrue\u001b[39;00m) \u001b[38;5;66;03m# to be sure it do not contain NAN values\u001b[39;00m\n\u001b[0;32m      3\u001b[0m calculate_accuracy( Dwd_50_year_data[\u001b[38;5;124m\"\u001b[39m\u001b[38;5;124m1986-01-01\u001b[39m\u001b[38;5;124m\"\u001b[39m:\u001b[38;5;124m\"\u001b[39m\u001b[38;5;124m2020-12-31\u001b[39m\u001b[38;5;124m\"\u001b[39m][\u001b[38;5;124m\"\u001b[39m\u001b[38;5;124mdaily rainfall\u001b[39m\u001b[38;5;124m\"\u001b[39m],C_open_meto_50_years_rainfall[\u001b[38;5;124m\"\u001b[39m\u001b[38;5;124mopen_meteo\u001b[39m\u001b[38;5;124m\"\u001b[39m])\n",
      "Cell \u001b[1;32mIn[3], line 20\u001b[0m, in \u001b[0;36mdaily_open_meteo_data\u001b[1;34m(start_date, end_date, lat, long, variable, model)\u001b[0m\n\u001b[0;32m     10\u001b[0m url \u001b[38;5;241m=\u001b[39m \u001b[38;5;124m\"\u001b[39m\u001b[38;5;124mhttps://archive-api.open-meteo.com/v1/archive\u001b[39m\u001b[38;5;124m\"\u001b[39m\n\u001b[0;32m     11\u001b[0m params \u001b[38;5;241m=\u001b[39m {\n\u001b[0;32m     12\u001b[0m \u001b[38;5;124m\"\u001b[39m\u001b[38;5;124mlatitude\u001b[39m\u001b[38;5;124m\"\u001b[39m: lat,\n\u001b[0;32m     13\u001b[0m \u001b[38;5;124m\"\u001b[39m\u001b[38;5;124mlongitude\u001b[39m\u001b[38;5;124m\"\u001b[39m: long,\n\u001b[1;32m   (...)\u001b[0m\n\u001b[0;32m     18\u001b[0m \u001b[38;5;124m\"\u001b[39m\u001b[38;5;124mmodels\u001b[39m\u001b[38;5;124m\"\u001b[39m: model\n\u001b[0;32m     19\u001b[0m }\n\u001b[1;32m---> 20\u001b[0m responses \u001b[38;5;241m=\u001b[39m openmeteo\u001b[38;5;241m.\u001b[39mweather_api(url, params\u001b[38;5;241m=\u001b[39mparams)\n\u001b[0;32m     21\u001b[0m response \u001b[38;5;241m=\u001b[39m responses[\u001b[38;5;241m0\u001b[39m]\n\u001b[0;32m     22\u001b[0m \u001b[38;5;66;03m# Process daily data. The order of variables needs to be the same as requested.\u001b[39;00m\n",
      "File \u001b[1;32mc:\\Users\\rande\\anaconda3\\Lib\\site-packages\\openmeteo_requests\\Client.py:54\u001b[0m, in \u001b[0;36mClient.weather_api\u001b[1;34m(self, url, params, method, verify)\u001b[0m\n\u001b[0;32m     50\u001b[0m \u001b[38;5;28;01mdef\u001b[39;00m \u001b[38;5;21mweather_api\u001b[39m(\n\u001b[0;32m     51\u001b[0m     \u001b[38;5;28mself\u001b[39m, url: \u001b[38;5;28mstr\u001b[39m, params: \u001b[38;5;28many\u001b[39m, method: \u001b[38;5;28mstr\u001b[39m \u001b[38;5;241m=\u001b[39m \u001b[38;5;124m\"\u001b[39m\u001b[38;5;124mGET\u001b[39m\u001b[38;5;124m\"\u001b[39m, verify: \u001b[38;5;28mbool\u001b[39m \u001b[38;5;241m|\u001b[39m \u001b[38;5;28mstr\u001b[39m \u001b[38;5;241m|\u001b[39m \u001b[38;5;28;01mNone\u001b[39;00m \u001b[38;5;241m=\u001b[39m \u001b[38;5;28;01mNone\u001b[39;00m\n\u001b[0;32m     52\u001b[0m ) \u001b[38;5;241m-\u001b[39m\u001b[38;5;241m>\u001b[39m \u001b[38;5;28mlist\u001b[39m[WeatherApiResponse]:\n\u001b[0;32m     53\u001b[0m \u001b[38;5;250m    \u001b[39m\u001b[38;5;124;03m\"\"\"Get and decode as weather api\"\"\"\u001b[39;00m\n\u001b[1;32m---> 54\u001b[0m     \u001b[38;5;28;01mreturn\u001b[39;00m \u001b[38;5;28mself\u001b[39m\u001b[38;5;241m.\u001b[39m_get(WeatherApiResponse, url, params, method, verify)\n",
      "File \u001b[1;32mc:\\Users\\rande\\anaconda3\\Lib\\site-packages\\openmeteo_requests\\Client.py:31\u001b[0m, in \u001b[0;36mClient._get\u001b[1;34m(self, cls, url, params, method, verify)\u001b[0m\n\u001b[0;32m     29\u001b[0m     response \u001b[38;5;241m=\u001b[39m \u001b[38;5;28mself\u001b[39m\u001b[38;5;241m.\u001b[39msession\u001b[38;5;241m.\u001b[39mrequest(\u001b[38;5;124m\"\u001b[39m\u001b[38;5;124mPOST\u001b[39m\u001b[38;5;124m\"\u001b[39m, url, data\u001b[38;5;241m=\u001b[39mparams, verify\u001b[38;5;241m=\u001b[39mverify)\n\u001b[0;32m     30\u001b[0m \u001b[38;5;28;01melse\u001b[39;00m:\n\u001b[1;32m---> 31\u001b[0m     response \u001b[38;5;241m=\u001b[39m \u001b[38;5;28mself\u001b[39m\u001b[38;5;241m.\u001b[39msession\u001b[38;5;241m.\u001b[39mrequest(\u001b[38;5;124m\"\u001b[39m\u001b[38;5;124mGET\u001b[39m\u001b[38;5;124m\"\u001b[39m, url, params\u001b[38;5;241m=\u001b[39mparams, verify\u001b[38;5;241m=\u001b[39mverify)\n\u001b[0;32m     33\u001b[0m \u001b[38;5;28;01mif\u001b[39;00m response\u001b[38;5;241m.\u001b[39mstatus_code \u001b[38;5;129;01min\u001b[39;00m [\u001b[38;5;241m400\u001b[39m, \u001b[38;5;241m429\u001b[39m]:\n\u001b[0;32m     34\u001b[0m     response_body \u001b[38;5;241m=\u001b[39m response\u001b[38;5;241m.\u001b[39mjson()\n",
      "File \u001b[1;32mc:\\Users\\rande\\anaconda3\\Lib\\site-packages\\requests_cache\\session.py:183\u001b[0m, in \u001b[0;36mCacheMixin.request\u001b[1;34m(self, method, url, headers, expire_after, only_if_cached, refresh, force_refresh, *args, **kwargs)\u001b[0m\n\u001b[0;32m    181\u001b[0m headers \u001b[38;5;241m=\u001b[39m set_request_headers(headers, expire_after, only_if_cached, refresh, force_refresh)\n\u001b[0;32m    182\u001b[0m \u001b[38;5;28;01mwith\u001b[39;00m patch_form_boundary() \u001b[38;5;28;01mif\u001b[39;00m kwargs\u001b[38;5;241m.\u001b[39mget(\u001b[38;5;124m'\u001b[39m\u001b[38;5;124mfiles\u001b[39m\u001b[38;5;124m'\u001b[39m) \u001b[38;5;28;01melse\u001b[39;00m nullcontext():\n\u001b[1;32m--> 183\u001b[0m     \u001b[38;5;28;01mreturn\u001b[39;00m \u001b[38;5;28msuper\u001b[39m()\u001b[38;5;241m.\u001b[39mrequest(method, url, \u001b[38;5;241m*\u001b[39margs, headers\u001b[38;5;241m=\u001b[39mheaders, \u001b[38;5;241m*\u001b[39m\u001b[38;5;241m*\u001b[39mkwargs)\n",
      "File \u001b[1;32mc:\\Users\\rande\\anaconda3\\Lib\\site-packages\\requests\\sessions.py:589\u001b[0m, in \u001b[0;36mSession.request\u001b[1;34m(self, method, url, params, data, headers, cookies, files, auth, timeout, allow_redirects, proxies, hooks, stream, verify, cert, json)\u001b[0m\n\u001b[0;32m    584\u001b[0m send_kwargs \u001b[38;5;241m=\u001b[39m {\n\u001b[0;32m    585\u001b[0m     \u001b[38;5;124m\"\u001b[39m\u001b[38;5;124mtimeout\u001b[39m\u001b[38;5;124m\"\u001b[39m: timeout,\n\u001b[0;32m    586\u001b[0m     \u001b[38;5;124m\"\u001b[39m\u001b[38;5;124mallow_redirects\u001b[39m\u001b[38;5;124m\"\u001b[39m: allow_redirects,\n\u001b[0;32m    587\u001b[0m }\n\u001b[0;32m    588\u001b[0m send_kwargs\u001b[38;5;241m.\u001b[39mupdate(settings)\n\u001b[1;32m--> 589\u001b[0m resp \u001b[38;5;241m=\u001b[39m \u001b[38;5;28mself\u001b[39m\u001b[38;5;241m.\u001b[39msend(prep, \u001b[38;5;241m*\u001b[39m\u001b[38;5;241m*\u001b[39msend_kwargs)\n\u001b[0;32m    591\u001b[0m \u001b[38;5;28;01mreturn\u001b[39;00m resp\n",
      "File \u001b[1;32mc:\\Users\\rande\\anaconda3\\Lib\\site-packages\\requests_cache\\session.py:230\u001b[0m, in \u001b[0;36mCacheMixin.send\u001b[1;34m(self, request, expire_after, only_if_cached, refresh, force_refresh, **kwargs)\u001b[0m\n\u001b[0;32m    228\u001b[0m     response \u001b[38;5;241m=\u001b[39m \u001b[38;5;28mself\u001b[39m\u001b[38;5;241m.\u001b[39m_resend(request, actions, cached_response, \u001b[38;5;241m*\u001b[39m\u001b[38;5;241m*\u001b[39mkwargs)  \u001b[38;5;66;03m# type: ignore\u001b[39;00m\n\u001b[0;32m    229\u001b[0m \u001b[38;5;28;01melif\u001b[39;00m actions\u001b[38;5;241m.\u001b[39msend_request:\n\u001b[1;32m--> 230\u001b[0m     response \u001b[38;5;241m=\u001b[39m \u001b[38;5;28mself\u001b[39m\u001b[38;5;241m.\u001b[39m_send_and_cache(request, actions, cached_response, \u001b[38;5;241m*\u001b[39m\u001b[38;5;241m*\u001b[39mkwargs)\n\u001b[0;32m    231\u001b[0m \u001b[38;5;28;01melse\u001b[39;00m:\n\u001b[0;32m    232\u001b[0m     response \u001b[38;5;241m=\u001b[39m cached_response  \u001b[38;5;66;03m# type: ignore  # Guaranteed to be non-None by this point\u001b[39;00m\n",
      "File \u001b[1;32mc:\\Users\\rande\\anaconda3\\Lib\\site-packages\\requests_cache\\session.py:254\u001b[0m, in \u001b[0;36mCacheMixin._send_and_cache\u001b[1;34m(self, request, actions, cached_response, **kwargs)\u001b[0m\n\u001b[0;32m    250\u001b[0m \u001b[38;5;250m\u001b[39m\u001b[38;5;124;03m\"\"\"Send a request and cache the response, unless disabled by settings or headers.\u001b[39;00m\n\u001b[0;32m    251\u001b[0m \u001b[38;5;124;03mIf applicable, also handle conditional requests.\u001b[39;00m\n\u001b[0;32m    252\u001b[0m \u001b[38;5;124;03m\"\"\"\u001b[39;00m\n\u001b[0;32m    253\u001b[0m request \u001b[38;5;241m=\u001b[39m actions\u001b[38;5;241m.\u001b[39mupdate_request(request)\n\u001b[1;32m--> 254\u001b[0m response \u001b[38;5;241m=\u001b[39m \u001b[38;5;28msuper\u001b[39m()\u001b[38;5;241m.\u001b[39msend(request, \u001b[38;5;241m*\u001b[39m\u001b[38;5;241m*\u001b[39mkwargs)\n\u001b[0;32m    255\u001b[0m actions\u001b[38;5;241m.\u001b[39mupdate_from_response(response)\n\u001b[0;32m    257\u001b[0m \u001b[38;5;28;01mif\u001b[39;00m \u001b[38;5;129;01mnot\u001b[39;00m actions\u001b[38;5;241m.\u001b[39mskip_write:\n",
      "File \u001b[1;32mc:\\Users\\rande\\anaconda3\\Lib\\site-packages\\requests\\sessions.py:703\u001b[0m, in \u001b[0;36mSession.send\u001b[1;34m(self, request, **kwargs)\u001b[0m\n\u001b[0;32m    700\u001b[0m start \u001b[38;5;241m=\u001b[39m preferred_clock()\n\u001b[0;32m    702\u001b[0m \u001b[38;5;66;03m# Send the request\u001b[39;00m\n\u001b[1;32m--> 703\u001b[0m r \u001b[38;5;241m=\u001b[39m adapter\u001b[38;5;241m.\u001b[39msend(request, \u001b[38;5;241m*\u001b[39m\u001b[38;5;241m*\u001b[39mkwargs)\n\u001b[0;32m    705\u001b[0m \u001b[38;5;66;03m# Total elapsed time of the request (approximately)\u001b[39;00m\n\u001b[0;32m    706\u001b[0m elapsed \u001b[38;5;241m=\u001b[39m preferred_clock() \u001b[38;5;241m-\u001b[39m start\n",
      "File \u001b[1;32mc:\\Users\\rande\\anaconda3\\Lib\\site-packages\\requests\\adapters.py:510\u001b[0m, in \u001b[0;36mHTTPAdapter.send\u001b[1;34m(self, request, stream, timeout, verify, cert, proxies)\u001b[0m\n\u001b[0;32m    507\u001b[0m         \u001b[38;5;28;01mraise\u001b[39;00m ConnectTimeout(e, request\u001b[38;5;241m=\u001b[39mrequest)\n\u001b[0;32m    509\u001b[0m \u001b[38;5;28;01mif\u001b[39;00m \u001b[38;5;28misinstance\u001b[39m(e\u001b[38;5;241m.\u001b[39mreason, ResponseError):\n\u001b[1;32m--> 510\u001b[0m     \u001b[38;5;28;01mraise\u001b[39;00m RetryError(e, request\u001b[38;5;241m=\u001b[39mrequest)\n\u001b[0;32m    512\u001b[0m \u001b[38;5;28;01mif\u001b[39;00m \u001b[38;5;28misinstance\u001b[39m(e\u001b[38;5;241m.\u001b[39mreason, _ProxyError):\n\u001b[0;32m    513\u001b[0m     \u001b[38;5;28;01mraise\u001b[39;00m ProxyError(e, request\u001b[38;5;241m=\u001b[39mrequest)\n",
      "\u001b[1;31mRetryError\u001b[0m: HTTPSConnectionPool(host='archive-api.open-meteo.com', port=443): Max retries exceeded with url: /v1/archive?latitude=51.79&longitude=10.62&start_date=1986-01-01&end_date=2020-12-31&timezone=Europe%2FBerlin&daily=rain_sum&models=cerra&format=flatbuffers (Caused by ResponseError('too many 500 error responses'))"
     ]
    }
   ],
   "source": [
    "C_open_meto_50_years_rainfall = daily_open_meteo_data(\"1986-01-01\", \"2020-12-31\",[51.79], [10.62],\"rain_sum\",[\"cerra\"])\n",
    "C_open_meto_50_years_rainfall.fillna(0,inplace=True) # to be sure it do not contain NAN values\n",
    "calculate_accuracy( Dwd_50_year_data[\"1986-01-01\":\"2020-12-31\"][\"daily rainfall\"],C_open_meto_50_years_rainfall[\"open_meteo\"])"
   ]
  },
  {
   "cell_type": "code",
   "execution_count": null,
   "metadata": {},
   "outputs": [],
   "source": []
  }
 ],
 "metadata": {
  "kernelspec": {
   "display_name": "base",
   "language": "python",
   "name": "python3"
  },
  "language_info": {
   "codemirror_mode": {
    "name": "ipython",
    "version": 3
   },
   "file_extension": ".py",
   "mimetype": "text/x-python",
   "name": "python",
   "nbconvert_exporter": "python",
   "pygments_lexer": "ipython3",
   "version": "3.11.7"
  }
 },
 "nbformat": 4,
 "nbformat_minor": 2
}
