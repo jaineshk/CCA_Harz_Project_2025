{
 "cells": [
  {
   "cell_type": "code",
   "execution_count": 2,
   "metadata": {},
   "outputs": [],
   "source": [
    "import pandas as pd\n",
    "import matplotlib.pyplot as plt\n",
    "import numpy as np\n",
    "import openmeteo_requests\n",
    "import requests_cache\n",
    "from retry_requests import retry\n",
    "from sklearn.metrics import mean_squared_error"
   ]
  },
  {
   "cell_type": "code",
   "execution_count": 3,
   "metadata": {},
   "outputs": [],
   "source": [
    "# resuable code\n",
    "\n",
    "cache_session = requests_cache.CachedSession('.cache', expire_after = 3600)\n",
    "retry_session = retry(cache_session, retries = 5, backoff_factor = 0.2)\n",
    "openmeteo = openmeteo_requests.Client(session = retry_session)\n",
    "\n",
    "# Function for frequent use for houlrly data\n",
    "#https://open-meteo.com/en/docs/historical-weather-api#start_date=1950-01-01&end_date=2023-12-31&hourly=&daily=temperature_2m_mean&timezone=Europe%2FBerlin&models=era5_seamless\n",
    "def daily_open_meteo_data(start_date:str, end_date:str, lat:list, long:list, variable, model:list):\n",
    "\turl = \"https://archive-api.open-meteo.com/v1/archive\"\n",
    "\tparams = {\n",
    "\t\"latitude\": lat,\n",
    "\t\"longitude\": long,\n",
    "\t\"start_date\":start_date,\n",
    "\t\"end_date\": end_date,\n",
    "\t\"timezone\": \"Europe/Berlin\",\n",
    "\t\"daily\": variable,\n",
    "\t\"models\": model\n",
    "\t}\n",
    "\tresponses = openmeteo.weather_api(url, params=params)\n",
    "\tresponse = responses[0]\n",
    "\t# Process daily data. The order of variables needs to be the same as requested.\n",
    "\tdaily = response.Daily()\n",
    "\tdaily_sum = daily.Variables(0).ValuesAsNumpy()\n",
    "\n",
    "\tdaily_data = {\"date\": pd.date_range(\n",
    "\tstart = pd.to_datetime(daily.Time(), unit = \"s\", utc = True),\n",
    "\tend = pd.to_datetime(daily.TimeEnd(), unit = \"s\", utc = True),\n",
    "\tfreq = pd.Timedelta(seconds = daily.Interval()),\n",
    "\tinclusive = \"left\"\n",
    "\t)}\n",
    "\tdaily_data[\"open_meteo\"] = daily_sum\n",
    "\n",
    "\tdaily_dataframe = pd.DataFrame(data = daily_data)\n",
    "\tif daily_dataframe.empty:\n",
    "\t\treturn print(\"The daily limit reached\")\n",
    "\treturn daily_dataframe\n",
    "\n",
    "def calculate_accuracy(original_data, predicted_data):\n",
    "\tmbe = np.mean(predicted_data - original_data)\n",
    "\trmse = np.sqrt(mean_squared_error(original_data, predicted_data))\n",
    "\tcorrelation = np.corrcoef(original_data, predicted_data)[0, 1]\n",
    "\n",
    "\t# Print results\n",
    "\tprint(f\"Mean Bias Error (MBE): {mbe}\")\n",
    "\tprint(f\"Root Mean Square Error (RMSE): {rmse}\")\n",
    "\tprint(f\"Correlation: {correlation}\")\n",
    "\t\n",
    "\n",
    "# Function for frequent use for houlrly data\n",
    "# the Function is take from this source.\n",
    "#https://open-meteo.com/en/docs/historical-weather-api#start_date=1950-01-01&end_date=2023-12-31&hourly=&daily=temperature_2m_mean&timezone=Europe%2FBerlin&models=era5_seamless\n",
    "def Hourly_open_meteo_data(start_date:str, end_date:str, lat:list, long:list, variable):\n",
    "\turl = \"https://archive-api.open-meteo.com/v1/archive\"\n",
    "\tparams = {\n",
    "\t\"latitude\": lat,\n",
    "\t\"longitude\": long,\n",
    "\t\"start_date\":start_date,\n",
    "\t\"end_date\": end_date,\n",
    "\t\"timezone\": \"Europe/Berlin\",\n",
    "\t\"hourly\": variable,\n",
    "\t\"models\": [\"era5_seamless\"]\n",
    "\t}\n",
    "\tresponses = openmeteo.weather_api(url, params=params)\n",
    "\tresponse = responses[0]\n",
    "\t# Process daily data. The order of variables needs to be the same as requested.\n",
    "\thourly = response.Hourly()\n",
    "\thourly_snow_depth = hourly.Variables(0).ValuesAsNumpy()\n",
    "\n",
    "\thourly_data = {\"date\": pd.date_range(\n",
    "\t\tstart = pd.to_datetime(hourly.Time(), unit = \"s\", utc = True),\n",
    "\t\tend = pd.to_datetime(hourly.TimeEnd(), unit = \"s\", utc = True),\n",
    "\t\tfreq = pd.Timedelta(seconds = hourly.Interval()),\n",
    "\t\tinclusive = \"left\"\n",
    "\t)}\n",
    "\thourly_data[\"open_meteo\"] = hourly_snow_depth\n",
    "\n",
    "\thourly_dataframe = pd.DataFrame(data = hourly_data)\n",
    "\n",
    "\tif hourly_dataframe.empty:\n",
    "\t\treturn print(\"The daily limit reached\")\n",
    "\treturn hourly_dataframe\n",
    "\n",
    "\n",
    "\n",
    "# plots\n",
    "def plot_my_bargraph(length:int,breath:int,xaxis,yaxis,title:str,xlabel:str,ylabel:str, widthv=0.5, colorv='blue',xtick = False):\n",
    "    plt.figure(figsize=(length, breath))\n",
    "    plt.bar(xaxis, yaxis, width = widthv , color=colorv)\n",
    "    plt.title(title)\n",
    "    plt.xlabel(xlabel)\n",
    "    plt.ylabel(ylabel)\n",
    "    plt.grid(axis='y')\n",
    "    if xtick == True:\n",
    "        plt.xticks(xaxis,rotation=45,fontsize=10)\n",
    "    plt.tight_layout()\n",
    "    plt.show()\n",
    "\n",
    "\n",
    "\n",
    "def plot_my_bargraph_withnumbers(length:int,breath:int,xaxis,yaxis,title:str,xlabel:str,ylabel:str, widthv=0.5, colorv='blue'):\n",
    "    plt.figure(figsize=(length, breath))\n",
    "    plt.bar(xaxis, yaxis, width = widthv , color=colorv)\n",
    "    plt.title(title)\n",
    "    plt.xlabel(xlabel)\n",
    "    plt.ylabel(ylabel)\n",
    "    plt.grid(axis='y')\n",
    "    for i, value in enumerate(yaxis):\n",
    "        plt.text(xaxis[i], value + 1, str(value), ha='center', fontsize=9)\n",
    "    plt.tight_layout()\n",
    "    plt.xticks(xaxis,rotation=45,fontsize=10)\n",
    "    plt.show()"
   ]
  },
  {
   "cell_type": "markdown",
   "metadata": {},
   "source": [
    "### Cleaning the data set of DWD,"
   ]
  },
  {
   "cell_type": "code",
   "execution_count": 4,
   "metadata": {},
   "outputs": [],
   "source": [
    "Dwd_50_year_data = pd.read_csv(r'.\\Taglich\\50_years_data.csv',sep= ';')"
   ]
  },
  {
   "cell_type": "code",
   "execution_count": 5,
   "metadata": {},
   "outputs": [],
   "source": [
    "new_column = {'MESS_DATUM':'date','  FX':'Maximum wind peak ','  FM':'Daily average wind speed m/s',' RSK':'daily rainfall','RSKF':'daily form of precipitation',' TMK':'Daily average temperature',}\n",
    "drop = ['QN_3','QN_4',' SDK','SHK_TAG', '  NM', ' VPM', '  PM', ' UPM', ' TNK', ' TGK', 'eor', ' TXK','STATIONS_ID']\n",
    "Dwd_50_year_data.drop(columns=drop,inplace=True)"
   ]
  },
  {
   "cell_type": "code",
   "execution_count": 6,
   "metadata": {},
   "outputs": [
    {
     "data": {
      "text/html": [
       "<div>\n",
       "<style scoped>\n",
       "    .dataframe tbody tr th:only-of-type {\n",
       "        vertical-align: middle;\n",
       "    }\n",
       "\n",
       "    .dataframe tbody tr th {\n",
       "        vertical-align: top;\n",
       "    }\n",
       "\n",
       "    .dataframe thead th {\n",
       "        text-align: right;\n",
       "    }\n",
       "</style>\n",
       "<table border=\"1\" class=\"dataframe\">\n",
       "  <thead>\n",
       "    <tr style=\"text-align: right;\">\n",
       "      <th></th>\n",
       "      <th>Maximum wind peak</th>\n",
       "      <th>Daily average wind speed m/s</th>\n",
       "      <th>daily rainfall</th>\n",
       "      <th>daily form of precipitation</th>\n",
       "      <th>Daily average temperature</th>\n",
       "    </tr>\n",
       "    <tr>\n",
       "      <th>date</th>\n",
       "      <th></th>\n",
       "      <th></th>\n",
       "      <th></th>\n",
       "      <th></th>\n",
       "      <th></th>\n",
       "    </tr>\n",
       "  </thead>\n",
       "  <tbody>\n",
       "    <tr>\n",
       "      <th>1896-01-01</th>\n",
       "      <td>0.0</td>\n",
       "      <td>0.0</td>\n",
       "      <td>0.0</td>\n",
       "      <td>0</td>\n",
       "      <td>-6.7</td>\n",
       "    </tr>\n",
       "    <tr>\n",
       "      <th>1896-01-02</th>\n",
       "      <td>0.0</td>\n",
       "      <td>0.0</td>\n",
       "      <td>2.1</td>\n",
       "      <td>0</td>\n",
       "      <td>-2.2</td>\n",
       "    </tr>\n",
       "    <tr>\n",
       "      <th>1896-01-03</th>\n",
       "      <td>0.0</td>\n",
       "      <td>0.0</td>\n",
       "      <td>1.8</td>\n",
       "      <td>0</td>\n",
       "      <td>0.1</td>\n",
       "    </tr>\n",
       "    <tr>\n",
       "      <th>1896-01-04</th>\n",
       "      <td>0.0</td>\n",
       "      <td>0.0</td>\n",
       "      <td>0.9</td>\n",
       "      <td>0</td>\n",
       "      <td>-4.0</td>\n",
       "    </tr>\n",
       "    <tr>\n",
       "      <th>1896-01-05</th>\n",
       "      <td>0.0</td>\n",
       "      <td>0.0</td>\n",
       "      <td>0.0</td>\n",
       "      <td>0</td>\n",
       "      <td>-3.2</td>\n",
       "    </tr>\n",
       "    <tr>\n",
       "      <th>...</th>\n",
       "      <td>...</td>\n",
       "      <td>...</td>\n",
       "      <td>...</td>\n",
       "      <td>...</td>\n",
       "      <td>...</td>\n",
       "    </tr>\n",
       "    <tr>\n",
       "      <th>2023-12-27</th>\n",
       "      <td>32.5</td>\n",
       "      <td>13.7</td>\n",
       "      <td>1.4</td>\n",
       "      <td>8</td>\n",
       "      <td>-1.2</td>\n",
       "    </tr>\n",
       "    <tr>\n",
       "      <th>2023-12-28</th>\n",
       "      <td>33.0</td>\n",
       "      <td>22.6</td>\n",
       "      <td>1.3</td>\n",
       "      <td>8</td>\n",
       "      <td>0.8</td>\n",
       "    </tr>\n",
       "    <tr>\n",
       "      <th>2023-12-29</th>\n",
       "      <td>36.9</td>\n",
       "      <td>22.9</td>\n",
       "      <td>21.7</td>\n",
       "      <td>4</td>\n",
       "      <td>1.2</td>\n",
       "    </tr>\n",
       "    <tr>\n",
       "      <th>2023-12-30</th>\n",
       "      <td>34.5</td>\n",
       "      <td>17.8</td>\n",
       "      <td>0.8</td>\n",
       "      <td>8</td>\n",
       "      <td>-0.5</td>\n",
       "    </tr>\n",
       "    <tr>\n",
       "      <th>2023-12-31</th>\n",
       "      <td>30.4</td>\n",
       "      <td>18.0</td>\n",
       "      <td>0.1</td>\n",
       "      <td>8</td>\n",
       "      <td>0.3</td>\n",
       "    </tr>\n",
       "  </tbody>\n",
       "</table>\n",
       "<p>45827 rows × 5 columns</p>\n",
       "</div>"
      ],
      "text/plain": [
       "            Maximum wind peak   Daily average wind speed m/s  daily rainfall  \\\n",
       "date                                                                           \n",
       "1896-01-01                 0.0                           0.0             0.0   \n",
       "1896-01-02                 0.0                           0.0             2.1   \n",
       "1896-01-03                 0.0                           0.0             1.8   \n",
       "1896-01-04                 0.0                           0.0             0.9   \n",
       "1896-01-05                 0.0                           0.0             0.0   \n",
       "...                        ...                           ...             ...   \n",
       "2023-12-27                32.5                          13.7             1.4   \n",
       "2023-12-28                33.0                          22.6             1.3   \n",
       "2023-12-29                36.9                          22.9            21.7   \n",
       "2023-12-30                34.5                          17.8             0.8   \n",
       "2023-12-31                30.4                          18.0             0.1   \n",
       "\n",
       "            daily form of precipitation  Daily average temperature  \n",
       "date                                                                \n",
       "1896-01-01                            0                       -6.7  \n",
       "1896-01-02                            0                       -2.2  \n",
       "1896-01-03                            0                        0.1  \n",
       "1896-01-04                            0                       -4.0  \n",
       "1896-01-05                            0                       -3.2  \n",
       "...                                 ...                        ...  \n",
       "2023-12-27                            8                       -1.2  \n",
       "2023-12-28                            8                        0.8  \n",
       "2023-12-29                            4                        1.2  \n",
       "2023-12-30                            8                       -0.5  \n",
       "2023-12-31                            8                        0.3  \n",
       "\n",
       "[45827 rows x 5 columns]"
      ]
     },
     "execution_count": 6,
     "metadata": {},
     "output_type": "execute_result"
    }
   ],
   "source": [
    "drop = ['QN_3','QN_4',' SDK','SHK_TAG', '  NM', ' VPM', '  PM', ' UPM', ' TNK', ' TGK', 'eor', ' TXK','STATIONS_ID']\n",
    "Dwd_50_year_data.rename(columns=new_column, inplace=True)\n",
    "Dwd_50_year_data['date'] = pd.to_datetime(Dwd_50_year_data['date'], format='%Y%m%d')\n",
    "Dwd_50_year_data.apply(pd.to_numeric)\n",
    "Dwd_50_year_data.replace(to_replace= -999.0, value=0,inplace=True)\n",
    "Dwd_50_year_data.replace(to_replace= -999, value=0,inplace=True)\n",
    "Dwd_50_year_data.set_index('date',inplace=True)\n",
    "Dwd_50_year_data"
   ]
  },
  {
   "cell_type": "markdown",
   "metadata": {},
   "source": [
    "### Calclutating the accuracy of model \"Era5_seamless\" using RMSE and Co_relation"
   ]
  },
  {
   "cell_type": "markdown",
   "metadata": {},
   "source": [
    "### For tempreature"
   ]
  },
  {
   "cell_type": "code",
   "execution_count": 7,
   "metadata": {},
   "outputs": [
    {
     "name": "stdout",
     "output_type": "stream",
     "text": [
      "Mean Bias Error (MBE): nan\n",
      "Root Mean Square Error (RMSE): 2.395438885439637\n",
      "Correlation: 0.9515450721927863\n"
     ]
    }
   ],
   "source": [
    "open_meto_50_years_Temp_dataframe = daily_open_meteo_data(\"1950-01-01\", \"2023-12-31\",[51.79], [10.62],\"temperature_2m_mean\",[\"era5_seamless\"])\n",
    "calculate_accuracy( Dwd_50_year_data[\"1950-01-01\":\"2023-12-31\"][\"Daily average temperature\"],open_meto_50_years_Temp_dataframe[\"open_meteo\"])"
   ]
  },
  {
   "cell_type": "markdown",
   "metadata": {},
   "source": [
    "### Precipitation"
   ]
  },
  {
   "cell_type": "code",
   "execution_count": 10,
   "metadata": {},
   "outputs": [
    {
     "name": "stdout",
     "output_type": "stream",
     "text": [
      "Mean Bias Error (MBE): nan\n",
      "Root Mean Square Error (RMSE): 4.668683925941836\n",
      "Correlation: 0.2688971588581231\n"
     ]
    }
   ],
   "source": [
    "open_meto_50_years_precipitation = daily_open_meteo_data(\"1950-01-01\", \"2023-12-31\",[51.79], [10.62],\"precipitation_sum\",[\"era5_seamless\"])\n",
    "calculate_accuracy( Dwd_50_year_data[\"1950-01-01\":\"2023-12-31\"][\"daily form of precipitation\"],open_meto_50_years_precipitation[\"open_meteo\"])"
   ]
  },
  {
   "cell_type": "markdown",
   "metadata": {},
   "source": [
    "### RainFall"
   ]
  },
  {
   "cell_type": "code",
   "execution_count": 12,
   "metadata": {},
   "outputs": [
    {
     "name": "stdout",
     "output_type": "stream",
     "text": [
      "Mean Bias Error (MBE): nan\n",
      "Root Mean Square Error (RMSE): 6.880847891969073\n",
      "Correlation: 0.6265610455756389\n"
     ]
    }
   ],
   "source": [
    "open_meto_50_years_precipitation = daily_open_meteo_data(\"1950-01-01\", \"2023-12-31\",[51.79], [10.62],\"rain_sum\",[\"era5_seamless\"])\n",
    "calculate_accuracy( Dwd_50_year_data[\"1950-01-01\":\"2023-12-31\"][\"daily rainfall\"],open_meto_50_years_precipitation[\"open_meteo\"])"
   ]
  },
  {
   "cell_type": "markdown",
   "metadata": {},
   "source": [
    "## Calclutating the accuracy of model \"Cerra\" using RMSE and Co_relation\n",
    "### for the cerra model the data is only avaialable between 1985 to June 2021 \n"
   ]
  },
  {
   "cell_type": "markdown",
   "metadata": {},
   "source": [
    "### Tempreture"
   ]
  },
  {
   "cell_type": "markdown",
   "metadata": {},
   "source": [
    "### Handling the error one Nan value and replacing it with 0"
   ]
  },
  {
   "cell_type": "code",
   "execution_count": 24,
   "metadata": {},
   "outputs": [],
   "source": [
    "C_open_meto_50_years_Temp_dataframe = daily_open_meteo_data(\"1986-01-01\", \"2020-12-31\",[51.79], [10.62],\"temperature_2m_mean\",[\"cerra\"])"
   ]
  },
  {
   "cell_type": "code",
   "execution_count": 25,
   "metadata": {},
   "outputs": [
    {
     "data": {
      "text/plain": [
       "date          0\n",
       "open_meteo    1\n",
       "dtype: int64"
      ]
     },
     "execution_count": 25,
     "metadata": {},
     "output_type": "execute_result"
    }
   ],
   "source": [
    "C_open_meto_50_years_Temp_dataframe.isna().sum()"
   ]
  },
  {
   "cell_type": "code",
   "execution_count": 26,
   "metadata": {},
   "outputs": [],
   "source": [
    "C_open_meto_50_years_Temp_dataframe.fillna(0,inplace=True)"
   ]
  },
  {
   "cell_type": "code",
   "execution_count": 27,
   "metadata": {},
   "outputs": [
    {
     "name": "stdout",
     "output_type": "stream",
     "text": [
      "Mean Bias Error (MBE): nan\n",
      "Root Mean Square Error (RMSE): 1.8961551016485763\n",
      "Correlation: 0.9647151339361298\n"
     ]
    }
   ],
   "source": [
    "calculate_accuracy( Dwd_50_year_data[\"1986-01-01\":\"2020-12-31\"][\"Daily average temperature\"],C_open_meto_50_years_Temp_dataframe[\"open_meteo\"])"
   ]
  },
  {
   "cell_type": "markdown",
   "metadata": {},
   "source": [
    "### Precipitation"
   ]
  },
  {
   "cell_type": "code",
   "execution_count": 39,
   "metadata": {},
   "outputs": [
    {
     "name": "stdout",
     "output_type": "stream",
     "text": [
      "Mean Bias Error (MBE): nan\n",
      "Root Mean Square Error (RMSE): 6.118380530617456\n",
      "Correlation: 0.33754814932570426\n"
     ]
    }
   ],
   "source": [
    "C_open_meto_50_years_precipitation = daily_open_meteo_data(\"1986-01-01\", \"2020-12-31\",[51.79], [10.62],\"precipitation_sum\",[\"cerra\"])\n",
    "C_open_meto_50_years_precipitation.fillna(0,inplace=True) # to be sure it do not contain NAN values\n",
    "calculate_accuracy( Dwd_50_year_data[\"1986-01-01\":\"2020-12-31\"][\"daily form of precipitation\"],C_open_meto_50_years_precipitation[\"open_meteo\"])"
   ]
  },
  {
   "cell_type": "code",
   "execution_count": 7,
   "metadata": {},
   "outputs": [
    {
     "name": "stdout",
     "output_type": "stream",
     "text": [
      "Mean Bias Error (MBE): nan\n",
      "Root Mean Square Error (RMSE): 6.841517806738387\n",
      "Correlation: 0.6574618011421468\n"
     ]
    }
   ],
   "source": [
    "C_open_meto_50_years_rainfall = daily_open_meteo_data(\"1986-01-01\", \"2020-12-31\",[51.79], [10.62],\"rain_sum\",[\"cerra\"])\n",
    "C_open_meto_50_years_rainfall.fillna(0,inplace=True) # to be sure it do not contain NAN values\n",
    "calculate_accuracy( Dwd_50_year_data[\"1986-01-01\":\"2020-12-31\"][\"daily rainfall\"],C_open_meto_50_years_rainfall[\"open_meteo\"])"
   ]
  },
  {
   "cell_type": "code",
   "execution_count": null,
   "metadata": {},
   "outputs": [],
   "source": []
  }
 ],
 "metadata": {
  "kernelspec": {
   "display_name": "base",
   "language": "python",
   "name": "python3"
  },
  "language_info": {
   "codemirror_mode": {
    "name": "ipython",
    "version": 3
   },
   "file_extension": ".py",
   "mimetype": "text/x-python",
   "name": "python",
   "nbconvert_exporter": "python",
   "pygments_lexer": "ipython3",
   "version": "3.11.7"
  }
 },
 "nbformat": 4,
 "nbformat_minor": 2
}
