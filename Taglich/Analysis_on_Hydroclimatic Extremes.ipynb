{
 "cells": [
  {
   "cell_type": "code",
   "execution_count": 38,
   "metadata": {},
   "outputs": [],
   "source": [
    "#pip install climate_indices"
   ]
  },
  {
   "cell_type": "code",
   "execution_count": 62,
   "metadata": {},
   "outputs": [
    {
     "ename": "ImportError",
     "evalue": "cannot import name 'process_climate_indices' from 'climate_indices' (c:\\Users\\rande\\anaconda3\\Lib\\site-packages\\climate_indices\\__init__.py)",
     "output_type": "error",
     "traceback": [
      "\u001b[1;31m---------------------------------------------------------------------------\u001b[0m",
      "\u001b[1;31mImportError\u001b[0m                               Traceback (most recent call last)",
      "Cell \u001b[1;32mIn[62], line 8\u001b[0m\n\u001b[0;32m      6\u001b[0m \u001b[38;5;28;01mfrom\u001b[39;00m \u001b[38;5;21;01mretry_requests\u001b[39;00m \u001b[38;5;28;01mimport\u001b[39;00m retry\n\u001b[0;32m      7\u001b[0m \u001b[38;5;28;01mfrom\u001b[39;00m \u001b[38;5;21;01msklearn\u001b[39;00m\u001b[38;5;21;01m.\u001b[39;00m\u001b[38;5;21;01mmetrics\u001b[39;00m \u001b[38;5;28;01mimport\u001b[39;00m mean_squared_error\n\u001b[1;32m----> 8\u001b[0m \u001b[38;5;28;01mfrom\u001b[39;00m \u001b[38;5;21;01mclimate_indices\u001b[39;00m \u001b[38;5;28;01mimport\u001b[39;00m indices,process_climate_indices\n",
      "\u001b[1;31mImportError\u001b[0m: cannot import name 'process_climate_indices' from 'climate_indices' (c:\\Users\\rande\\anaconda3\\Lib\\site-packages\\climate_indices\\__init__.py)"
     ]
    }
   ],
   "source": [
    "import pandas as pd\n",
    "import matplotlib.pyplot as plt\n",
    "import numpy as np\n",
    "import openmeteo_requests\n",
    "import requests_cache\n",
    "from retry_requests import retry\n",
    "from sklearn.metrics import mean_squared_error\n",
    "from climate_indices import indices,"
   ]
  },
  {
   "cell_type": "code",
   "execution_count": 40,
   "metadata": {},
   "outputs": [],
   "source": [
    "#Importanat Definations"
   ]
  },
  {
   "cell_type": "code",
   "execution_count": 41,
   "metadata": {},
   "outputs": [],
   "source": [
    "# resuable code\n",
    "\n",
    "cache_session = requests_cache.CachedSession('.cache', expire_after = 3600)\n",
    "retry_session = retry(cache_session, retries = 5, backoff_factor = 0.2)\n",
    "openmeteo = openmeteo_requests.Client(session = retry_session)\n",
    "\n",
    "# Function for frequent use for houlrly data\n",
    "#https://open-meteo.com/en/docs/historical-weather-api#start_date=1950-01-01&end_date=2023-12-31&hourly=&daily=temperature_2m_mean&timezone=Europe%2FBerlin&models=era5_seamless\n",
    "def daily_open_meteo_data(start_date:str, end_date:str, lat:list, long:list, variable):\n",
    "\turl = \"https://archive-api.open-meteo.com/v1/archive\"\n",
    "\tparams = {\n",
    "\t\"latitude\": lat,\n",
    "\t\"longitude\": long,\n",
    "\t\"start_date\":start_date,\n",
    "\t\"end_date\": end_date,\n",
    "\t\"timezone\": \"Europe/Berlin\",\n",
    "\t\"daily\": variable,\n",
    "\t\"models\": [\"era5_seamless\"]\n",
    "\t}\n",
    "\tresponses = openmeteo.weather_api(url, params=params)\n",
    "\tresponse = responses[0]\n",
    "\t# Process daily data. The order of variables needs to be the same as requested.\n",
    "\tdaily = response.Daily()\n",
    "\tdaily_sum = daily.Variables(0).ValuesAsNumpy()\n",
    "\n",
    "\tdaily_data = {\"date\": pd.date_range(\n",
    "\tstart = pd.to_datetime(daily.Time(), unit = \"s\", utc = True),\n",
    "\tend = pd.to_datetime(daily.TimeEnd(), unit = \"s\", utc = True),\n",
    "\tfreq = pd.Timedelta(seconds = daily.Interval()),\n",
    "\tinclusive = \"left\"\n",
    "\t)}\n",
    "\tdaily_data[\"open_meteo\"] = daily_sum\n",
    "\n",
    "\tdaily_dataframe = pd.DataFrame(data = daily_data)\n",
    "\tif daily_dataframe.empty:\n",
    "\t\treturn print(\"The daily limit reached\")\n",
    "\treturn daily_dataframe\n",
    "\n",
    "def calculate_accuracy(original_data, predicted_data):\n",
    "\tmbe = np.mean(predicted_data - original_data)\n",
    "\trmse = np.sqrt(mean_squared_error(original_data, predicted_data))\n",
    "\tcorrelation = np.corrcoef(original_data, predicted_data)[0, 1]\n",
    "\n",
    "\t# Print results\n",
    "\tprint(f\"Mean Bias Error (MBE): {mbe}\")\n",
    "\tprint(f\"Root Mean Square Error (RMSE): {rmse}\")\n",
    "\tprint(f\"Correlation: {correlation}\")\n",
    "\t\n",
    "\n",
    "# Function for frequent use for houlrly data\n",
    "#https://open-meteo.com/en/docs/historical-weather-api#start_date=1950-01-01&end_date=2023-12-31&hourly=&daily=temperature_2m_mean&timezone=Europe%2FBerlin&models=era5_seamless\n",
    "def Hourly_open_meteo_data(start_date:str, end_date:str, lat:list, long:list, variable):\n",
    "\turl = \"https://archive-api.open-meteo.com/v1/archive\"\n",
    "\tparams = {\n",
    "\t\"latitude\": lat,\n",
    "\t\"longitude\": long,\n",
    "\t\"start_date\":start_date,\n",
    "\t\"end_date\": end_date,\n",
    "\t\"timezone\": \"Europe/Berlin\",\n",
    "\t\"hourly\": variable,\n",
    "\t\"models\": [\"era5_seamless\"]\n",
    "\t}\n",
    "\tresponses = openmeteo.weather_api(url, params=params)\n",
    "\tresponse = responses[0]\n",
    "\t# Process daily data. The order of variables needs to be the same as requested.\n",
    "\thourly = response.Hourly()\n",
    "\thourly_snow_depth = hourly.Variables(0).ValuesAsNumpy()\n",
    "\n",
    "\thourly_data = {\"date\": pd.date_range(\n",
    "\t\tstart = pd.to_datetime(hourly.Time(), unit = \"s\", utc = True),\n",
    "\t\tend = pd.to_datetime(hourly.TimeEnd(), unit = \"s\", utc = True),\n",
    "\t\tfreq = pd.Timedelta(seconds = hourly.Interval()),\n",
    "\t\tinclusive = \"left\"\n",
    "\t)}\n",
    "\thourly_data[\"open_meteo\"] = hourly_snow_depth\n",
    "\n",
    "\thourly_dataframe = pd.DataFrame(data = hourly_data)\n",
    "\n",
    "\tif hourly_dataframe.empty:\n",
    "\t\treturn print(\"The daily limit reached\")\n",
    "\treturn hourly_dataframe\n",
    "\n",
    "\n",
    "\n",
    "# plots\n",
    "def plot_my_bargraph(length:int,breath:int,xaxis,yaxis,title:str,xlabel:str,ylabel:str, widthv=0.5, colorv='blue',xtick = False):\n",
    "    plt.figure(figsize=(length, breath))\n",
    "    plt.bar(xaxis, yaxis, width = widthv , color=colorv)\n",
    "    plt.title(title)\n",
    "    plt.xlabel(xlabel)\n",
    "    plt.ylabel(ylabel)\n",
    "    plt.grid(axis='y')\n",
    "    if xtick == True:\n",
    "        plt.xticks(xaxis,rotation=45,fontsize=10)\n",
    "    plt.tight_layout()\n",
    "    plt.show()\n",
    "\n",
    "\n",
    "\n",
    "def plot_my_bargraph_withnumbers(length:int,breath:int,xaxis,yaxis,title:str,xlabel:str,ylabel:str, widthv=0.5, colorv='blue'):\n",
    "    plt.figure(figsize=(length, breath))\n",
    "    plt.bar(xaxis, yaxis, width = widthv , color=colorv)\n",
    "    plt.title(title)\n",
    "    plt.xlabel(xlabel)\n",
    "    plt.ylabel(ylabel)\n",
    "    plt.grid(axis='y')\n",
    "    for i, value in enumerate(yaxis):\n",
    "        plt.text(xaxis[i], value + 1, str(value), ha='center', fontsize=9)\n",
    "    plt.tight_layout()\n",
    "    plt.xticks(xaxis,rotation=45,fontsize=10)\n",
    "    plt.show()"
   ]
  },
  {
   "cell_type": "markdown",
   "metadata": {},
   "source": [
    "## calcluating SEPI index\n",
    "\n",
    "### Vicente-Serrano, S. M., Beguería, S., & López-Moreno, J. I. (2010). \"A Multiscalar Drought Index Sensitive to Global Warming: The Standardized Precipitation Evapotranspiration Index.\" Journal of Climate, 23(7), 1696–1718. https://doi.org/10.1175/2009JCLI2909.1\n",
    "\n",
    "### Projecting Hydroclimatic Extremes: Climate Change Impacts on Drought in a German Low Mountain Range Catchment\n",
    "\n",
    "\n",
    "\n",
    "# Steps \n",
    "### 1. Get the data from the API.\n",
    "### 2. Convert it to monthly (Monthly Mean)\n",
    "### 3. Calcluate D (D = p - et0)\n",
    "### 4. Normalize it using Climate Indicies library python.\n",
    "### plot the result. \n"
   ]
  },
  {
   "cell_type": "code",
   "execution_count": 42,
   "metadata": {},
   "outputs": [],
   "source": [
    "open_meto_1950_2023_precipitation = daily_open_meteo_data(\"1950-01-01\", \"2023-12-31\",[51.8], [10.62],\"precipitation_sum\")"
   ]
  },
  {
   "cell_type": "code",
   "execution_count": 43,
   "metadata": {},
   "outputs": [],
   "source": [
    "open_meto_1950_2023_et0 = daily_open_meteo_data(\"1950-01-01\", \"2023-12-31\",[51.8], [10.62],\"et0_fao_evapotranspiration\")"
   ]
  },
  {
   "cell_type": "markdown",
   "metadata": {},
   "source": [
    "### Converting it into monthly data"
   ]
  },
  {
   "cell_type": "code",
   "execution_count": 44,
   "metadata": {},
   "outputs": [],
   "source": [
    "# Precipitation data\n",
    "open_meto_1950_2023_precipitation.set_index('date',inplace = True)\n",
    "open_meto_1950_2023_precipitation.fillna(0,inplace=True) # to be sure it do not contain NAN values\n",
    "open_meto_1950_2023_precipitation_monthly = open_meto_1950_2023_precipitation.resample(\"M\").mean()\n",
    "open_meto_1950_2023_precipitation_monthly.rename(columns={'open_meteo': 'precipitation'}, inplace=True)"
   ]
  },
  {
   "cell_type": "code",
   "execution_count": 45,
   "metadata": {},
   "outputs": [
    {
     "data": {
      "text/html": [
       "<div>\n",
       "<style scoped>\n",
       "    .dataframe tbody tr th:only-of-type {\n",
       "        vertical-align: middle;\n",
       "    }\n",
       "\n",
       "    .dataframe tbody tr th {\n",
       "        vertical-align: top;\n",
       "    }\n",
       "\n",
       "    .dataframe thead th {\n",
       "        text-align: right;\n",
       "    }\n",
       "</style>\n",
       "<table border=\"1\" class=\"dataframe\">\n",
       "  <thead>\n",
       "    <tr style=\"text-align: right;\">\n",
       "      <th></th>\n",
       "      <th>precipitation</th>\n",
       "    </tr>\n",
       "    <tr>\n",
       "      <th>date</th>\n",
       "      <th></th>\n",
       "    </tr>\n",
       "  </thead>\n",
       "  <tbody>\n",
       "    <tr>\n",
       "      <th>1949-12-31 00:00:00+00:00</th>\n",
       "      <td>0.000000</td>\n",
       "    </tr>\n",
       "    <tr>\n",
       "      <th>1950-01-31 00:00:00+00:00</th>\n",
       "      <td>1.922581</td>\n",
       "    </tr>\n",
       "    <tr>\n",
       "      <th>1950-02-28 00:00:00+00:00</th>\n",
       "      <td>3.639286</td>\n",
       "    </tr>\n",
       "    <tr>\n",
       "      <th>1950-03-31 00:00:00+00:00</th>\n",
       "      <td>1.070968</td>\n",
       "    </tr>\n",
       "    <tr>\n",
       "      <th>1950-04-30 00:00:00+00:00</th>\n",
       "      <td>2.833333</td>\n",
       "    </tr>\n",
       "  </tbody>\n",
       "</table>\n",
       "</div>"
      ],
      "text/plain": [
       "                           precipitation\n",
       "date                                    \n",
       "1949-12-31 00:00:00+00:00       0.000000\n",
       "1950-01-31 00:00:00+00:00       1.922581\n",
       "1950-02-28 00:00:00+00:00       3.639286\n",
       "1950-03-31 00:00:00+00:00       1.070968\n",
       "1950-04-30 00:00:00+00:00       2.833333"
      ]
     },
     "execution_count": 45,
     "metadata": {},
     "output_type": "execute_result"
    }
   ],
   "source": [
    "open_meto_1950_2023_precipitation_monthly.head()"
   ]
  },
  {
   "cell_type": "code",
   "execution_count": 46,
   "metadata": {},
   "outputs": [],
   "source": [
    "# Eto data\n",
    "open_meto_1950_2023_et0.set_index('date',inplace = True)\n",
    "open_meto_1950_2023_et0.fillna(0,inplace=True) # to be sure it do not contain NAN values\n",
    "open_meto_1950_2023_eto_monthly = open_meto_1950_2023_et0.resample(\"M\").mean()\n",
    "open_meto_1950_2023_eto_monthly.rename(columns={'open_meteo': 'ET0'}, inplace=True)"
   ]
  },
  {
   "cell_type": "code",
   "execution_count": 47,
   "metadata": {},
   "outputs": [
    {
     "data": {
      "text/html": [
       "<div>\n",
       "<style scoped>\n",
       "    .dataframe tbody tr th:only-of-type {\n",
       "        vertical-align: middle;\n",
       "    }\n",
       "\n",
       "    .dataframe tbody tr th {\n",
       "        vertical-align: top;\n",
       "    }\n",
       "\n",
       "    .dataframe thead th {\n",
       "        text-align: right;\n",
       "    }\n",
       "</style>\n",
       "<table border=\"1\" class=\"dataframe\">\n",
       "  <thead>\n",
       "    <tr style=\"text-align: right;\">\n",
       "      <th></th>\n",
       "      <th>ET0</th>\n",
       "    </tr>\n",
       "    <tr>\n",
       "      <th>date</th>\n",
       "      <th></th>\n",
       "    </tr>\n",
       "  </thead>\n",
       "  <tbody>\n",
       "    <tr>\n",
       "      <th>1949-12-31 00:00:00+00:00</th>\n",
       "      <td>0.376717</td>\n",
       "    </tr>\n",
       "    <tr>\n",
       "      <th>1950-01-31 00:00:00+00:00</th>\n",
       "      <td>0.352772</td>\n",
       "    </tr>\n",
       "    <tr>\n",
       "      <th>1950-02-28 00:00:00+00:00</th>\n",
       "      <td>0.540628</td>\n",
       "    </tr>\n",
       "    <tr>\n",
       "      <th>1950-03-31 00:00:00+00:00</th>\n",
       "      <td>1.021201</td>\n",
       "    </tr>\n",
       "    <tr>\n",
       "      <th>1950-04-30 00:00:00+00:00</th>\n",
       "      <td>1.453352</td>\n",
       "    </tr>\n",
       "  </tbody>\n",
       "</table>\n",
       "</div>"
      ],
      "text/plain": [
       "                                ET0\n",
       "date                               \n",
       "1949-12-31 00:00:00+00:00  0.376717\n",
       "1950-01-31 00:00:00+00:00  0.352772\n",
       "1950-02-28 00:00:00+00:00  0.540628\n",
       "1950-03-31 00:00:00+00:00  1.021201\n",
       "1950-04-30 00:00:00+00:00  1.453352"
      ]
     },
     "execution_count": 47,
     "metadata": {},
     "output_type": "execute_result"
    }
   ],
   "source": [
    "open_meto_1950_2023_eto_monthly.head()"
   ]
  },
  {
   "cell_type": "markdown",
   "metadata": {},
   "source": [
    "### Calculating water balance (WB)"
   ]
  },
  {
   "cell_type": "code",
   "execution_count": 48,
   "metadata": {},
   "outputs": [],
   "source": [
    "WB_1950_2023_eto_monthly = open_meto_1950_2023_eto_monthly"
   ]
  },
  {
   "cell_type": "code",
   "execution_count": 49,
   "metadata": {},
   "outputs": [],
   "source": [
    "WB_1950_2023_eto_monthly['Deficit'] = open_meto_1950_2023_precipitation_monthly['precipitation'] - open_meto_1950_2023_eto_monthly['ET0']"
   ]
  },
  {
   "cell_type": "markdown",
   "metadata": {},
   "source": [
    "### Using the climate-indices library to calcluate the SPEI.\n",
    "### Climate-indices: https://pypi.org/project/climate_indices/\n",
    "\n",
    "\n",
    "### Citation\n",
    "### author = \"James Adams\",\n",
    "### title  = \"climate_indices, an open source Python library providing reference implementations of commonly used climate indices\",\n",
    "### url    = \"https://github.com/monocongo/climate_indices\",\n",
    "### month  = \"may\",\n",
    "### year   = \"2017--\""
   ]
  },
  {
   "cell_type": "code",
   "execution_count": 65,
   "metadata": {},
   "outputs": [],
   "source": [
    "## defination for Calculating the SPEI\n",
    "def compute_SPEI(distribution,scale,pet,precips,name_field):\n",
    "    spei_values = indices.spei(\n",
    "    pet_mm= pet,\n",
    "    precips_mm= precips,\n",
    "    scale=scale,\n",
    "    distribution=distribution,\n",
    "    data_start_year=1950,\n",
    "    calibration_year_initial=1950,\n",
    "    calibration_year_final=2023,\n",
    "    periodicity='monthly',\n",
    ")\n",
    "    return spei_values\n",
    "\n",
    "\n",
    "#data[name_field] = spei_values"
   ]
  },
  {
   "cell_type": "code",
   "execution_count": 66,
   "metadata": {},
   "outputs": [
    {
     "ename": "TypeError",
     "evalue": "spei() got an unexpected keyword argument 'data'",
     "output_type": "error",
     "traceback": [
      "\u001b[1;31m---------------------------------------------------------------------------\u001b[0m",
      "\u001b[1;31mTypeError\u001b[0m                                 Traceback (most recent call last)",
      "Cell \u001b[1;32mIn[66], line 5\u001b[0m\n\u001b[0;32m      2\u001b[0m distribution \u001b[38;5;241m=\u001b[39m indices\u001b[38;5;241m.\u001b[39mDistribution\u001b[38;5;241m.\u001b[39mgamma \n\u001b[0;32m      3\u001b[0m scale \u001b[38;5;241m=\u001b[39m \u001b[38;5;241m3\u001b[39m \n\u001b[1;32m----> 5\u001b[0m compute_SPEI(distribution,scale,WB_1950_2023_eto_monthly,\u001b[38;5;124m'\u001b[39m\u001b[38;5;124mSPEI_3_month\u001b[39m\u001b[38;5;124m'\u001b[39m)\n",
      "Cell \u001b[1;32mIn[65], line 3\u001b[0m, in \u001b[0;36mcompute_SPEI\u001b[1;34m(distribution, scale, data, name_field)\u001b[0m\n\u001b[0;32m      2\u001b[0m \u001b[38;5;28;01mdef\u001b[39;00m \u001b[38;5;21mcompute_SPEI\u001b[39m(distribution,scale,data,name_field):\n\u001b[1;32m----> 3\u001b[0m     spei_values \u001b[38;5;241m=\u001b[39m indices\u001b[38;5;241m.\u001b[39mspei(\n\u001b[0;32m      4\u001b[0m     data \u001b[38;5;241m=\u001b[39m data[\u001b[38;5;124m'\u001b[39m\u001b[38;5;124mDeficit\u001b[39m\u001b[38;5;124m'\u001b[39m],\n\u001b[0;32m      5\u001b[0m     scale\u001b[38;5;241m=\u001b[39mscale,\n\u001b[0;32m      6\u001b[0m     distribution\u001b[38;5;241m=\u001b[39mdistribution,\n\u001b[0;32m      7\u001b[0m     data_start_year\u001b[38;5;241m=\u001b[39m\u001b[38;5;241m1950\u001b[39m,\n\u001b[0;32m      8\u001b[0m     calibration_year_initial\u001b[38;5;241m=\u001b[39m\u001b[38;5;241m1950\u001b[39m,\n\u001b[0;32m      9\u001b[0m     calibration_year_final\u001b[38;5;241m=\u001b[39m\u001b[38;5;241m2023\u001b[39m,\n\u001b[0;32m     10\u001b[0m     periodicity\u001b[38;5;241m=\u001b[39m\u001b[38;5;124m'\u001b[39m\u001b[38;5;124mmonthly\u001b[39m\u001b[38;5;124m'\u001b[39m,\n\u001b[0;32m     11\u001b[0m )\n\u001b[0;32m     12\u001b[0m     data[name_field] \u001b[38;5;241m=\u001b[39m spei_values\n\u001b[0;32m     14\u001b[0m     \u001b[38;5;28;01mreturn\u001b[39;00m\n",
      "\u001b[1;31mTypeError\u001b[0m: spei() got an unexpected keyword argument 'data'"
     ]
    }
   ],
   "source": [
    " # Use Gamma distribution, and 3 month scale\n",
    "distribution = indices.Distribution.gamma \n",
    "scale = 3 \n",
    "\n",
    "compute_SPEI(distribution,scale,WB_1950_2023_eto_monthly,'SPEI_3_month')"
   ]
  },
  {
   "cell_type": "code",
   "execution_count": null,
   "metadata": {},
   "outputs": [],
   "source": [
    "WB_1950_2023_eto_monthly['SPEI_3_month'].plot(figsize=(12, 6), title=\"3-Month SPEI\")\n",
    "plt.axhline(0, color='black', linestyle='--')\n",
    "plt.xlabel('Year') \n",
    "plt.ylabel('SPEI')\n",
    "plt.show()"
   ]
  }
 ],
 "metadata": {
  "kernelspec": {
   "display_name": "base",
   "language": "python",
   "name": "python3"
  },
  "language_info": {
   "codemirror_mode": {
    "name": "ipython",
    "version": 3
   },
   "file_extension": ".py",
   "mimetype": "text/x-python",
   "name": "python",
   "nbconvert_exporter": "python",
   "pygments_lexer": "ipython3",
   "version": "3.11.7"
  }
 },
 "nbformat": 4,
 "nbformat_minor": 2
}
