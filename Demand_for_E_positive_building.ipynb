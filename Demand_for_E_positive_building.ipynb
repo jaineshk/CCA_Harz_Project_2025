{
 "cells": [
  {
   "cell_type": "markdown",
   "metadata": {},
   "source": [
    "### Calculating the elctirical energy demand for energy positive building."
   ]
  },
  {
   "cell_type": "code",
   "execution_count": 1,
   "metadata": {},
   "outputs": [],
   "source": [
    "import numpy as np\n",
    "import random\n",
    "#import ramp"
   ]
  },
  {
   "cell_type": "markdown",
   "metadata": {},
   "source": [
    "### Before starting we are assuming few things.\n",
    "### The method is using different equipment behaviour we create a load profile for a building and assume the PV and wind system to fullfill the demand.\n",
    "\n"
   ]
  },
  {
   "cell_type": "markdown",
   "metadata": {},
   "source": [
    "### Room behavior\n",
    "## Equipment Used\n",
    "## - Light, power socket - heatpump  "
   ]
  },
  {
   "cell_type": "code",
   "execution_count": 2,
   "metadata": {},
   "outputs": [],
   "source": [
    "# Calcluating the load profile of the building\n",
    "class Energymodel:\n",
    "    def __init__(self,rooms):\n",
    "        self.total_rooms = rooms\n",
    "        self.appliances = {\n",
    "            \"ceiling_light\": 0.020, # per light 20W\n",
    "            \"sockets\": 0.1,  # 100 er for mobile use or other\n",
    "            \"heat_pump\": 0.225,  # 0.225kW per heat pump (for heating & cooling)  0.015kw/m^2\n",
    "            \"common_area_ligths\" : 0.025, # 25W \n",
    "            \"Mini-fridge\" : 0.050\n",
    "        }\n",
    "        \n",
    "        self.seasonal_usage_hours = {\n",
    "            \"summer\": {\n",
    "                \"ceiling_light\": (2, 6), \"sockets\": (2, 4), \"heat_pump\": (0, 1), \"common_area_ligths\" :(4, 6), \"Mini-fridge\" :(12, 7) #summer usage approx\n",
    "            },\n",
    "            \"winter\": {\n",
    "                \"ceiling_light\": (5, 8), \"sockets\": (2, 4), \"heat_pump\": (4, 10), \"common_area_ligths\" :(6, 8), \"Mini-fridge\" :(12, 7) #winter usage approx\n",
    "            }\n",
    "        }    \n",
    "        \n",
    "        self.appliances_count = {\n",
    "            \"ceiling_light\": 4,\n",
    "            \"sockets\": 4,\n",
    "            \"heat_pump\": 1,\n",
    "            \"common_area_ligths\" : 18,\n",
    "            \"Mini-fridge\" : 1\n",
    "        }\n",
    "\n",
    "    def get_utilized_rooms(self):       \n",
    "        # 10% chance that the building is completely empty\n",
    "        if random.random() < 0.2:  \n",
    "            return 0\n",
    "        # 40% chance that only 4-5 rooms are occupied (off-season)\n",
    "        elif random.random() < 0.4:  \n",
    "            return random.randint(4, 5)\n",
    "        # Otherwise, full occupancy\n",
    "        else:\n",
    "            return self.total_rooms\n",
    "        \n",
    "    def calculate_daily_consumption(self,season):\n",
    "        use_hours_season = self.seasonal_usage_hours[season]\n",
    "        occupied_rooms = self.get_utilized_rooms()\n",
    "        daily_usage = 0 # excluding common lights\n",
    "        Common_light = 0\n",
    "        for appliance, power in self.appliances.items():\n",
    "            # Generating random usage time within the given range\n",
    "            random_hours = random.uniform(use_hours_season[appliance][0],use_hours_season[appliance][1])\n",
    "            if appliance == \"common_area_ligths\":\n",
    "                Common_light += power * random_hours * self.appliances_count[appliance]\n",
    "                continue\n",
    "            daily_usage += power * random_hours * self.appliances_count[appliance]\n",
    "        daily_final = (daily_usage * occupied_rooms) + Common_light # Adjusting based on room occupancy\n",
    "        return daily_final\n",
    "    "
   ]
  },
  {
   "cell_type": "code",
   "execution_count": 3,
   "metadata": {},
   "outputs": [],
   "source": [
    "rooms = int(input(\"Enter number of rooms: \") or 10)\n",
    "\n",
    "\n",
    "model = Energymodel(rooms)\n",
    "\n",
    "\n",
    "\n",
    "#total_summer_demand = 0\n",
    "#total_winter_demand = 0\n",
    "\n",
    "summer_days = 180\n",
    "winter_days = 185\n",
    "\n",
    "# to make it fast we use numpy\n",
    "\n",
    "# for day in range(365):\n",
    "#     if day < 180:  # Assume first half of the year is summer\n",
    "#         total_summer_demand += model.calculate_daily_consumption(day, \"summer\")\n",
    "#     else:  # Second half of the year is winter\n",
    "#         total_winter_demand += model.calculate_daily_consumption(day, \"winter\")\n",
    "\n",
    "total_summer_demand = np.sum([model.calculate_daily_consumption(\"summer\") for _ in range(summer_days)])\n",
    "total_winter_demand = np.sum([model.calculate_daily_consumption(\"winter\") for _ in range(winter_days)])\n",
    "\n"
   ]
  },
  {
   "cell_type": "code",
   "execution_count": 4,
   "metadata": {},
   "outputs": [
    {
     "name": "stdout",
     "output_type": "stream",
     "text": [
      " Total summer demand 2848.33142962704 and Total winter demand 5215.710176635648\n"
     ]
    }
   ],
   "source": [
    "print(f\" Total summer demand {total_summer_demand} and Total winter demand {total_winter_demand}\")"
   ]
  },
  {
   "cell_type": "code",
   "execution_count": 5,
   "metadata": {},
   "outputs": [
    {
     "name": "stdout",
     "output_type": "stream",
     "text": [
      " Average summer demand 15.824063497928 and Averagee winter demand 28.193027981814314\n"
     ]
    }
   ],
   "source": [
    "avg_summer_demand = total_summer_demand / 180\n",
    "avg_winter_demand = total_winter_demand / 185\n",
    "print(f\" Average summer demand {avg_summer_demand} and Averagee winter demand {avg_winter_demand}\")"
   ]
  }
 ],
 "metadata": {
  "kernelspec": {
   "display_name": "base",
   "language": "python",
   "name": "python3"
  },
  "language_info": {
   "codemirror_mode": {
    "name": "ipython",
    "version": 3
   },
   "file_extension": ".py",
   "mimetype": "text/x-python",
   "name": "python",
   "nbconvert_exporter": "python",
   "pygments_lexer": "ipython3",
   "version": "3.11.7"
  }
 },
 "nbformat": 4,
 "nbformat_minor": 2
}
