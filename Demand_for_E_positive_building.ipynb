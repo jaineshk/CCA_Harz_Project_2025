{
 "cells": [
  {
   "cell_type": "markdown",
   "metadata": {},
   "source": [
    "### Calculating the elctirical energy demand for energy positive building."
   ]
  },
  {
   "cell_type": "code",
   "execution_count": 9,
   "metadata": {},
   "outputs": [],
   "source": [
    "import numpy as np\n",
    "import random\n",
    "#import ramp"
   ]
  },
  {
   "cell_type": "markdown",
   "metadata": {},
   "source": [
    "### Before starting we are assuming few things.\n",
    "### The method is using different equipment behaviour we create a load profile for a building and assume the PV and wind system to fullfill the demand.\n",
    "\n"
   ]
  },
  {
   "cell_type": "markdown",
   "metadata": {},
   "source": [
    "### Room behavior\n",
    "## Equipment Used\n",
    "## - Light, power socket - heatpump  "
   ]
  },
  {
   "cell_type": "code",
   "execution_count": 57,
   "metadata": {},
   "outputs": [],
   "source": [
    "# Calcluating the load profile of the building\n",
    "class Energymodel:\n",
    "    def __init__(self,rooms):\n",
    "        self.total_rooms = rooms\n",
    "        self.appliances = {\n",
    "            \"ceiling_light\": 0.055, # per light\n",
    "            \"sockets\": 0.1,  # 100 er for mobile use or other\n",
    "            \"heat_pump\": 0.225,  # 0.225kW per heat pump (for heating & cooling)  0.015kw/m^2\n",
    "            \"common_area_ligths\" : 0.065 # 65W \n",
    "        }\n",
    "        \n",
    "        self.seasonal_usage_hours = {\n",
    "            \"summer\": {\n",
    "                \"ceiling_light\": (2, 6), \"sockets\": (2, 4), \"heat_pump\": (1, 3), \"common_area_ligths\" :(4, 6) #summer usage approx\n",
    "            },\n",
    "            \"winter\": {\n",
    "                \"ceiling_light\": (5, 8), \"sockets\": (2, 4), \"heat_pump\": (4, 10), \"common_area_ligths\" :(6, 8) #winter usage approx\n",
    "            }\n",
    "        }    \n",
    "        \n",
    "        self.appliances_count = {\n",
    "            \"ceiling_light\": 4,\n",
    "            \"sockets\": 4,\n",
    "            \"heat_pump\": 1,\n",
    "            \"common_area_ligths\" : 18\n",
    "        }\n",
    "\n",
    "    def get_utilized_rooms(self):       \n",
    "        # 10% chance that the building is completely empty\n",
    "        if random.random() < 0.2:  \n",
    "            return 0\n",
    "        # 40% chance that only 4-5 rooms are occupied (off-season)\n",
    "        elif random.random() < 0.4:  \n",
    "            return random.randint(4, 5)\n",
    "        # Otherwise, full occupancy\n",
    "        else:\n",
    "            return self.total_rooms\n",
    "        \n",
    "    def calculate_daily_consumption(self,season):\n",
    "        use_hours_season = self.seasonal_usage_hours[season]\n",
    "        occupied_rooms = self.get_utilized_rooms()\n",
    "        daily_usage = 0 # excluding common lights\n",
    "        Common_light = 0\n",
    "        for appliance, power in self.appliances.items():\n",
    "            # Generating random usage time within the given range\n",
    "            random_hours = random.uniform(use_hours_season[appliance][0],use_hours_season[appliance][1])\n",
    "            if appliance == \"common_area_ligths\":\n",
    "                Common_light += power * random_hours * self.appliances_count[appliance]\n",
    "                continue\n",
    "            daily_usage += power * random_hours * self.appliances_count[appliance]\n",
    "        daily_final = (daily_usage * occupied_rooms) + Common_light # Adjusting based on room occupancy\n",
    "        return daily_final\n",
    "    "
   ]
  },
  {
   "cell_type": "code",
   "execution_count": 58,
   "metadata": {},
   "outputs": [],
   "source": [
    "rooms = int(input(\"Enter number of rooms: \") or 10)\n",
    "\n",
    "\n",
    "model = Energymodel(rooms)\n",
    "\n",
    "\n",
    "\n",
    "#total_summer_demand = 0\n",
    "#total_winter_demand = 0\n",
    "\n",
    "summer_days = 180\n",
    "winter_days = 185\n",
    "\n",
    "# to make it fast we use numpy\n",
    "\n",
    "# for day in range(365):\n",
    "#     if day < 180:  # Assume first half of the year is summer\n",
    "#         total_summer_demand += model.calculate_daily_consumption(day, \"summer\")\n",
    "#     else:  # Second half of the year is winter\n",
    "#         total_winter_demand += model.calculate_daily_consumption(day, \"winter\")\n",
    "\n",
    "total_summer_demand = np.sum([model.calculate_daily_consumption(\"summer\") for _ in range(summer_days)])\n",
    "total_winter_demand = np.sum([model.calculate_daily_consumption(\"winter\") for _ in range(winter_days)])\n",
    "\n",
    "avg_summer_demand = total_summer_demand / 180\n",
    "avg_winter_demand = total_winter_demand / 185"
   ]
  },
  {
   "cell_type": "code",
   "execution_count": 59,
   "metadata": {},
   "outputs": [
    {
     "name": "stdout",
     "output_type": "stream",
     "text": [
      " Average summer demand 3709.7160780447293 and Averagee winter demand 6322.341555447833\n"
     ]
    }
   ],
   "source": [
    "print(f\" Average summer demand {total_summer_demand} and Averagee winter demand {total_winter_demand}\")"
   ]
  },
  {
   "cell_type": "markdown",
   "metadata": {},
   "source": [
    "### calculating the PV and wind outputs - renewable outputs"
   ]
  },
  {
   "cell_type": "code",
   "execution_count": 21,
   "metadata": {},
   "outputs": [],
   "source": [
    "PV_capacity = 13 # float(input(\"enter PV_capacity in kW\"))\n",
    "wind_capacity = 20\n",
    "# https://en.climate-data.org/europe/germany/saxony-anhalt/ilsenburg-harz-22054/  \n",
    "sunlight_hours = {\"summer\": 8, \"winter\": 3.5}\n",
    "# https://weatherspark.com/y/67815/Average-Weather-in-Ilsenburg-Saxony-Anhalt-Germany-Year-Round\n",
    "wind_speed = {\"summer\": 9, \"winter\": 12}\n",
    "PV_efficiency = 0.8 # (18 -19 %)Recent Facts about Photovoltaics in Germany Fraunhofer\n",
    "wind_efficiency = 0.35 # https://www.epa.gov/sites/default/files/2019-08/documents/wind_turbines_fact_sheet_p100il8k.pdf\n",
    "\n",
    "def pv_output(capacity, efficiency, hours):\n",
    "    output = capacity * hours * efficiency\n",
    "    return output\n",
    "\n",
    "\n",
    "def wind_output(speed, efficiency):\n",
    "    air_density = 1.225  # kg/m^3  https://www.emd-international.com/files/windpro/WindPRO_Power_Curve_Options.pdf\n",
    "    swept_area = 63.6 #m^2  -for 20kW,  https://www.watulagreentech.fi/en/wind-turbines/wind-turbine-20kw-system-horizontal/\n",
    "    wind_power = 0.5 * air_density * swept_area * (speed ** 3) * efficiency # https://www.e-education.psu.edu/emsc297/node/649\n",
    "    return (wind_power * 24 / 1000) #  daily wind energy generation in kWh"
   ]
  },
  {
   "cell_type": "code",
   "execution_count": 22,
   "metadata": {},
   "outputs": [],
   "source": [
    "wind_yearly = (wind_output(wind_speed[\"summer\"], wind_efficiency)) * summer_days  + (wind_output(wind_speed[\"winter\"], wind_efficiency))*winter_days\n",
    "Pv_yearly = (pv_output(PV_capacity, PV_efficiency, sunlight_hours[\"summer\"])) * summer_days + (pv_output(PV_capacity, PV_efficiency, sunlight_hours[\"winter\"])) *winter_days\n"
   ]
  },
  {
   "cell_type": "code",
   "execution_count": 23,
   "metadata": {},
   "outputs": [
    {
     "name": "stdout",
     "output_type": "stream",
     "text": [
      "Yearly output of wind turbine = 147544.3998 and Yearly output of solar = 21710.0 \n"
     ]
    }
   ],
   "source": [
    "print(f\"Yearly output of wind turbine = {wind_yearly} and Yearly output of solar = {Pv_yearly} \")"
   ]
  },
  {
   "cell_type": "code",
   "execution_count": 24,
   "metadata": {},
   "outputs": [],
   "source": [
    "summer_output = pv_output(PV_capacity, PV_efficiency, sunlight_hours[\"summer\"]) # + wind_output(wind_speed[\"summer\"], wind_efficiency)\n",
    "winter_output = pv_output(PV_capacity, PV_efficiency, sunlight_hours[\"winter\"])  #+ wind_output(wind_speed[\"winter\"], wind_efficiency)"
   ]
  },
  {
   "cell_type": "code",
   "execution_count": 25,
   "metadata": {},
   "outputs": [
    {
     "data": {
      "text/plain": [
       "14976.0"
      ]
     },
     "execution_count": 25,
     "metadata": {},
     "output_type": "execute_result"
    }
   ],
   "source": [
    "summer_output * summer_days"
   ]
  },
  {
   "cell_type": "code",
   "execution_count": 26,
   "metadata": {},
   "outputs": [
    {
     "data": {
      "text/plain": [
       "6734.0"
      ]
     },
     "execution_count": 26,
     "metadata": {},
     "output_type": "execute_result"
    }
   ],
   "source": [
    "winter_output * winter_days"
   ]
  }
 ],
 "metadata": {
  "kernelspec": {
   "display_name": "base",
   "language": "python",
   "name": "python3"
  },
  "language_info": {
   "codemirror_mode": {
    "name": "ipython",
    "version": 3
   },
   "file_extension": ".py",
   "mimetype": "text/x-python",
   "name": "python",
   "nbconvert_exporter": "python",
   "pygments_lexer": "ipython3",
   "version": "3.11.7"
  }
 },
 "nbformat": 4,
 "nbformat_minor": 2
}
