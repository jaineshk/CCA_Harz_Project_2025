{
 "cells": [
  {
   "cell_type": "code",
   "execution_count": null,
   "metadata": {},
   "outputs": [
    {
     "name": "stdout",
     "output_type": "stream",
     "text": [
      "Requirement already satisfied: pvlib in c:\\users\\rande\\anaconda3\\lib\\site-packages (0.11.0)\n",
      "Requirement already satisfied: numpy>=1.17.3 in c:\\users\\rande\\anaconda3\\lib\\site-packages (from pvlib) (1.26.4)\n",
      "Requirement already satisfied: pandas>=1.3.0 in c:\\users\\rande\\anaconda3\\lib\\site-packages (from pvlib) (2.1.4)\n",
      "Requirement already satisfied: pytz in c:\\users\\rande\\anaconda3\\lib\\site-packages (from pvlib) (2023.3.post1)\n",
      "Requirement already satisfied: requests in c:\\users\\rande\\anaconda3\\lib\\site-packages (from pvlib) (2.31.0)\n",
      "Requirement already satisfied: scipy>=1.6.0 in c:\\users\\rande\\anaconda3\\lib\\site-packages (from pvlib) (1.10.1)\n",
      "Requirement already satisfied: h5py in c:\\users\\rande\\anaconda3\\lib\\site-packages (from pvlib) (3.9.0)\n",
      "Requirement already satisfied: python-dateutil>=2.8.2 in c:\\users\\rande\\anaconda3\\lib\\site-packages (from pandas>=1.3.0->pvlib) (2.8.2)\n",
      "Requirement already satisfied: tzdata>=2022.1 in c:\\users\\rande\\anaconda3\\lib\\site-packages (from pandas>=1.3.0->pvlib) (2023.3)\n",
      "Requirement already satisfied: charset-normalizer<4,>=2 in c:\\users\\rande\\anaconda3\\lib\\site-packages (from requests->pvlib) (2.0.4)\n",
      "Requirement already satisfied: idna<4,>=2.5 in c:\\users\\rande\\anaconda3\\lib\\site-packages (from requests->pvlib) (3.4)\n",
      "Requirement already satisfied: urllib3<3,>=1.21.1 in c:\\users\\rande\\anaconda3\\lib\\site-packages (from requests->pvlib) (2.0.7)\n",
      "Requirement already satisfied: certifi>=2017.4.17 in c:\\users\\rande\\anaconda3\\lib\\site-packages (from requests->pvlib) (2024.2.2)\n",
      "Requirement already satisfied: six>=1.5 in c:\\users\\rande\\anaconda3\\lib\\site-packages (from python-dateutil>=2.8.2->pandas>=1.3.0->pvlib) (1.16.0)\n",
      "Note: you may need to restart the kernel to use updated packages.\n"
     ]
    }
   ],
   "source": [
    "# Use this to install PV-LIB on your system. \n",
    "# pip install pvlib "
   ]
  },
  {
   "cell_type": "code",
   "execution_count": 1,
   "metadata": {},
   "outputs": [],
   "source": [
    "import pvlib\n",
    "import pandas as pd\n",
    "import matplotlib.pyplot as plt\n",
    "import numpy as np\n",
    "import openmeteo_requests\n",
    "import requests_cache\n",
    "from retry_requests import retry\n",
    "from sklearn.metrics import mean_squared_error"
   ]
  },
  {
   "cell_type": "markdown",
   "metadata": {},
   "source": [
    "### Checking for the solar module available in PV_lib. "
   ]
  },
  {
   "cell_type": "markdown",
   "metadata": {},
   "source": [
    "### Retriving the Modules with the required company name."
   ]
  },
  {
   "cell_type": "code",
   "execution_count": 3,
   "metadata": {},
   "outputs": [
    {
     "name": "stdout",
     "output_type": "stream",
     "text": [
      "['Aleo_Solar_P18y250', 'Aleo_Solar_S18y250', 'Aleo_Solar_P18y255', 'Aleo_Solar_S18y255', 'Aleo_Solar_P18y260', 'Aleo_Solar_S18y260', 'Aleo_Solar_P18Y265', 'Aleo_Solar_S18y265', 'Aleo_Solar_S19Y270', 'Aleo_Solar_S79y270', 'Aleo_Solar_P19Y275', 'Aleo_Solar_S19y275', 'Aleo_Solar_S79y275', 'Aleo_Solar_S19y280', 'Aleo_Solar_S59y280', 'Aleo_Solar_S79y280', 'Aleo_Solar_P19Y285', 'Aleo_Solar_S19y285', 'Aleo_Solar_S59y285', 'Aleo_Solar_S79y285', 'Aleo_Solar_P19Y290', 'Aleo_Solar_S19y290', 'Aleo_Solar_S59y290', 'Aleo_Solar_S79Y290', 'Aleo_Solar_P19Y295', 'Aleo_Solar_S19Y295', 'Aleo_Solar_S59Y295', 'Aleo_Solar_S79Y295', 'Aleo_Solar_P19Y300', 'Aleo_Solar_S19Y300', 'Aleo_Solar_S59Y300', 'Aleo_Solar_S79Y300', 'Aleo_Solar_P19Y305', 'Aleo_Solar_S19Y305', 'Aleo_Solar_S59Y305', 'Aleo_Solar_S79Y305', 'Aleo_Solar_P19Y310', 'Aleo_Solar_S19Y310', 'Aleo_Solar_S59Y310', 'Hanwha_Q_CELLS_Q_PRO_G3_240', 'Hanwha_Q_CELLS_Q_PRO_BFR___G3_245', 'Hanwha_Q_CELLS_Q_PRO_G3_245', 'Hanwha_Q_CELLS_Q_PRO_BFR___G3_250', 'Hanwha_Q_CELLS_Q_PRO_G3_250', 'Hanwha_Q_CELLS_Q_PRO_BFR___G3_255', 'Hanwha_Q_CELLS_Q_PRO_BFR_G4_255', 'Hanwha_Q_CELLS_Q_PRO_BFR_G4_1_255', 'Hanwha_Q_CELLS_Q_PRO_G4_1_SC_255', 'Hanwha_Q_CELLS_Q_PRO_G3_255', 'Hanwha_Q_CELLS_Q_PRO_G4_255', 'Hanwha_Q_CELLS_Q_PRO_G4_SC_255', 'Hanwha_Q_CELLS_Q_PRO_BFR___G3_260', 'Hanwha_Q_CELLS_Q_PRO_BFR_G4_260', 'Hanwha_Q_CELLS_Q_PRO_BFR_G4_1_260', 'Hanwha_Q_CELLS_Q_PRO_BFR_G4_3_260', 'Hanwha_Q_CELLS_Q_PRO_G4_1_SC_260', 'Hanwha_Q_CELLS_Q_PRO_G3_260', 'Hanwha_Q_CELLS_Q_PRO_G4_260', 'Hanwha_Q_CELLS_Q_PRO_G4_SC_260', 'Hanwha_Q_CELLS_Q_PEAK_BLK_G3_265', 'Hanwha_Q_CELLS_Q_PEAK_G3_265', 'Hanwha_Q_CELLS_Q_PRO_BFR___G3_265', 'Hanwha_Q_CELLS_Q_PRO_BFR_G4_265', 'Hanwha_Q_CELLS_Q_PRO_BFR_G4_1_265', 'Hanwha_Q_CELLS_Q_PRO_BFR_G4_3_265', 'Hanwha_Q_CELLS_Q_PRO_G4_1_SC_265', 'Hanwha_Q_CELLS_Q_PRO_G3_265', 'Hanwha_Q_CELLS_Q_PRO_G4_265', 'Hanwha_Q_CELLS_Q_PRO_G4_SC_265', 'Hanwha_Q_CELLS_Q_PEAK_BLK_G3_270', 'Hanwha_Q_CELLS_Q_PEAK_G3_270', 'Hanwha_Q_CELLS_Q_PLUS_BFR_G3_1_270', 'Hanwha_Q_CELLS_Q_PLUS_BFR_G4_1_270', 'Hanwha_Q_CELLS_Q_PLUS_G4_270', 'Hanwha_Q_CELLS_Q_PLUS_G3_270', 'Hanwha_Q_CELLS_Q_PLUS_G4_1_SC_270', 'Hanwha_Q_CELLS_Q_PEAK_BLK_G3_275', 'Hanwha_Q_CELLS_Q_PEAK_G3_275', 'Hanwha_Q_CELLS_Q_PLUS_BFR_G3_1_275', 'Hanwha_Q_CELLS_Q_PLUS_BFR_G4_1_275', 'Hanwha_Q_CELLS_Q_PLUS_G4_275', 'Hanwha_Q_CELLS_Q_PLUS_G3_275', 'Hanwha_Q_CELLS_Q_PLUS_G4_1_SC_275', 'Hanwha_Q_CELLS_B_LINE_PEAK_BLK_G4_1_280', 'Hanwha_Q_CELLS_Q_PEAK_G3_280', 'Hanwha_Q_CELLS_Q_PLUS_BFR_G3_1_280', 'Hanwha_Q_CELLS_Q_PLUS_BFR_G4_1_280', 'Hanwha_Q_CELLS_Q_PLUS_BFR_G4_1_TAA_280', 'Hanwha_Q_CELLS_Q_PLUS_G4_280', 'Hanwha_Q_CELLS_Q_PLUS_G3_280', 'Hanwha_Q_CELLS_Q_PLUS_G4_1_SC_280', 'Hanwha_Q_CELLS_B_LINE_PEAK_BLK_G4_1_285', 'Hanwha_Q_CELLS_B_LINE_PEAK_BLK_G4_1_SC_285', 'Hanwha_Q_CELLS_Q_PEAK_BLK_G4_1_285', 'Hanwha_Q_CELLS_Q_PEAK_BLK_G4_1_SC_285', 'Hanwha_Q_CELLS_Q_PEAK_BLK_G4_1_TAA_285', 'Hanwha_Q_CELLS_Q_PLUS_BFR_G4_1_TAA_285', 'Hanwha_Q_CELLS_Q_PLUS_G4_1_SC_285', 'Hanwha_Q_CELLS_Q_PEAK_BLK_G3_1_290', 'Hanwha_Q_CELLS_Q_PEAK_BLK_G4_1_290', 'Hanwha_Q_CELLS_Q_PEAK_BLK_G4_1_SC_290', 'Hanwha_Q_CELLS_Q_PEAK_BLK_G4_1_TAA_290', 'Hanwha_Q_CELLS_Q_PLUS_BFR_G4_1_TAA_290', 'Hanwha_Q_CELLS_Q_PRO_L_290', 'Hanwha_Q_CELLS_Q_PEAK_BLK_G3_1_295', 'Hanwha_Q_CELLS_Q_PEAK_BLK_G4_1_295', 'Hanwha_Q_CELLS_Q_PEAK_BLK_G4_1_SC_295', 'Hanwha_Q_CELLS_Q_PEAK_BLK_G4_1_TAA_295', 'Hanwha_Q_CELLS_Q_PEAK_G3_1_295', 'Hanwha_Q_CELLS_Q_PEAK_G4_1_SC_295', 'Hanwha_Q_CELLS_Q_PRO_L_295', 'Hanwha_Q_CELLS_Q_PEAK_BLK_G4_1_300', 'Hanwha_Q_CELLS_Q_PEAK_BLK_G4_1_300W', 'Hanwha_Q_CELLS_Q_PEAK_BLK_G4_1_TAA_300', 'Hanwha_Q_CELLS_Q_PEAK_DUO_BLK_G5_300', 'Hanwha_Q_CELLS_Q_PEAK_G3_1_300', 'Hanwha_Q_CELLS_Q_PEAK_G4_1_SC_300', 'Hanwha_Q_CELLS_Q_PEAK_G4_1_TAA_300', 'Hanwha_Q_CELLS_Q_PRO_L_300', 'Hanwha_Q_CELLS_Q_PRO_L_G3_300', 'Hanwha_Q_CELLS_Q_PEAK_DUO_G5_305', 'Hanwha_Q_CELLS_Q_PEAK_G3_1_305', 'Hanwha_Q_CELLS_Q_PEAK_G4_1_SC_305', 'Hanwha_Q_CELLS_Q_PEAK_G4_1_TAA_305', 'Hanwha_Q_CELLS_Q_PRO_L_305', 'Hanwha_Q_CELLS_Q_PRO_L_G2_305', 'Hanwha_Q_CELLS_Q_PRO_L_G2_3_305', 'Hanwha_Q_CELLS_Q_PRO_L_G3_305', 'Hanwha_Q_CELLS_B_LINE_PRO_L_G4_1_307', 'Hanwha_Q_CELLS_Q_PEAK_DUO_BLK_G5_310', 'Hanwha_Q_CELLS_Q_PEAK_DUO_BLK_G5_SC_310', 'Hanwha_Q_CELLS_Q_PEAK_DUO_G5_310', 'Hanwha_Q_CELLS_Q_PRO_L_310', 'Hanwha_Q_CELLS_Q_PRO_L_G4_310', 'Hanwha_Q_CELLS_Q_PRO_L_G4_1_310', 'Hanwha_Q_CELLS_Q_PRO_L_G2_310', 'Hanwha_Q_CELLS_Q_PRO_L_G2_3_310', 'Hanwha_Q_CELLS_Q_PRO_L_G3_310', 'Hanwha_Q_CELLS_Q_PRO_L_G3_1_310', 'Hanwha_Q_CELLS_Q_PEAK_DUO_BLK_G5_315', 'Hanwha_Q_CELLS_Q_PEAK_DUO_BLK_G5_SC_315', 'Hanwha_Q_CELLS_Q_PEAK_DUO_G5_315', 'Hanwha_Q_CELLS_Q_PRO_L_G2_315', 'Hanwha_Q_CELLS_Q_PRO_L_G4_315', 'Hanwha_Q_CELLS_Q_PRO_L_G4_1_315', 'Hanwha_Q_CELLS_Q_PRO_L_G2_3_315', 'Hanwha_Q_CELLS_Q_PRO_L_G3_315', 'Hanwha_Q_CELLS_Q_PRO_L_G3_1_315', 'Hanwha_Q_CELLS_B_LINE_PLUS_L_G4_2_317', 'Hanwha_Q_CELLS_Q_PEAK_DUO_BLK_G5_320', 'Hanwha_Q_CELLS_Q_PEAK_DUO_BLK_G5_SC_320', 'Hanwha_Q_CELLS_Q_PEAK_DUO_G5_320', 'Hanwha_Q_CELLS_Q_PEAK_DUO_G5_SC_320', 'Hanwha_Q_CELLS_Q_PLUS_L_G4_320', 'Hanwha_Q_CELLS_Q_PLUS_L_G4_1_320', 'Hanwha_Q_CELLS_Q_PLUS_L_G4_2_320', 'Hanwha_Q_CELLS_Q_PRO_L_G4_320', 'Hanwha_Q_CELLS_Q_PRO_L_G4_1_320', 'Hanwha_Q_CELLS_Q_PRO_L_G3_1_320', 'Hanwha_Q_CELLS_B_LINE_PLUS_L_G4_1_322', 'Hanwha_Q_CELLS_B_LINE_PRO_L_G4_1_322', 'Hanwha_Q_CELLS_B_LINE_PLUS_L_G4_2_325', 'Hanwha_Q_CELLS_Q_PEAK_DUO_G5_325', 'Hanwha_Q_CELLS_Q_PEAK_DUO_G5_SC_325', 'Hanwha_Q_CELLS_Q_PLUS_L_G4_325', 'Hanwha_Q_CELLS_Q_PLUS_L_G4_1_325', 'Hanwha_Q_CELLS_Q_PLUS_L_G4_2_325', 'Hanwha_Q_CELLS_B_LINE_PLUS_L_G4_2_330', 'Hanwha_Q_CELLS_Q_PLUS_L_G4_330', 'Hanwha_Q_CELLS_Q_PLUS_L_G4_1_330', 'Hanwha_Q_CELLS_Q_PLUS_L_G4_2_330', 'Hanwha_Q_CELLS_B_LINE_PLUS_L_G4_2_332', 'Hanwha_Q_CELLS_B_LINE_PLUS_L_G4_2_335', 'Hanwha_Q_CELLS_Q_PLUS_L_G4_335', 'Hanwha_Q_CELLS_Q_PLUS_L_G4_1_335', 'Hanwha_Q_CELLS_Q_PLUS_L_G4_2_335', 'Hanwha_Q_CELLS_Q_PLUS_L_G4_2_TAA_335', 'Hanwha_Q_CELLS_Q_PLUS_L_G4_2_340W', 'Hanwha_Q_CELLS_Q_PLUS_L_G4_2_TAA_340', 'Hanwha_Q_CELLS_Q_PEAK_L_G4_1_345', 'Hanwha_Q_CELLS_Q_PLUS_L_G4_2_345W', 'Hanwha_Q_CELLS_Q_PLUS_L_G4_2_TAA_345', 'Hanwha_Q_CELLS_Q_PEAK_L_G4_1_350', 'Hanwha_Q_CELLS_Q_PLUS_L_G4_2_TAA_350', 'Hanwha_Q_CELLS_Q_PEAK_L_G4_1_355', 'Hanwha_Q_CELLS_Q_PEAK_L_G4_1_360', 'Hanwha_Q_CELLS_Q_PEAK_L_G4_2_360W', 'Hanwha_Q_CELLS_Q_PEAK_L_G4_2_365', 'Hanwha_Q_CELLS_Q_PEAK_L_G4_2_370', 'Hanwha_Q_CELLS__Qidong__HSL60P6_PA_3_230Q', 'Hanwha_Q_CELLS__Qidong__HSL60P6_PA_3_230QB', 'Hanwha_Q_CELLS__Qidong__HSL60P6_PA_3_230QW', 'Hanwha_Q_CELLS__Qidong__HSL60P6_PB_3_230Q', 'Hanwha_Q_CELLS__Qidong__HSL60P6_PB_3_230QB', 'Hanwha_Q_CELLS__Qidong__HSL60P6_PB_3_230QW', 'Hanwha_Q_CELLS__Qidong__HSL60P6_PA_0_235T', 'Hanwha_Q_CELLS__Qidong__HSL60P6_PA_0_235TB', 'Hanwha_Q_CELLS__Qidong__HSL60P6_PA_0_235TW', 'Hanwha_Q_CELLS__Qidong__HSL60P6_PA_2_235Q', 'Hanwha_Q_CELLS__Qidong__HSL60P6_PA_2_235QB', 'Hanwha_Q_CELLS__Qidong__HSL60P6_PA_2_235QW', 'Hanwha_Q_CELLS__Qidong__HSL60P6_PA_3_235Q', 'Hanwha_Q_CELLS__Qidong__HSL60P6_PA_3_235QB', 'Hanwha_Q_CELLS__Qidong__HSL60P6_PA_3_235QW', 'Hanwha_Q_CELLS__Qidong__HSL60P6_PA_4_235Q', 'Hanwha_Q_CELLS__Qidong__HSL60P6_PA_4_235QB', 'Hanwha_Q_CELLS__Qidong__HSL60P6_PA_4_235QW', 'Hanwha_Q_CELLS__Qidong__HSL60P6_PA_4_235T', 'Hanwha_Q_CELLS__Qidong__HSL60P6_PA_4_235TB', 'Hanwha_Q_CELLS__Qidong__HSL60P6_PA_4_235TW', 'Hanwha_Q_CELLS__Qidong__HSL60P6_PB_2_235Q', 'Hanwha_Q_CELLS__Qidong__HSL60P6_PB_2_235QB', 'Hanwha_Q_CELLS__Qidong__HSL60P6_PB_2_235QW', 'Hanwha_Q_CELLS__Qidong__HSL60P6_PB_3_235Q', 'Hanwha_Q_CELLS__Qidong__HSL60P6_PB_3_235QB', 'Hanwha_Q_CELLS__Qidong__HSL60P6_PB_3_235QW', 'Hanwha_Q_CELLS__Qidong__HSL60P6_PB_4_235Q', 'Hanwha_Q_CELLS__Qidong__HSL60P6_PB_4_235QB', 'Hanwha_Q_CELLS__Qidong__HSL60P6_PB_4_235QW', 'Hanwha_Q_CELLS__Qidong__HSL60M6_HA_0_240T', 'Hanwha_Q_CELLS__Qidong__HSL60M6_HB_0_240T', 'Hanwha_Q_CELLS__Qidong__HSL60M6_HB_4_240T', 'Hanwha_Q_CELLS__Qidong__HSL60M6_HB_4_240TB', 'Hanwha_Q_CELLS__Qidong__HSL60M6_HB_4_240TW', 'Hanwha_Q_CELLS__Qidong__HSL60P6_PA_0_240T', 'Hanwha_Q_CELLS__Qidong__HSL60P6_PA_0_240TB', 'Hanwha_Q_CELLS__Qidong__HSL60P6_PA_0_240TW', 'Hanwha_Q_CELLS__Qidong__HSL60P6_PA_2_240Q', 'Hanwha_Q_CELLS__Qidong__HSL60P6_PA_2_240QB', 'Hanwha_Q_CELLS__Qidong__HSL60P6_PA_2_240QW', 'Hanwha_Q_CELLS__Qidong__HSL60P6_PA_3_240Q', 'Hanwha_Q_CELLS__Qidong__HSL60P6_PA_3_240QB', 'Hanwha_Q_CELLS__Qidong__HSL60P6_PA_3_240QW', 'Hanwha_Q_CELLS__Qidong__HSL60P6_PA_4_240Q', 'Hanwha_Q_CELLS__Qidong__HSL60P6_PA_4_240QB', 'Hanwha_Q_CELLS__Qidong__HSL60P6_PA_4_240QW', 'Hanwha_Q_CELLS__Qidong__HSL60P6_PA_4_240T', 'Hanwha_Q_CELLS__Qidong__HSL60P6_PA_4_240TB', 'Hanwha_Q_CELLS__Qidong__HSL60P6_PA_4_240TW', 'Hanwha_Q_CELLS__Qidong__HSL60P6_PB_0_240T', 'Hanwha_Q_CELLS__Qidong__HSL60P6_PB_0_240TB', 'Hanwha_Q_CELLS__Qidong__HSL60P6_PB_0_240TW', 'Hanwha_Q_CELLS__Qidong__HSL60P6_PB_2_240Q', 'Hanwha_Q_CELLS__Qidong__HSL60P6_PB_2_240QB', 'Hanwha_Q_CELLS__Qidong__HSL60P6_PB_2_240QW', 'Hanwha_Q_CELLS__Qidong__HSL60P6_PB_3_240QB', 'Hanwha_Q_CELLS__Qidong__HSL60P6_PB_4_240Q', 'Hanwha_Q_CELLS__Qidong__HSL60P6_PB_4_240QW', 'Hanwha_Q_CELLS__Qidong__HSL60P6_PB_4_240T', 'Hanwha_Q_CELLS__Qidong__HSL60P6_PB_4_240TB', 'Hanwha_Q_CELLS__Qidong__HSL60P6_PB_4_240TW', 'Hanwha_Q_CELLS__Qidong__HSL60M6_HB_0_245TW', 'Hanwha_Q_CELLS__Qidong__HSL60M6_HB_4_245T', 'Hanwha_Q_CELLS__Qidong__HSL60M6_HB_4_245TB', 'Hanwha_Q_CELLS__Qidong__HSL60M6_HB_4_245TW', 'Hanwha_Q_CELLS__Qidong__HSL60P6_PA_0_245T', 'Hanwha_Q_CELLS__Qidong__HSL60P6_PA_0_245TB', 'Hanwha_Q_CELLS__Qidong__HSL60P6_PA_0_245TW', 'Hanwha_Q_CELLS__Qidong__HSL60P6_PA_2_245Q', 'Hanwha_Q_CELLS__Qidong__HSL60P6_PA_2_245QB', 'Hanwha_Q_CELLS__Qidong__HSL60P6_PA_2_245QW', 'Hanwha_Q_CELLS__Qidong__HSL60P6_PA_3_245Q', 'Hanwha_Q_CELLS__Qidong__HSL60P6_PA_3_245QB', 'Hanwha_Q_CELLS__Qidong__HSL60P6_PA_3_245QW', 'Hanwha_Q_CELLS__Qidong__HSL60P6_PA_4_245Q', 'Hanwha_Q_CELLS__Qidong__HSL60P6_PA_4_245QB', 'Hanwha_Q_CELLS__Qidong__HSL60P6_PA_4_245QW', 'Hanwha_Q_CELLS__Qidong__HSL60P6_PA_4_245T', 'Hanwha_Q_CELLS__Qidong__HSL60P6_PA_4_245TB', 'Hanwha_Q_CELLS__Qidong__HSL60P6_PA_4_245TW', 'Hanwha_Q_CELLS__Qidong__HSL60P6_PB_0_245T', 'Hanwha_Q_CELLS__Qidong__HSL60P6_PB_0_245TB', 'Hanwha_Q_CELLS__Qidong__HSL60P6_PB_0_245TW', 'Hanwha_Q_CELLS__Qidong__HSL60P6_PB_2_245Q', 'Hanwha_Q_CELLS__Qidong__HSL60P6_PB_2_245QB', 'Hanwha_Q_CELLS__Qidong__HSL60P6_PB_2_245QW', 'Hanwha_Q_CELLS__Qidong__HSL60P6_PB_3_245Q', 'Hanwha_Q_CELLS__Qidong__HSL60P6_PB_3_245QB', 'Hanwha_Q_CELLS__Qidong__HSL60P6_PB_3_245QW', 'Hanwha_Q_CELLS__Qidong__HSL60P6_PB_4_245', 'Hanwha_Q_CELLS__Qidong__HSL60P6_PB_4_245Q', 'Hanwha_Q_CELLS__Qidong__HSL60P6_PB_4_245QB', 'Hanwha_Q_CELLS__Qidong__HSL60P6_PB_4_245QW', 'Hanwha_Q_CELLS__Qidong__HSL60P6_PB_4_245T', 'Hanwha_Q_CELLS__Qidong__HSL60P6_PB_4_245TB', 'Hanwha_Q_CELLS__Qidong__HSL60P6_PB_4_245TW', 'Hanwha_Q_CELLS__Qidong__HSL60P6_PB_4_245W', 'Hanwha_Q_CELLS__Qidong__HSL60M6_HA_0_250T', 'Hanwha_Q_CELLS__Qidong__HSL60P6_PA_2_250QB', 'Hanwha_Q_CELLS__Qidong__HSL60P6_PA_2_250QW', 'Hanwha_Q_CELLS__Qidong__HSL60P6_PA_3_250Q', 'Hanwha_Q_CELLS__Qidong__HSL60P6_PA_3_250QB', 'Hanwha_Q_CELLS__Qidong__HSL60P6_PA_3_250QW', 'Hanwha_Q_CELLS__Qidong__HSL60P6_PA_4_250Q', 'Hanwha_Q_CELLS__Qidong__HSL60P6_PA_4_250QB', 'Hanwha_Q_CELLS__Qidong__HSL60P6_PA_4_250QW', 'Hanwha_Q_CELLS__Qidong__HSL60P6_PA_4_250T', 'Hanwha_Q_CELLS__Qidong__HSL60P6_PA_4_250TB', 'Hanwha_Q_CELLS__Qidong__HSL60P6_PA_4_250TW', 'Hanwha_Q_CELLS__Qidong__HSL60P6_PB_0_250T', 'Hanwha_Q_CELLS__Qidong__HSL60P6_PB_0_250TB', 'Hanwha_Q_CELLS__Qidong__HSL60P6_PB_0_250TW', 'Hanwha_Q_CELLS__Qidong__HSL60P6_PB_2_250Q', 'Hanwha_Q_CELLS__Qidong__HSL60P6_PB_2_250QB', 'Hanwha_Q_CELLS__Qidong__HSL60P6_PB_2_250QW', 'Hanwha_Q_CELLS__Qidong__HSL60P6_PB_3_250Q', 'Hanwha_Q_CELLS__Qidong__HSL60P6_PB_3_250QB', 'Hanwha_Q_CELLS__Qidong__HSL60P6_PB_3_250QW', 'Hanwha_Q_CELLS__Qidong__HSL60P6_PB_4_250', 'Hanwha_Q_CELLS__Qidong__HSL60P6_PB_4_250Q', 'Hanwha_Q_CELLS__Qidong__HSL60P6_PB_4_250QB', 'Hanwha_Q_CELLS__Qidong__HSL60P6_PB_4_250QW', 'Hanwha_Q_CELLS__Qidong__HSL60P6_PB_4_250T', 'Hanwha_Q_CELLS__Qidong__HSL60P6_PB_4_250TB', 'Hanwha_Q_CELLS__Qidong__HSL60P6_PB_4_250TW', 'Hanwha_Q_CELLS__Qidong__HSL60P6_PB_4_250W', 'Hanwha_Q_CELLS__Qidong__HSL60P6_PC_3_250', 'Hanwha_Q_CELLS__Qidong__HSL60P6_PC_3_250W', 'Hanwha_Q_CELLS__Qidong__HSL60M6_HA_4_255T', 'Hanwha_Q_CELLS__Qidong__HSL60M6_HA_4_255TB', 'Hanwha_Q_CELLS__Qidong__HSL60M6_HA_4_255TW', 'Hanwha_Q_CELLS__Qidong__HSL60M6_HB_4_255T', 'Hanwha_Q_CELLS__Qidong__HSL60M6_HB_4_255TB', 'Hanwha_Q_CELLS__Qidong__HSL60M6_HB_4_255TW', 'Hanwha_Q_CELLS__Qidong__HSL60P6_PA_0_255T', 'Hanwha_Q_CELLS__Qidong__HSL60P6_PA_0_255TB', 'Hanwha_Q_CELLS__Qidong__HSL60P6_PA_0_255TW', 'Hanwha_Q_CELLS__Qidong__HSL60P6_PA_2_255Q', 'Hanwha_Q_CELLS__Qidong__HSL60P6_PA_2_255QB', 'Hanwha_Q_CELLS__Qidong__HSL60P6_PA_2_255QW', 'Hanwha_Q_CELLS__Qidong__HSL60P6_PA_3_255Q', 'Hanwha_Q_CELLS__Qidong__HSL60P6_PA_3_255QB', 'Hanwha_Q_CELLS__Qidong__HSL60P6_PA_3_255QW', 'Hanwha_Q_CELLS__Qidong__HSL60P6_PA_4_255Q', 'Hanwha_Q_CELLS__Qidong__HSL60P6_PA_4_255QB', 'Hanwha_Q_CELLS__Qidong__HSL60P6_PA_4_255QW', 'Hanwha_Q_CELLS__Qidong__HSL60P6_PA_4_255T', 'Hanwha_Q_CELLS__Qidong__HSL60P6_PA_4_255TB', 'Hanwha_Q_CELLS__Qidong__HSL60P6_PA_4_255TW', 'Hanwha_Q_CELLS__Qidong__HSL60P6_PB_0_255T', 'Hanwha_Q_CELLS__Qidong__HSL60P6_PB_0_255TB', 'Hanwha_Q_CELLS__Qidong__HSL60P6_PB_0_255TW', 'Hanwha_Q_CELLS__Qidong__HSL60P6_PB_2_255Q', 'Hanwha_Q_CELLS__Qidong__HSL60P6_PB_2_255QB', 'Hanwha_Q_CELLS__Qidong__HSL60P6_PB_2_255QW', 'Hanwha_Q_CELLS__Qidong__HSL60P6_PB_3_255Q', 'Hanwha_Q_CELLS__Qidong__HSL60P6_PB_3_255QB', 'Hanwha_Q_CELLS__Qidong__HSL60P6_PB_3_255QW', 'Hanwha_Q_CELLS__Qidong__HSL60P6_PB_4_255', 'Hanwha_Q_CELLS__Qidong__HSL60P6_PB_4_255Q', 'Hanwha_Q_CELLS__Qidong__HSL60P6_PB_4_255QB', 'Hanwha_Q_CELLS__Qidong__HSL60P6_PB_4_255QW', 'Hanwha_Q_CELLS__Qidong__HSL60P6_PB_4_255T', 'Hanwha_Q_CELLS__Qidong__HSL60P6_PB_4_255TB', 'Hanwha_Q_CELLS__Qidong__HSL60P6_PB_4_255TW', 'Hanwha_Q_CELLS__Qidong__HSL60P6_PB_4_255W', 'Hanwha_Q_CELLS__Qidong__HSL60P6_PC_3_255', 'Hanwha_Q_CELLS__Qidong__HSL60P6_PC_3_255W', 'Hanwha_Q_CELLS__Qidong__HSL60M6_HA_4_260T', 'Hanwha_Q_CELLS__Qidong__HSL60M6_HA_4_260TB', 'Hanwha_Q_CELLS__Qidong__HSL60M6_HA_4_260TW', 'Hanwha_Q_CELLS__Qidong__HSL60M6_HB_0_260T', 'Hanwha_Q_CELLS__Qidong__HSL60M6_HB_4_260T', 'Hanwha_Q_CELLS__Qidong__HSL60M6_HB_4_260TB', 'Hanwha_Q_CELLS__Qidong__HSL60M6_HB_4_260TW', 'Hanwha_Q_CELLS__Qidong__HSL60P6_PB_0_260T', 'Hanwha_Q_CELLS__Qidong__HSL60P6_PB_0_260TW', 'Hanwha_Q_CELLS__Qidong__HSL60P6_PB_4_260', 'Hanwha_Q_CELLS__Qidong__HSL60P6_PB_4_260T', 'Hanwha_Q_CELLS__Qidong__HSL60P6_PB_4_260TW', 'Hanwha_Q_CELLS__Qidong__HSL60P6_PB_4_260W', 'Hanwha_Q_CELLS__Qidong__HSL60P6_PC_3_260', 'Hanwha_Q_CELLS__Qidong__HSL60P6_PC_3_260W', 'Hanwha_Q_CELLS__Qidong__HSL60P6_PB_0_265T', 'Hanwha_Q_CELLS__Qidong__HSL60P6_PB_0_265TW', 'Hanwha_Q_CELLS__Qidong__HSL60P6_PB_4_265T', 'Hanwha_Q_CELLS__Qidong__HSL60P6_PB_4_265TW', 'Hanwha_Q_CELLS__Qidong__HSL60P6_PC_3_265', 'Hanwha_Q_CELLS__Qidong__HSL60P6_PC_3_265W', 'Hanwha_Q_CELLS__Qidong__HSL60P6_PB_0_270T', 'Hanwha_Q_CELLS__Qidong__HSL60P6_PB_0_270TW', 'Hanwha_Q_CELLS__Qidong__HSL60P6_PB_4_270T', 'Hanwha_Q_CELLS__Qidong__HSL60P6_PB_4_270TW', 'Hanwha_Q_CELLS__Qidong__HSL60P6_PC_3_270', 'Hanwha_Q_CELLS__Qidong__HSL60P6_PC_3_275', 'Hanwha_Q_CELLS__Qidong__HSL72P6_PA_0_275T', 'Hanwha_Q_CELLS__Qidong__HSL72P6_PA_0_275TB', 'Hanwha_Q_CELLS__Qidong__HSL72P6_PA_0_275TW', 'Hanwha_Q_CELLS__Qidong__HSL72P6_PA_4_275T', 'Hanwha_Q_CELLS__Qidong__HSL72P6_PA_4_275TB', 'Hanwha_Q_CELLS__Qidong__HSL72P6_PA_4_275TW', 'Hanwha_Q_CELLS__Qidong__HSL72P6_PA_0_280T', 'Hanwha_Q_CELLS__Qidong__HSL72P6_PA_0_280TB', 'Hanwha_Q_CELLS__Qidong__HSL72P6_PA_0_280TW', 'Hanwha_Q_CELLS__Qidong__HSL72P6_PA_2_280Q', 'Hanwha_Q_CELLS__Qidong__HSL72P6_PA_2_280QB', 'Hanwha_Q_CELLS__Qidong__HSL72P6_PA_2_280QW', 'Hanwha_Q_CELLS__Qidong__HSL72P6_PA_3_280Q', 'Hanwha_Q_CELLS__Qidong__HSL72P6_PA_3_280QB', 'Hanwha_Q_CELLS__Qidong__HSL72P6_PA_3_280QW', 'Hanwha_Q_CELLS__Qidong__HSL72P6_PA_4_280Q', 'Hanwha_Q_CELLS__Qidong__HSL72P6_PA_4_280QB', 'Hanwha_Q_CELLS__Qidong__HSL72P6_PA_4_280QW', 'Hanwha_Q_CELLS__Qidong__HSL72P6_PA_4_280T', 'Hanwha_Q_CELLS__Qidong__HSL72P6_PA_4_280TB', 'Hanwha_Q_CELLS__Qidong__HSL72P6_PA_4_280TW', 'Hanwha_Q_CELLS__Qidong__HSL72P6_PB_2_280Q', 'Hanwha_Q_CELLS__Qidong__HSL72P6_PB_2_280QB', 'Hanwha_Q_CELLS__Qidong__HSL72P6_PB_2_280QW', 'Hanwha_Q_CELLS__Qidong__HSL72P6_PB_3_280Q', 'Hanwha_Q_CELLS__Qidong__HSL72P6_PB_3_280QB', 'Hanwha_Q_CELLS__Qidong__HSL72P6_PB_3_280QW', 'Hanwha_Q_CELLS__Qidong__HSL72P6_PB_4_280Q', 'Hanwha_Q_CELLS__Qidong__HSL72P6_PB_4_280QB', 'Hanwha_Q_CELLS__Qidong__HSL72P6_PB_4_280QW', 'Hanwha_Q_CELLS__Qidong__HSL72M6_HA_0_285T', 'Hanwha_Q_CELLS__Qidong__HSL72M6_HA_0_285TB', 'Hanwha_Q_CELLS__Qidong__HSL72M6_HA_0_285TW', 'Hanwha_Q_CELLS__Qidong__HSL72M6_HA_4_285T', 'Hanwha_Q_CELLS__Qidong__HSL72M6_HA_4_285TB', 'Hanwha_Q_CELLS__Qidong__HSL72M6_HA_4_285TW', 'Hanwha_Q_CELLS__Qidong__HSL72M6_HB_0_285T', 'Hanwha_Q_CELLS__Qidong__HSL72M6_HB_0_285TB', 'Hanwha_Q_CELLS__Qidong__HSL72M6_HB_0_285TW', 'Hanwha_Q_CELLS__Qidong__HSL72M6_HB_4_285T', 'Hanwha_Q_CELLS__Qidong__HSL72M6_HB_4_285TB', 'Hanwha_Q_CELLS__Qidong__HSL72M6_HB_4_285TW', 'Hanwha_Q_CELLS__Qidong__HSL72P6_PA_0_285T', 'Hanwha_Q_CELLS__Qidong__HSL72P6_PA_0_285TB', 'Hanwha_Q_CELLS__Qidong__HSL72P6_PA_0_285TW', 'Hanwha_Q_CELLS__Qidong__HSL72P6_PA_2_285Q', 'Hanwha_Q_CELLS__Qidong__HSL72P6_PA_2_285QB', 'Hanwha_Q_CELLS__Qidong__HSL72P6_PA_2_285QW', 'Hanwha_Q_CELLS__Qidong__HSL72P6_PA_3_285Q', 'Hanwha_Q_CELLS__Qidong__HSL72P6_PA_3_285QB', 'Hanwha_Q_CELLS__Qidong__HSL72P6_PA_3_285QW', 'Hanwha_Q_CELLS__Qidong__HSL72P6_PA_4_285Q', 'Hanwha_Q_CELLS__Qidong__HSL72P6_PA_4_285QB', 'Hanwha_Q_CELLS__Qidong__HSL72P6_PA_4_285QW', 'Hanwha_Q_CELLS__Qidong__HSL72P6_PA_4_285T', 'Hanwha_Q_CELLS__Qidong__HSL72P6_PA_4_285TB', 'Hanwha_Q_CELLS__Qidong__HSL72P6_PA_4_285TW', 'Hanwha_Q_CELLS__Qidong__HSL72P6_PB_0_285T', 'Hanwha_Q_CELLS__Qidong__HSL72P6_PB_0_285TB', 'Hanwha_Q_CELLS__Qidong__HSL72P6_PB_0_285TW', 'Hanwha_Q_CELLS__Qidong__HSL72P6_PB_2_285Q', 'Hanwha_Q_CELLS__Qidong__HSL72P6_PB_2_285QB', 'Hanwha_Q_CELLS__Qidong__HSL72P6_PB_2_285QW', 'Hanwha_Q_CELLS__Qidong__HSL72P6_PB_3_285Q', 'Hanwha_Q_CELLS__Qidong__HSL72P6_PB_3_285QB', 'Hanwha_Q_CELLS__Qidong__HSL72P6_PB_3_285QW', 'Hanwha_Q_CELLS__Qidong__HSL72P6_PB_4_285Q', 'Hanwha_Q_CELLS__Qidong__HSL72P6_PB_4_285QB', 'Hanwha_Q_CELLS__Qidong__HSL72P6_PB_4_285QW', 'Hanwha_Q_CELLS__Qidong__HSL72P6_PB_4_285T', 'Hanwha_Q_CELLS__Qidong__HSL72P6_PB_4_285TB', 'Hanwha_Q_CELLS__Qidong__HSL72P6_PB_4_285TW', 'Hanwha_Q_CELLS__Qidong__HSL72M6_HA_0_290T', 'Hanwha_Q_CELLS__Qidong__HSL72M6_HA_0_290TB', 'Hanwha_Q_CELLS__Qidong__HSL72M6_HA_0_290TW', 'Hanwha_Q_CELLS__Qidong__HSL72M6_HA_4_290T', 'Hanwha_Q_CELLS__Qidong__HSL72M6_HA_4_290TB', 'Hanwha_Q_CELLS__Qidong__HSL72M6_HA_4_290TW', 'Hanwha_Q_CELLS__Qidong__HSL72M6_HB_0_290T', 'Hanwha_Q_CELLS__Qidong__HSL72M6_HB_0_290TB', 'Hanwha_Q_CELLS__Qidong__HSL72M6_HB_0_290TW', 'Hanwha_Q_CELLS__Qidong__HSL72M6_HB_4_290T', 'Hanwha_Q_CELLS__Qidong__HSL72M6_HB_4_290TB', 'Hanwha_Q_CELLS__Qidong__HSL72M6_HB_4_290TW', 'Hanwha_Q_CELLS__Qidong__HSL72P6_PA_0_290T', 'Hanwha_Q_CELLS__Qidong__HSL72P6_PA_0_290TB', 'Hanwha_Q_CELLS__Qidong__HSL72P6_PA_0_290TW', 'Hanwha_Q_CELLS__Qidong__HSL72P6_PA_2_290QB', 'Hanwha_Q_CELLS__Qidong__HSL72P6_PA_3_290Q', 'Hanwha_Q_CELLS__Qidong__HSL72P6_PA_3_290QW', 'Hanwha_Q_CELLS__Qidong__HSL72P6_PA_4_290Q', 'Hanwha_Q_CELLS__Qidong__HSL72P6_PA_4_290QB', 'Hanwha_Q_CELLS__Qidong__HSL72P6_PA_4_290QW', 'Hanwha_Q_CELLS__Qidong__HSL72P6_PA_4_290T', 'Hanwha_Q_CELLS__Qidong__HSL72P6_PA_4_290TB', 'Hanwha_Q_CELLS__Qidong__HSL72P6_PA_4_290TW', 'Hanwha_Q_CELLS__Qidong__HSL72P6_PB_0_290T', 'Hanwha_Q_CELLS__Qidong__HSL72P6_PB_0_290TB', 'Hanwha_Q_CELLS__Qidong__HSL72P6_PB_0_290TW', 'Hanwha_Q_CELLS__Qidong__HSL72P6_PB_2_290Q', 'Hanwha_Q_CELLS__Qidong__HSL72P6_PB_2_290QB', 'Hanwha_Q_CELLS__Qidong__HSL72P6_PB_2_290QW', 'Hanwha_Q_CELLS__Qidong__HSL72P6_PB_3_290Q', 'Hanwha_Q_CELLS__Qidong__HSL72P6_PB_3_290QB', 'Hanwha_Q_CELLS__Qidong__HSL72P6_PB_3_290QW', 'Hanwha_Q_CELLS__Qidong__HSL72P6_PB_4_290Q', 'Hanwha_Q_CELLS__Qidong__HSL72P6_PB_4_290QB', 'Hanwha_Q_CELLS__Qidong__HSL72P6_PB_4_290QW', 'Hanwha_Q_CELLS__Qidong__HSL72P6_PB_4_290T', 'Hanwha_Q_CELLS__Qidong__HSL72P6_PB_4_290TB', 'Hanwha_Q_CELLS__Qidong__HSL72P6_PB_4_290TW', 'Hanwha_Q_CELLS__Qidong__HSL72P6_PC_3_290', 'Hanwha_Q_CELLS__Qidong__HSL72P6_PC_3_290W', 'Hanwha_Q_CELLS__Qidong__HSL72M6_HA_0_295T', 'Hanwha_Q_CELLS__Qidong__HSL72M6_HA_0_295TB', 'Hanwha_Q_CELLS__Qidong__HSL72M6_HA_0_295TW', 'Hanwha_Q_CELLS__Qidong__HSL72M6_HA_4_295T', 'Hanwha_Q_CELLS__Qidong__HSL72M6_HA_4_295TB', 'Hanwha_Q_CELLS__Qidong__HSL72M6_HA_4_295TW', 'Hanwha_Q_CELLS__Qidong__HSL72M6_HB_0_295T', 'Hanwha_Q_CELLS__Qidong__HSL72M6_HB_0_295TB', 'Hanwha_Q_CELLS__Qidong__HSL72M6_HB_0_295TW', 'Hanwha_Q_CELLS__Qidong__HSL72M6_HB_4_295T', 'Hanwha_Q_CELLS__Qidong__HSL72M6_HB_4_295TB', 'Hanwha_Q_CELLS__Qidong__HSL72M6_HB_4_295TW', 'Hanwha_Q_CELLS__Qidong__HSL72P6_PA_0_295T', 'Hanwha_Q_CELLS__Qidong__HSL72P6_PA_0_295TB', 'Hanwha_Q_CELLS__Qidong__HSL72P6_PA_0_295TW', 'Hanwha_Q_CELLS__Qidong__HSL72P6_PA_2_295Q', 'Hanwha_Q_CELLS__Qidong__HSL72P6_PA_2_295QB', 'Hanwha_Q_CELLS__Qidong__HSL72P6_PA_2_295QW', 'Hanwha_Q_CELLS__Qidong__HSL72P6_PA_3_295Q', 'Hanwha_Q_CELLS__Qidong__HSL72P6_PA_3_295QB', 'Hanwha_Q_CELLS__Qidong__HSL72P6_PA_3_295QW', 'Hanwha_Q_CELLS__Qidong__HSL72P6_PA_4_295Q', 'Hanwha_Q_CELLS__Qidong__HSL72P6_PA_4_295QB', 'Hanwha_Q_CELLS__Qidong__HSL72P6_PA_4_295QW', 'Hanwha_Q_CELLS__Qidong__HSL72P6_PA_4_295T', 'Hanwha_Q_CELLS__Qidong__HSL72P6_PA_4_295TB', 'Hanwha_Q_CELLS__Qidong__HSL72P6_PA_4_295TW', 'Hanwha_Q_CELLS__Qidong__HSL72P6_PB_0_295T', 'Hanwha_Q_CELLS__Qidong__HSL72P6_PB_0_295TB', 'Hanwha_Q_CELLS__Qidong__HSL72P6_PB_0_295TW', 'Hanwha_Q_CELLS__Qidong__HSL72P6_PB_2_295Q', 'Hanwha_Q_CELLS__Qidong__HSL72P6_PB_2_295QB', 'Hanwha_Q_CELLS__Qidong__HSL72P6_PB_2_295QW', 'Hanwha_Q_CELLS__Qidong__HSL72P6_PB_3_295Q', 'Hanwha_Q_CELLS__Qidong__HSL72P6_PB_3_295QB', 'Hanwha_Q_CELLS__Qidong__HSL72P6_PB_3_295QW', 'Hanwha_Q_CELLS__Qidong__HSL72P6_PB_4_295', 'Hanwha_Q_CELLS__Qidong__HSL72P6_PB_4_295Q', 'Hanwha_Q_CELLS__Qidong__HSL72P6_PB_4_295QB', 'Hanwha_Q_CELLS__Qidong__HSL72P6_PB_4_295QW', 'Hanwha_Q_CELLS__Qidong__HSL72P6_PB_4_295T', 'Hanwha_Q_CELLS__Qidong__HSL72P6_PB_4_295TB', 'Hanwha_Q_CELLS__Qidong__HSL72P6_PB_4_295TW', 'Hanwha_Q_CELLS__Qidong__HSL72P6_PB_4_295W', 'Hanwha_Q_CELLS__Qidong__HSL72P6_PC_3_295', 'Hanwha_Q_CELLS__Qidong__HSL72P6_PC_3_295Q', 'Hanwha_Q_CELLS__Qidong__HSL72P6_PC_3_295QW', 'Hanwha_Q_CELLS__Qidong__HSL72P6_PC_3_295W', 'Hanwha_Q_CELLS__Qidong__HSL72M6_HA_0_300T', 'Hanwha_Q_CELLS__Qidong__HSL72M6_HA_0_300TB', 'Hanwha_Q_CELLS__Qidong__HSL72M6_HA_0_300TW', 'Hanwha_Q_CELLS__Qidong__HSL72M6_HA_4_300T', 'Hanwha_Q_CELLS__Qidong__HSL72M6_HA_4_300TB', 'Hanwha_Q_CELLS__Qidong__HSL72M6_HA_4_300TW', 'Hanwha_Q_CELLS__Qidong__HSL72M6_HB_0_300T', 'Hanwha_Q_CELLS__Qidong__HSL72M6_HB_0_300TB', 'Hanwha_Q_CELLS__Qidong__HSL72M6_HB_0_300TW', 'Hanwha_Q_CELLS__Qidong__HSL72M6_HB_4_300T', 'Hanwha_Q_CELLS__Qidong__HSL72M6_HB_4_300TB', 'Hanwha_Q_CELLS__Qidong__HSL72M6_HB_4_300TW', 'Hanwha_Q_CELLS__Qidong__HSL72P6_PA_0_300T', 'Hanwha_Q_CELLS__Qidong__HSL72P6_PA_0_300TW', 'Hanwha_Q_CELLS__Qidong__HSL72P6_PA_2_300Q', 'Hanwha_Q_CELLS__Qidong__HSL72P6_PA_2_300QB', 'Hanwha_Q_CELLS__Qidong__HSL72P6_PA_2_300QW', 'Hanwha_Q_CELLS__Qidong__HSL72P6_PA_3_300Q', 'Hanwha_Q_CELLS__Qidong__HSL72P6_PA_3_300QB', 'Hanwha_Q_CELLS__Qidong__HSL72P6_PA_3_300QW', 'Hanwha_Q_CELLS__Qidong__HSL72P6_PA_4_300Q', 'Hanwha_Q_CELLS__Qidong__HSL72P6_PA_4_300QB', 'Hanwha_Q_CELLS__Qidong__HSL72P6_PA_4_300QW', 'Hanwha_Q_CELLS__Qidong__HSL72P6_PA_4_300T', 'Hanwha_Q_CELLS__Qidong__HSL72P6_PA_4_300TW', 'Hanwha_Q_CELLS__Qidong__HSL72P6_PB_0_300T', 'Hanwha_Q_CELLS__Qidong__HSL72P6_PB_0_300TW', 'Hanwha_Q_CELLS__Qidong__HSL72P6_PB_2_300Q', 'Hanwha_Q_CELLS__Qidong__HSL72P6_PB_2_300QB', 'Hanwha_Q_CELLS__Qidong__HSL72P6_PB_2_300QW', 'Hanwha_Q_CELLS__Qidong__HSL72P6_PB_3_300Q', 'Hanwha_Q_CELLS__Qidong__HSL72P6_PB_3_300QB', 'Hanwha_Q_CELLS__Qidong__HSL72P6_PB_3_300QW', 'Hanwha_Q_CELLS__Qidong__HSL72P6_PB_4_300', 'Hanwha_Q_CELLS__Qidong__HSL72P6_PB_4_300Q', 'Hanwha_Q_CELLS__Qidong__HSL72P6_PB_4_300QB', 'Hanwha_Q_CELLS__Qidong__HSL72P6_PB_4_300QW', 'Hanwha_Q_CELLS__Qidong__HSL72P6_PB_4_300T', 'Hanwha_Q_CELLS__Qidong__HSL72P6_PB_4_300TW', 'Hanwha_Q_CELLS__Qidong__HSL72P6_PB_4_300W', 'Hanwha_Q_CELLS__Qidong__HSL72P6_PC_3_300', 'Hanwha_Q_CELLS__Qidong__HSL72P6_PC_3_300Q', 'Hanwha_Q_CELLS__Qidong__HSL72P6_PC_3_300QW', 'Hanwha_Q_CELLS__Qidong__HSL72P6_PC_3_300W', 'Hanwha_Q_CELLS__Qidong__HSL72M6_HA_0_305T', 'Hanwha_Q_CELLS__Qidong__HSL72M6_HA_0_305TB', 'Hanwha_Q_CELLS__Qidong__HSL72M6_HA_0_305TW', 'Hanwha_Q_CELLS__Qidong__HSL72M6_HA_4_305T', 'Hanwha_Q_CELLS__Qidong__HSL72M6_HA_4_305TB', 'Hanwha_Q_CELLS__Qidong__HSL72M6_HA_4_305TW', 'Hanwha_Q_CELLS__Qidong__HSL72M6_HB_0_305T', 'Hanwha_Q_CELLS__Qidong__HSL72M6_HB_0_305TB', 'Hanwha_Q_CELLS__Qidong__HSL72M6_HB_0_305TW', 'Hanwha_Q_CELLS__Qidong__HSL72M6_HB_4_305T', 'Hanwha_Q_CELLS__Qidong__HSL72M6_HB_4_305TB', 'Hanwha_Q_CELLS__Qidong__HSL72M6_HB_4_305TW', 'Hanwha_Q_CELLS__Qidong__HSL72P6_PA_0_305T', 'Hanwha_Q_CELLS__Qidong__HSL72P6_PA_0_305TB', 'Hanwha_Q_CELLS__Qidong__HSL72P6_PA_0_305TW', 'Hanwha_Q_CELLS__Qidong__HSL72P6_PA_2_305Q', 'Hanwha_Q_CELLS__Qidong__HSL72P6_PA_2_305QB', 'Hanwha_Q_CELLS__Qidong__HSL72P6_PA_2_305QW', 'Hanwha_Q_CELLS__Qidong__HSL72P6_PA_3_305Q', 'Hanwha_Q_CELLS__Qidong__HSL72P6_PA_3_305QB', 'Hanwha_Q_CELLS__Qidong__HSL72P6_PA_3_305QW', 'Hanwha_Q_CELLS__Qidong__HSL72P6_PA_4_305Q', 'Hanwha_Q_CELLS__Qidong__HSL72P6_PA_4_305QB', 'Hanwha_Q_CELLS__Qidong__HSL72P6_PA_4_305QW', 'Hanwha_Q_CELLS__Qidong__HSL72P6_PA_4_305T', 'Hanwha_Q_CELLS__Qidong__HSL72P6_PA_4_305TB', 'Hanwha_Q_CELLS__Qidong__HSL72P6_PA_4_305TW', 'Hanwha_Q_CELLS__Qidong__HSL72P6_PB_0_305T', 'Hanwha_Q_CELLS__Qidong__HSL72P6_PB_0_305TB', 'Hanwha_Q_CELLS__Qidong__HSL72P6_PB_0_305TW', 'Hanwha_Q_CELLS__Qidong__HSL72P6_PB_2_305Q', 'Hanwha_Q_CELLS__Qidong__HSL72P6_PB_2_305QB', 'Hanwha_Q_CELLS__Qidong__HSL72P6_PB_2_305QW', 'Hanwha_Q_CELLS__Qidong__HSL72P6_PB_3_305Q', 'Hanwha_Q_CELLS__Qidong__HSL72P6_PB_3_305QB', 'Hanwha_Q_CELLS__Qidong__HSL72P6_PB_3_305QW', 'Hanwha_Q_CELLS__Qidong__HSL72P6_PB_4_305', 'Hanwha_Q_CELLS__Qidong__HSL72P6_PB_4_305Q', 'Hanwha_Q_CELLS__Qidong__HSL72P6_PB_4_305QB', 'Hanwha_Q_CELLS__Qidong__HSL72P6_PB_4_305QW', 'Hanwha_Q_CELLS__Qidong__HSL72P6_PB_4_305T', 'Hanwha_Q_CELLS__Qidong__HSL72P6_PB_4_305TB', 'Hanwha_Q_CELLS__Qidong__HSL72P6_PB_4_305TW', 'Hanwha_Q_CELLS__Qidong__HSL72P6_PB_4_305W', 'Hanwha_Q_CELLS__Qidong__HSL72P6_PC_3_305', 'Hanwha_Q_CELLS__Qidong__HSL72P6_PC_3_305Q', 'Hanwha_Q_CELLS__Qidong__HSL72P6_PC_3_305QW', 'Hanwha_Q_CELLS__Qidong__HSL72P6_PC_3_305W', 'Hanwha_Q_CELLS__Qidong__HSL72M6_HA_0_310T', 'Hanwha_Q_CELLS__Qidong__HSL72M6_HA_0_310TB', 'Hanwha_Q_CELLS__Qidong__HSL72M6_HA_0_310TW', 'Hanwha_Q_CELLS__Qidong__HSL72M6_HA_4_310T', 'Hanwha_Q_CELLS__Qidong__HSL72M6_HA_4_310TB', 'Hanwha_Q_CELLS__Qidong__HSL72M6_HA_4_310TW', 'Hanwha_Q_CELLS__Qidong__HSL72M6_HB_0_310T', 'Hanwha_Q_CELLS__Qidong__HSL72M6_HB_0_310TB', 'Hanwha_Q_CELLS__Qidong__HSL72M6_HB_0_310TW', 'Hanwha_Q_CELLS__Qidong__HSL72M6_HB_4_310T', 'Hanwha_Q_CELLS__Qidong__HSL72M6_HB_4_310TB', 'Hanwha_Q_CELLS__Qidong__HSL72M6_HB_4_310TW', 'Hanwha_Q_CELLS__Qidong__HSL72P6_PB_0_310T', 'Hanwha_Q_CELLS__Qidong__HSL72P6_PB_0_310TW', 'Hanwha_Q_CELLS__Qidong__HSL72P6_PB_4_310', 'Hanwha_Q_CELLS__Qidong__HSL72P6_PB_4_310T', 'Hanwha_Q_CELLS__Qidong__HSL72P6_PB_4_310TW', 'Hanwha_Q_CELLS__Qidong__HSL72P6_PB_4_310W', 'Hanwha_Q_CELLS__Qidong__HSL72P6_PC_3_310', 'Hanwha_Q_CELLS__Qidong__HSL72P6_PC_3_310Q', 'Hanwha_Q_CELLS__Qidong__HSL72P6_PC_3_310QW', 'Hanwha_Q_CELLS__Qidong__HSL72P6_PC_3_310W', 'Hanwha_Q_CELLS__Qidong__HSL72P6_PB_0_315T', 'Hanwha_Q_CELLS__Qidong__HSL72P6_PB_0_315TW', 'Hanwha_Q_CELLS__Qidong__HSL72P6_PB_4_315T', 'Hanwha_Q_CELLS__Qidong__HSL72P6_PB_4_315TW', 'Hanwha_Q_CELLS__Qidong__HSL72P6_PC_3_315', 'Hanwha_Q_CELLS__Qidong__HSL72P6_PC_3_315Q', 'Hanwha_Q_CELLS__Qidong__HSL72P6_PC_3_315QW', 'Hanwha_Q_CELLS__Qidong__HSL72P6_PC_3_320', 'Hanwha_Q_CELLS__Qidong__HSL72P6_PC_3_325', 'Hanwha_Q_CELLS__Qidong__HSL72P6_PC_3_330', 'Hanwha_Q_CELLS__Qidong__Co___Ltd__Q_PRIME_L_G5_1_G_330', 'Hanwha_Q_CELLS__Qidong__Co___Ltd__Q_PRIME_L_G5_2_G_330', 'Hanwha_Q_CELLS__Qidong__Co___Ltd__Q_PRIME_L_G5_1_G_335', 'Hanwha_Q_CELLS__Qidong__Co___Ltd__Q_PRIME_L_G5_2_G_335', 'Hanwha_Q_CELLS__Qidong__Co___Ltd__Q_PRIME_L_G5_1_G_340', 'Hanwha_Q_CELLS__Qidong__Co___Ltd__Q_PRIME_L_G5_2_G_340', 'Hanwha_Q_CELLS__Qidong__Co___Ltd__Q_PRIME_L_G5_1_G_345', 'Hanwha_Q_CELLS__Qidong__Co___Ltd__Q_PRIME_L_G5_2_G_345', 'Schott_Solar_ASE_300_DGF_25_145', 'Schott_Solar_SAPC_165', 'Schott_Solar_SAPC_165S', 'Schott_Solar_SAPC_170', 'Schott_Solar_SAPC_175', 'Schott_Solar_ASE_300_DGF_34_195', 'Schott_Solar_Perform_Poly_202', 'Schott_Solar_Poly_202', 'Schott_Solar_Perform_Poly_210', 'Schott_Solar_Poly_210', 'Schott_Solar_Perform_Poly_217', 'Schott_Solar_Poly_217', 'Schott_Solar_Perform_Poly_220', 'Schott_Solar_Poly_220', 'Schott_Solar_Perform_Poly_225', 'Schott_Solar_Poly_225', 'Schott_Solar_Perform_Poly_230', 'Schott_Solar_Poly_230', 'Schott_Solar_Perform_Poly_235', 'Schott_Solar_Poly_235', 'Schott_Solar_ASE_300_DGF_42_240', 'Schott_Solar_Perform_Mono_240', 'Schott_Solar_Perform_Poly_240', 'Schott_Solar_Poly_240', 'Schott_Solar_Perform_Mono_245', 'Schott_Solar_PERFORM_POLY_245', 'Schott_Solar_ASE_300_DGF_50_250', 'Schott_Solar_Perform_Mono_250', 'Schott_Solar_PERFORM_POLY_250', 'Schott_Solar_Perform_Mono_255', 'Schott_Solar_ASE_300_DGF_50_260', 'Schott_Solar_Perform_Mono_260', 'Schott_Solar_ASE_300_DGF_50_270', 'Schott_Solar_ASE_300_DGF_50_280', 'Schott_Solar_ASE_300_DGF_50_290', 'Schott_Solar_ASE_300_DGF_50_300', 'Schott_Solar_ASE_300_DGF_50_310', 'SolarWorld_Americas_Inc_Sunmodule_Bisun_SWA_270_duo', 'SolarWorld_Americas_Inc_Sunmodule_Bisun_SWA_270_duo_black', 'SolarWorld_Americas_Inc_Sunmodule_Plus_SWA_270_mono_black', 'SolarWorld_Americas_Inc_Sunmodule_Protect_SWA_270_mono', 'SolarWorld_Americas_Inc_Sunmodule_Bisun_SWA_275_duo', 'SolarWorld_Americas_Inc_Sunmodule_Bisun_SWA_275_duo_black', 'SolarWorld_Americas_Inc_Sunmodule_Plus_SWA_275_mono_black', 'SolarWorld_Americas_Inc_Sunmodule_Bisun_SWA_280_duo', 'SolarWorld_Americas_Inc_Sunmodule_Bisun_SWA_280_duo_black', 'SolarWorld_Americas_Inc_Sunmodule_Plus_SWA_280_mono', 'SolarWorld_Americas_Inc_Sunmodule_Plus_SWA_280_mono_black', 'SolarWorld_Americas_Inc_Sunmodule_Plus_SWA_280_mono_black_laminate', 'SolarWorld_Americas_Inc_Sunmodule_Protect_SWA_280_mono', 'SolarWorld_Americas_Inc_Sunmodule_Plus_SWA_285_mono', 'SolarWorld_Americas_Inc_Sunmodule_Plus_SWA_285_mono_black', 'SolarWorld_Americas_Inc_Sunmodule_Plus_SWA_285_mono_black_laminate', 'SolarWorld_Americas_Inc_Sunmodule_Plus_SWA_290_mono', 'SolarWorld_Americas_Inc_Sunmodule_Plus_SWA_290_mono_black', 'SolarWorld_Americas_Inc_Sunmodule_Plus_SWA_290_mono_black_laminate', 'SolarWorld_Americas_Inc_Sunmodule_Protect_SWA_290_mono', 'SolarWorld_Americas_Inc_Sunmodule_Plus_SWA_295_mono', 'SolarWorld_Americas_Inc_Sunmodule_Plus_SWA_295_mono_black', 'SolarWorld_Americas_Inc_Sunmodule_Plus_SWA_300_mono', 'SolarWorld_Americas_Inc_Sunmodule_Plus_SWA_300_mono_black', 'SolarWorld_Americas_Inc_Sunmodule_Plus_SWA_305_mono', 'SolarWorld_Americas_Inc_Sunmodule_Plus_SWA_305_mono_black', 'SolarWorld_Americas_Inc_Sunmodule_Plus_SWA_310_mono', 'SolarWorld_Americas_Inc_Sunmodule_Plus_SWA_310_mono_black', 'SolarWorld_Americas_Inc_Sunmodule_Plus_SWA_315_mono', 'SolarWorld_Americas_Inc_Sunmodule_Bisun_SWA_320_XL_duo', 'SolarWorld_Americas_Inc_Sunmodule_SWA_320_XL_mono', 'SolarWorld_Americas_Inc_Sunmodule_Bisun_SWA_325_XL_duo', 'SolarWorld_Americas_Inc_Sunmodule_SWA_325_XL_mono', 'SolarWorld_Americas_Inc_Sunmodule_Bisun_SWA_330_XL_duo', 'SolarWorld_Americas_Inc_Sunmodule_SWA_330_XL_mono_black', 'SolarWorld_Americas_Inc_Sunmodule_SWA_335_XL_mono', 'SolarWorld_Americas_Inc_Sunmodule_SWA_340_XL_mono', 'SolarWorld_Americas_Inc_Sunmodule_SWA_340_XL_mono_black', 'SolarWorld_Americas_Inc_Sunmodule_SWA_345_XL_mono', 'SolarWorld_Americas_Inc_Sunmodule_SWA_345_XL_mono_black', 'SolarWorld_Americas_Inc_Sunmodule_SWA_350_XL_mono', 'SolarWorld_Industries_GmbH_Sunmodule_Plus_SW_220_mono', 'SolarWorld_Industries_GmbH_Sunmodule_Plus_SW_220_mono_black', 'SolarWorld_Industries_GmbH_Sunmodule_Plus_SW_220_poly', 'SolarWorld_Industries_GmbH_Sunmodule_Plus_SW_225_mono', 'SolarWorld_Industries_GmbH_Sunmodule_Plus_SW_225_mono_black', 'SolarWorld_Industries_GmbH_Sunmodule_Plus_SW_225_poly', 'SolarWorld_Industries_GmbH_Sunmodule_Plus_SW_230_mono', 'SolarWorld_Industries_GmbH_Sunmodule_Plus_SW_230_mono_black', 'SolarWorld_Industries_GmbH_Sunmodule_Plus_SW_230_poly', 'SolarWorld_Industries_GmbH_Sunmodule_Plus_SW_235_mono', 'SolarWorld_Industries_GmbH_Sunmodule_Plus_SW_235_mono_black', 'SolarWorld_Industries_GmbH_Sunmodule_Plus_SW_235_poly', 'SolarWorld_Industries_GmbH_Sunmodule_Plus_SW_240_mono', 'SolarWorld_Industries_GmbH_Sunmodule_Plus_SW_240_mono_black', 'SolarWorld_Industries_GmbH_Sunmodule_Plus_SW_240_poly', 'SolarWorld_Industries_GmbH_Sunmodule_Plus_SW_245_mono', 'SolarWorld_Industries_GmbH_Sunmodule_Plus_SW_245_mono_black', 'SolarWorld_Industries_GmbH_Sunmodule_Plus_SW_245_poly', 'SolarWorld_Industries_GmbH_Sunmodule_Plus_SW_250_mono', 'SolarWorld_Industries_GmbH_Sunmodule_Plus_SW_250_mono_black', 'SolarWorld_Industries_GmbH_Sunmodule_Plus_SW_250_poly', 'SolarWorld_Industries_GmbH_Sunmodule_Plus_SW_255_mono', 'SolarWorld_Industries_GmbH_Sunmodule_Plus_SW_255_mono_black', 'SolarWorld_Industries_GmbH_Sunmodule_Plus_SW_255_poly', 'SolarWorld_Industries_GmbH_Sunmodule_Protect_SW_255_mono', 'SolarWorld_Industries_GmbH_Sunmodule_Protect_SW_255_mono_black', 'SolarWorld_Industries_GmbH_Sunmodule_Bisun_SW_260_duo', 'SolarWorld_Industries_GmbH_Sunmodule_Plus_SW_260_mono', 'SolarWorld_Industries_GmbH_Sunmodule_Plus_SW_260_mono_black', 'SolarWorld_Industries_GmbH_Sunmodule_Plus_SW_260_poly', 'SolarWorld_Industries_GmbH_Sunmodule_Protect_SW_260_mono', 'SolarWorld_Industries_GmbH_Sunmodule_Protect_SW_260_mono_black', 'SolarWorld_Industries_GmbH_Sunmodule_Bisun_SW_265_duo', 'SolarWorld_Industries_GmbH_Sunmodule_Bisun_SW_265_duo_black', 'SolarWorld_Industries_GmbH_Sunmodule_Plus_SW_265_mono', 'SolarWorld_Industries_GmbH_Sunmodule_Plus_SW_265_mono_black', 'SolarWorld_Industries_GmbH_Sunmodule_Plus_SW_265_poly', 'SolarWorld_Industries_GmbH_Sunmodule_Protect_SW_265_mono', 'SolarWorld_Industries_GmbH_sunmodule_Protect_SW_265_mono_black', 'SolarWorld_Industries_GmbH_Sunmodule_Plus_SW_270_mono', 'SolarWorld_Industries_GmbH_Sunmodule_Protect_SW_270_mono_black', 'SolarWorld_Industries_GmbH_Sunmodule_Plus_SW_275_mono', 'SolarWorld_Industries_GmbH_Sunmodule_Protect_SW_275_mono', 'SolarWorld_Industries_GmbH_Sunmodule_Protect_SW_275_mono_black', 'SolarWorld_Industries_GmbH_Sunmodule_Protect_SW_285_mono', 'SolarWorld_Industries_GmbH_Sunmodule_SW_305_XL_mono', 'SolarWorld_Industries_GmbH_Sunmodule_SW_310_XL_mono', 'SolarWorld_Industries_GmbH_Sunmodule_SW_315_XL_mono']\n"
     ]
    }
   ],
   "source": [
    "# Retrieve all CEC module models\n",
    "cec_modules = pvlib.pvsystem.retrieve_sam('cecmod')\n",
    "\n",
    "# Filter for manufacturers (e.g., Q CELLS, SolarWorld, Heckert)\n",
    "german_modules = [name for name in cec_modules.keys() if any(brand in name for brand in ['Q_CELLS', 'SolarWorld', 'Heckert', 'Aleo', 'Axitec', 'Schott'])]\n",
    "\n",
    "print(german_modules)"
   ]
  },
  {
   "cell_type": "markdown",
   "metadata": {},
   "source": [
    "### Selecting the inverters"
   ]
  },
  {
   "cell_type": "markdown",
   "metadata": {},
   "source": [
    "### Calculating the inveter base on pannel connection and specifications."
   ]
  },
  {
   "cell_type": "code",
   "execution_count": null,
   "metadata": {},
   "outputs": [
    {
     "name": "stdout",
     "output_type": "stream",
     "text": [
      "                                              Vac        Pso     Paco  \\\n",
      "Yaskawa_Solectria_Solar__PVI_10kW_480__480V_  480  70.141754  10410.0   \n",
      "\n",
      "                                                      Pdco   Vdco        C0  \\\n",
      "Yaskawa_Solectria_Solar__PVI_10kW_480__480V_  10833.133789  270.0 -0.000002   \n",
      "\n",
      "                                                    C1        C2       C3  \\\n",
      "Yaskawa_Solectria_Solar__PVI_10kW_480__480V_ -0.000007 -0.000366  0.00007   \n",
      "\n",
      "                                                Pnt Vdcmax     Idcmax  \\\n",
      "Yaskawa_Solectria_Solar__PVI_10kW_480__480V_  3.123  380.0  40.122718   \n",
      "\n",
      "                                             Mppt_low Mppt_high   CEC_Date  \\\n",
      "Yaskawa_Solectria_Solar__PVI_10kW_480__480V_    225.0     380.0  2/15/2018   \n",
      "\n",
      "                                                         CEC_Type  \n",
      "Yaskawa_Solectria_Solar__PVI_10kW_480__480V_  Utility Interactive  \n"
     ]
    }
   ],
   "source": [
    "# checking inverters library\n",
    "inverters = pvlib.pvsystem.retrieve_sam('cecinverter')\n",
    "\n",
    "# Convert to DataFrame\n",
    "df = pd.DataFrame(inverters).T  # Transpose for easier filtering\n",
    "\n",
    "# for 10 kW capacity range\n",
    "# the calculation are shown in the Report\n",
    "filtered_inverters = df[\n",
    "    (df['Paco'] >= 9500) & (df['Paco'] <= 10500)&  \n",
    "\n",
    "    (df['Idcmax'] >= 40) \n",
    "]\n",
    "\n",
    "print(filtered_inverters)"
   ]
  },
  {
   "cell_type": "code",
   "execution_count": null,
   "metadata": {},
   "outputs": [
    {
     "name": "stdout",
     "output_type": "stream",
     "text": [
      "Technology           Multi-c-Si\n",
      "Bifacial                      0\n",
      "STC                     249.672\n",
      "PTC                       224.7\n",
      "A_c                       1.643\n",
      "Length                     1.66\n",
      "Width                      0.99\n",
      "N_s                          60\n",
      "I_sc_ref                   8.76\n",
      "V_oc_ref                   37.5\n",
      "I_mp_ref                   8.24\n",
      "V_mp_ref                   30.3\n",
      "alpha_sc               0.003854\n",
      "beta_oc                -0.11775\n",
      "T_NOCT                     47.5\n",
      "a_ref                   1.51423\n",
      "I_L_ref                8.766827\n",
      "I_o_ref                     0.0\n",
      "R_s                    0.329448\n",
      "R_sh_ref             422.752747\n",
      "Adjust                 8.786825\n",
      "gamma_r                   -0.43\n",
      "BIPV                          N\n",
      "Version       SAM 2018.11.11 r2\n",
      "Date                   1/3/2019\n",
      "Name: Aleo_Solar_P18y250, dtype: object\n"
     ]
    }
   ],
   "source": [
    "# Get the module paramaters\n",
    "module_params = pvlib.pvsystem.retrieve_sam('cecmod')['Aleo_Solar_P18y250']\n",
    "inverter_params = pvlib.pvsystem.retrieve_sam('cecinverter')['Yaskawa_Solectria_Solar__PVI_10kW_480__480V_']\n",
    "print(module_params)\n"
   ]
  },
  {
   "cell_type": "code",
   "execution_count": 6,
   "metadata": {},
   "outputs": [
    {
     "name": "stdout",
     "output_type": "stream",
     "text": [
      "Vac                          480\n",
      "Pso                    70.141754\n",
      "Paco                     10410.0\n",
      "Pdco                10833.133789\n",
      "Vdco                       270.0\n",
      "C0                     -0.000002\n",
      "C1                     -0.000007\n",
      "C2                     -0.000366\n",
      "C3                       0.00007\n",
      "Pnt                        3.123\n",
      "Vdcmax                     380.0\n",
      "Idcmax                 40.122718\n",
      "Mppt_low                   225.0\n",
      "Mppt_high                  380.0\n",
      "CEC_Date               2/15/2018\n",
      "CEC_Type     Utility Interactive\n",
      "Name: Yaskawa_Solectria_Solar__PVI_10kW_480__480V_, dtype: object\n"
     ]
    }
   ],
   "source": [
    "print(inverter_params)"
   ]
  },
  {
   "cell_type": "code",
   "execution_count": 7,
   "metadata": {},
   "outputs": [],
   "source": [
    "# For the weather data\n",
    "# Define location (latitude, longitude, altitude)\n",
    "latitude = 51.75  \n",
    "longitude = 10.61\n",
    "altitude = 971  # meters\n",
    "timezone = 'Etc/GMT+1'  # Time zone"
   ]
  },
  {
   "cell_type": "code",
   "execution_count": null,
   "metadata": {},
   "outputs": [],
   "source": [
    "# Creating a location object\n",
    "location = pvlib.location.Location(latitude, longitude, tz=timezone, altitude=altitude)\n",
    "\n",
    "#weather data \n",
    "weather = pvlib.iotools.get_pvgis_tmy(latitude, longitude)[0]  \n",
    "\n",
    "# Converting to Local Time\n",
    "weather.index = weather.index.tz_convert(timezone)\n",
    "\n",
    "# Calculating solar position\n",
    "solar_position = location.get_solarposition(weather.index)"
   ]
  },
  {
   "cell_type": "code",
   "execution_count": null,
   "metadata": {},
   "outputs": [],
   "source": [
    "module_params['pdc0'] = 249.67  # W per module\n",
    "module_params['gamma_pdc'] = -0.00476  # Temperature coefficient\n",
    "\n",
    "inverter_params['pdc0'] = 10410  #  10W inverter\n",
    "inverter_params['eta_inv_nom'] = 0.98  # Inverter efficency\n",
    "#print(inverter_params)\n",
    "\n",
    "# Define system parameters\n",
    "system = {\n",
    "    'surface_tilt': 60 ,  # tilt angle to get more energy in summer. Calculated for (32, 45, 55, 60)\n",
    "    'surface_azimuth': 180,  # Facing south\n",
    "    'module_parameters': module_params,  # module\n",
    "    'inverter_parameters': inverter_params   #  inverter\n",
    "}\n",
    "\n",
    "# Calculate plane of array (POA) irradiance\n",
    "poa_irradiance = pvlib.irradiance.get_total_irradiance(\n",
    "    system['surface_tilt'],\n",
    "    system['surface_azimuth'],\n",
    "    solar_position['apparent_zenith'],\n",
    "    solar_position['azimuth'],\n",
    "    ghi=weather['ghi'], # Global\n",
    "    dni=weather['dni'], # Direct\n",
    "    dhi=weather['dhi'], # Diffuse irradiance\n",
    "    model='isotropic'\n",
    ")\n",
    "\n",
    "# 40 Modules\n",
    "modules_per_string = 10\n",
    "strings_per_inverter = 4\n",
    "\n",
    "#When using Sandia model we required Vdc \n",
    "\"\"\" DC voltage on each MPPT input of the inverter. Required when model=’sandia’  \"\"\"\n",
    "\n",
    "# Extract module reference voltage (Vmp)\n",
    "V_mp_ref = module_params['V_mp_ref']  # Voltage at max power point [V]\n",
    "#print(V_mp_ref)\n",
    "# Estimate DC voltage per string (temperature corrected)\n",
    "v_dc = V_mp_ref * modules_per_string  # DC voltage per string\n",
    "#print(poa_irradiance['poa_global'])\n",
    "\n",
    "# Calculate PV power output\n",
    "temperature = weather['temp_air']  # Air temperature\n",
    "pv_system = pvlib.pvsystem.PVSystem(module_parameters=system['module_parameters'], modules_per_string = modules_per_string, strings_per_inverter = 4,\n",
    "                                    inverter_parameters=system['inverter_parameters'],surface_tilt=32, surface_azimuth=180,)\n",
    "dc_output = pv_system.pvwatts_dc(g_poa_effective=poa_irradiance['poa_global'],  # POA irradiance in W/m²\n",
    "    temp_cell=weather['temp_air']  # Cell temperature (or module temperature)\n",
    ")\n",
    "\n",
    "#print(dc_output)\n",
    "ac_output = pv_system.get_ac(p_dc=dc_output, v_dc = v_dc,  model=\"sandia\")\n",
    "\n",
    "# Calculate daily and yearly energy generation\n",
    "daily_energy = ac_output.resample('D').sum()  # kWh/day\n",
    "yearly_energy = ac_output.resample('Y').sum().mean()  # kWh/year\n",
    "\n",
    "\n"
   ]
  },
  {
   "cell_type": "code",
   "execution_count": 63,
   "metadata": {},
   "outputs": [
    {
     "name": "stdout",
     "output_type": "stream",
     "text": [
      "Estimated Yearly PV Generation: 827.15 kWh\n"
     ]
    },
    {
     "data": {
      "image/png": "[encoded data removed]",
      "text/plain": [
       "<Figure size 640x480 with 1 Axes>"
      ]
     },
     "metadata": {},
     "output_type": "display_data"
    }
   ],
   "source": [
    "# Results\n",
    "print(f\"Estimated Yearly PV Generation: {yearly_energy:.2f} kWh\")\n",
    "\n",
    "\n",
    "# Daily Energy Generation\n",
    "daily_energy.plot(title=\"Daily PV Generation (kWh)\", ylabel=\"Energy (kWh)\", xlabel=\"Date\")\n",
    "plt.show()"
   ]
  },
  {
   "cell_type": "code",
   "execution_count": 64,
   "metadata": {},
   "outputs": [
    {
     "data": {
      "text/plain": [
       "827.1489684612616"
      ]
     },
     "execution_count": 64,
     "metadata": {},
     "output_type": "execute_result"
    }
   ],
   "source": [
    "yearly_energy"
   ]
  },
  {
   "cell_type": "code",
   "execution_count": 65,
   "metadata": {},
   "outputs": [
    {
     "data": {
      "text/plain": [
       "2006-12-31 00:00:00+00:00        0.000000\n",
       "2007-12-31 00:00:00+00:00        0.000000\n",
       "2008-12-31 00:00:00+00:00        0.000000\n",
       "2009-12-31 00:00:00+00:00        0.000000\n",
       "2010-12-31 00:00:00+00:00        0.000000\n",
       "2011-12-31 00:00:00+00:00        0.000000\n",
       "2012-12-31 00:00:00+00:00        0.000000\n",
       "2013-12-31 00:00:00+00:00        0.000000\n",
       "2014-12-31 00:00:00+00:00        0.000000\n",
       "2015-12-31 00:00:00+00:00     1630.502538\n",
       "2016-12-31 00:00:00+00:00        0.000000\n",
       "2017-12-31 00:00:00+00:00        0.000000\n",
       "2018-12-31 00:00:00+00:00        0.000000\n",
       "2019-12-31 00:00:00+00:00     3882.809032\n",
       "2020-12-31 00:00:00+00:00    10349.135998\n",
       "2021-12-31 00:00:00+00:00     -146.617167\n",
       "2022-12-31 00:00:00+00:00        0.000000\n",
       "2023-12-31 00:00:00+00:00        0.000000\n",
       "2024-12-31 00:00:00+00:00        0.000000\n",
       "Freq: A-DEC, dtype: float64"
      ]
     },
     "execution_count": 65,
     "metadata": {},
     "output_type": "execute_result"
    }
   ],
   "source": [
    "ac_output.resample('Y').sum()"
   ]
  },
  {
   "cell_type": "markdown",
   "metadata": {},
   "source": [
    "### Due to the weather data we are getting very uneven result annualy."
   ]
  },
  {
   "cell_type": "markdown",
   "metadata": {},
   "source": [
    "# Getting the data openmeto data for better weather result. "
   ]
  },
  {
   "cell_type": "code",
   "execution_count": 66,
   "metadata": {},
   "outputs": [],
   "source": [
    "cache_session = requests_cache.CachedSession('.cache', expire_after = 3600)\n",
    "retry_session = retry(cache_session, retries = 5, backoff_factor = 0.2)\n",
    "openmeteo = openmeteo_requests.Client(session = retry_session)\n",
    "\n",
    "# Important Defination.\n",
    "# Function for frequent use for houlrly data\n",
    "#https://open-meteo.com/en/docs/historical-weather-api#start_date=1950-01-01&end_date=2023-12-31&hourly=&daily=temperature_2m_mean&timezone=Europe%2FBerlin&models=era5_seamless\n",
    "def Hourly_open_meteo_data(start_date:str, end_date:str, lat:list, long:list, variable):\n",
    "\turl = \"https://archive-api.open-meteo.com/v1/archive\"\n",
    "\tparams = {\n",
    "\t\"latitude\": lat,\n",
    "\t\"longitude\": long,\n",
    "\t\"start_date\":start_date,\n",
    "\t\"end_date\": end_date,\n",
    "\t\"timezone\": \"Europe/Berlin\",\n",
    "\t\"hourly\": variable,\n",
    "\t\"models\": [\"era5_seamless\"]\n",
    "\t}\n",
    "\tresponses = openmeteo.weather_api(url, params=params)\n",
    "\tresponse = responses[0]\n",
    "\t# Process daily data. The order of variables needs to be the same as requested.\n",
    "\thourly = response.Hourly()\n",
    "\thourly_raw_data = hourly.Variables(0).ValuesAsNumpy()\n",
    "\n",
    "\thourly_data = {\"date\": pd.date_range(\n",
    "\t\tstart = pd.to_datetime(hourly.Time(), unit = \"s\", utc = True),\n",
    "\t\tend = pd.to_datetime(hourly.TimeEnd(), unit = \"s\", utc = True),\n",
    "\t\tfreq = pd.Timedelta(seconds = hourly.Interval()),\n",
    "\t\tinclusive = \"left\"\n",
    "\t)}\n",
    "\thourly_data[variable] = hourly_raw_data\n",
    "\n",
    "\thourly_dataframe = pd.DataFrame(data = hourly_data)\n",
    "\n",
    "\tif hourly_dataframe.empty:\n",
    "\t\treturn print(\"The daily limit reached\")\n",
    "\treturn hourly_dataframe"
   ]
  },
  {
   "cell_type": "code",
   "execution_count": 67,
   "metadata": {},
   "outputs": [],
   "source": [
    "#requesting API for all Irradiance\n",
    "GHI_Global_Horizontal_Irradiance = Hourly_open_meteo_data(\"2014-01-01\", \"2024-12-31\",[51.75], [10.61],\"shortwave_radiation\")\n",
    "DNI_Direct_Normal_Irradiance = Hourly_open_meteo_data(\"2014-01-01\", \"2024-12-31\",[51.75], [10.61],\"direct_normal_irradiance\")\n",
    "DHI_Diffuse_Horizontal_Irradiance  = Hourly_open_meteo_data(\"2014-01-01\", \"2024-12-31\",[51.75], [10.61],\"diffuse_radiation\")\n"
   ]
  },
  {
   "cell_type": "code",
   "execution_count": 68,
   "metadata": {},
   "outputs": [],
   "source": [
    "# getting temperture and wind data\n",
    "temperature_2m = Hourly_open_meteo_data(\"2014-01-01\", \"2024-12-31\",[51.75], [10.61],\"temperature_2m\")\n",
    "wind_speed_10m = Hourly_open_meteo_data(\"2014-01-01\", \"2024-12-31\",[51.75], [10.61],\"wind_speed_10m\")\n"
   ]
  },
  {
   "cell_type": "code",
   "execution_count": 69,
   "metadata": {},
   "outputs": [
    {
     "data": {
      "text/html": [
       "<div>\n",
       "<style scoped>\n",
       "    .dataframe tbody tr th:only-of-type {\n",
       "        vertical-align: middle;\n",
       "    }\n",
       "\n",
       "    .dataframe tbody tr th {\n",
       "        vertical-align: top;\n",
       "    }\n",
       "\n",
       "    .dataframe thead th {\n",
       "        text-align: right;\n",
       "    }\n",
       "</style>\n",
       "<table border=\"1\" class=\"dataframe\">\n",
       "  <thead>\n",
       "    <tr style=\"text-align: right;\">\n",
       "      <th></th>\n",
       "      <th>shortwave_radiation</th>\n",
       "      <th>direct_normal_irradiance</th>\n",
       "      <th>diffuse_radiation</th>\n",
       "      <th>temperature_2m</th>\n",
       "      <th>wind_speed_10m</th>\n",
       "    </tr>\n",
       "    <tr>\n",
       "      <th>date</th>\n",
       "      <th></th>\n",
       "      <th></th>\n",
       "      <th></th>\n",
       "      <th></th>\n",
       "      <th></th>\n",
       "    </tr>\n",
       "  </thead>\n",
       "  <tbody>\n",
       "    <tr>\n",
       "      <th>2013-12-31 23:00:00+00:00</th>\n",
       "      <td>0.0</td>\n",
       "      <td>0.0</td>\n",
       "      <td>0.0</td>\n",
       "      <td>-2.8555</td>\n",
       "      <td>10.895576</td>\n",
       "    </tr>\n",
       "    <tr>\n",
       "      <th>2014-01-01 00:00:00+00:00</th>\n",
       "      <td>0.0</td>\n",
       "      <td>0.0</td>\n",
       "      <td>0.0</td>\n",
       "      <td>-2.7055</td>\n",
       "      <td>10.661107</td>\n",
       "    </tr>\n",
       "    <tr>\n",
       "      <th>2014-01-01 01:00:00+00:00</th>\n",
       "      <td>0.0</td>\n",
       "      <td>0.0</td>\n",
       "      <td>0.0</td>\n",
       "      <td>-2.4055</td>\n",
       "      <td>10.853866</td>\n",
       "    </tr>\n",
       "    <tr>\n",
       "      <th>2014-01-01 02:00:00+00:00</th>\n",
       "      <td>0.0</td>\n",
       "      <td>0.0</td>\n",
       "      <td>0.0</td>\n",
       "      <td>-2.4055</td>\n",
       "      <td>10.105681</td>\n",
       "    </tr>\n",
       "    <tr>\n",
       "      <th>2014-01-01 03:00:00+00:00</th>\n",
       "      <td>0.0</td>\n",
       "      <td>0.0</td>\n",
       "      <td>0.0</td>\n",
       "      <td>-2.2555</td>\n",
       "      <td>10.182337</td>\n",
       "    </tr>\n",
       "    <tr>\n",
       "      <th>...</th>\n",
       "      <td>...</td>\n",
       "      <td>...</td>\n",
       "      <td>...</td>\n",
       "      <td>...</td>\n",
       "      <td>...</td>\n",
       "    </tr>\n",
       "    <tr>\n",
       "      <th>2024-12-31 18:00:00+00:00</th>\n",
       "      <td>0.0</td>\n",
       "      <td>0.0</td>\n",
       "      <td>0.0</td>\n",
       "      <td>-1.6055</td>\n",
       "      <td>18.047638</td>\n",
       "    </tr>\n",
       "    <tr>\n",
       "      <th>2024-12-31 19:00:00+00:00</th>\n",
       "      <td>0.0</td>\n",
       "      <td>0.0</td>\n",
       "      <td>0.0</td>\n",
       "      <td>-2.1555</td>\n",
       "      <td>19.406637</td>\n",
       "    </tr>\n",
       "    <tr>\n",
       "      <th>2024-12-31 20:00:00+00:00</th>\n",
       "      <td>0.0</td>\n",
       "      <td>0.0</td>\n",
       "      <td>0.0</td>\n",
       "      <td>-2.0055</td>\n",
       "      <td>21.010712</td>\n",
       "    </tr>\n",
       "    <tr>\n",
       "      <th>2024-12-31 21:00:00+00:00</th>\n",
       "      <td>0.0</td>\n",
       "      <td>0.0</td>\n",
       "      <td>0.0</td>\n",
       "      <td>-1.7555</td>\n",
       "      <td>21.661413</td>\n",
       "    </tr>\n",
       "    <tr>\n",
       "      <th>2024-12-31 22:00:00+00:00</th>\n",
       "      <td>0.0</td>\n",
       "      <td>0.0</td>\n",
       "      <td>0.0</td>\n",
       "      <td>-1.6055</td>\n",
       "      <td>20.168034</td>\n",
       "    </tr>\n",
       "  </tbody>\n",
       "</table>\n",
       "<p>96432 rows × 5 columns</p>\n",
       "</div>"
      ],
      "text/plain": [
       "                           shortwave_radiation  direct_normal_irradiance  \\\n",
       "date                                                                       \n",
       "2013-12-31 23:00:00+00:00                  0.0                       0.0   \n",
       "2014-01-01 00:00:00+00:00                  0.0                       0.0   \n",
       "2014-01-01 01:00:00+00:00                  0.0                       0.0   \n",
       "2014-01-01 02:00:00+00:00                  0.0                       0.0   \n",
       "2014-01-01 03:00:00+00:00                  0.0                       0.0   \n",
       "...                                        ...                       ...   \n",
       "2024-12-31 18:00:00+00:00                  0.0                       0.0   \n",
       "2024-12-31 19:00:00+00:00                  0.0                       0.0   \n",
       "2024-12-31 20:00:00+00:00                  0.0                       0.0   \n",
       "2024-12-31 21:00:00+00:00                  0.0                       0.0   \n",
       "2024-12-31 22:00:00+00:00                  0.0                       0.0   \n",
       "\n",
       "                           diffuse_radiation  temperature_2m  wind_speed_10m  \n",
       "date                                                                          \n",
       "2013-12-31 23:00:00+00:00                0.0         -2.8555       10.895576  \n",
       "2014-01-01 00:00:00+00:00                0.0         -2.7055       10.661107  \n",
       "2014-01-01 01:00:00+00:00                0.0         -2.4055       10.853866  \n",
       "2014-01-01 02:00:00+00:00                0.0         -2.4055       10.105681  \n",
       "2014-01-01 03:00:00+00:00                0.0         -2.2555       10.182337  \n",
       "...                                      ...             ...             ...  \n",
       "2024-12-31 18:00:00+00:00                0.0         -1.6055       18.047638  \n",
       "2024-12-31 19:00:00+00:00                0.0         -2.1555       19.406637  \n",
       "2024-12-31 20:00:00+00:00                0.0         -2.0055       21.010712  \n",
       "2024-12-31 21:00:00+00:00                0.0         -1.7555       21.661413  \n",
       "2024-12-31 22:00:00+00:00                0.0         -1.6055       20.168034  \n",
       "\n",
       "[96432 rows x 5 columns]"
      ]
     },
     "execution_count": 69,
     "metadata": {},
     "output_type": "execute_result"
    }
   ],
   "source": [
    "# merge in on data frame\n",
    "weather_new = GHI_Global_Horizontal_Irradiance.merge(DNI_Direct_Normal_Irradiance, on='date').merge(DHI_Diffuse_Horizontal_Irradiance, on='date').merge(temperature_2m, on='date').merge(wind_speed_10m , on='date')\n",
    "weather_new.set_index('date', inplace=True) #set index as date/time\n",
    "weather_new"
   ]
  },
  {
   "cell_type": "code",
   "execution_count": 70,
   "metadata": {},
   "outputs": [
    {
     "name": "stdout",
     "output_type": "stream",
     "text": [
      "<class 'pandas.core.frame.DataFrame'>\n",
      "DatetimeIndex: 96432 entries, 2013-12-31 23:00:00+00:00 to 2024-12-31 22:00:00+00:00\n",
      "Data columns (total 5 columns):\n",
      " #   Column                    Non-Null Count  Dtype  \n",
      "---  ------                    --------------  -----  \n",
      " 0   shortwave_radiation       96432 non-null  float32\n",
      " 1   direct_normal_irradiance  96432 non-null  float32\n",
      " 2   diffuse_radiation         96432 non-null  float32\n",
      " 3   temperature_2m            96432 non-null  float32\n",
      " 4   wind_speed_10m            96432 non-null  float32\n",
      "dtypes: float32(5)\n",
      "memory usage: 2.6 MB\n"
     ]
    }
   ],
   "source": [
    "weather_new.info()"
   ]
  },
  {
   "cell_type": "markdown",
   "metadata": {},
   "source": [
    "### Recalculating the PVlib senario with new weather data"
   ]
  },
  {
   "cell_type": "code",
   "execution_count": 71,
   "metadata": {},
   "outputs": [
    {
     "name": "stdout",
     "output_type": "stream",
     "text": [
      "       shortwave_radiation  direct_normal_irradiance  diffuse_radiation\n",
      "count         96432.000000              96432.000000       96432.000000\n",
      "mean            126.375610                139.090454          54.337429\n",
      "std             195.878998                222.170364          75.061111\n",
      "min               0.000000                  0.000000           0.000000\n",
      "25%               0.000000                  0.000000           0.000000\n",
      "50%               5.000000                  0.000000           5.000000\n",
      "75%             194.000000                219.631695          98.000000\n",
      "max             890.000000                920.224854         412.000000\n"
     ]
    }
   ],
   "source": [
    "print(weather_new[['shortwave_radiation', 'direct_normal_irradiance', 'diffuse_radiation']].describe())"
   ]
  },
  {
   "cell_type": "code",
   "execution_count": 72,
   "metadata": {},
   "outputs": [],
   "source": [
    "#Recalculating the Output\n",
    "\n",
    "# Define system parameters\n",
    "# After correction\n",
    "solar_position = location.get_solarposition(weather_new.index)\n",
    "\n",
    "# Calculate plane of array (POA) irradiance\n",
    "poa_irradiance = pvlib.irradiance.get_total_irradiance(\n",
    "    system['surface_tilt'],\n",
    "    system['surface_azimuth'],\n",
    "    solar_position['apparent_zenith'],\n",
    "    solar_position['azimuth'],\n",
    "    ghi=weather_new[\"shortwave_radiation\"],\n",
    "    dni=weather_new[\"direct_normal_irradiance\"],\n",
    "    dhi=weather_new[\"diffuse_radiation\"],\n",
    "    model='isotropic'\n",
    ")\n",
    "\n",
    "# Extract module reference voltage (Vmp)\n",
    "V_mp_ref = module_params['V_mp_ref']  # Voltage at max power point [V]\n",
    "\n",
    "# Estimate DC voltage per string (temperature corrected)\n",
    "v_dc = V_mp_ref * modules_per_string  # DC voltage per string\n",
    "\n",
    "#previouly we were using atmospher Temp as module temp\n",
    "# Compute module temperature using an appropriate model\n",
    "temp_cell = pvlib.temperature.sapm_cell(\n",
    "    poa_irradiance['poa_global'], weather_new[\"temperature_2m\"], wind_speed=weather_new[\"wind_speed_10m\"],\n",
    "    **pvlib.temperature.TEMPERATURE_MODEL_PARAMETERS['sapm']['open_rack_glass_glass']\n",
    ")\n",
    "# PV system is defined early\n",
    "# Calculate DC power with loss factor\n",
    "dc_output = pv_system.pvwatts_dc(poa_irradiance['poa_global'], temp_cell)\n",
    "dc_output_corrected = dc_output * 0.77  # Apply 23% losses for cables, soiling, mismatch,weather etc\n",
    "\n",
    "# Apply inverter clipping & conversion efficiency\n",
    "ac_output = pv_system.get_ac(p_dc=dc_output_corrected,v_dc=v_dc, model=\"sandia\")\n",
    "\n",
    "\n",
    "\n"
   ]
  },
  {
   "cell_type": "code",
   "execution_count": 73,
   "metadata": {},
   "outputs": [
    {
     "name": "stdout",
     "output_type": "stream",
     "text": [
      "Estimated Yearly PV Generation: 16683.60 kWh\n"
     ]
    }
   ],
   "source": [
    "# Compute energy generation\n",
    "daily_energy = ac_output.resample('D').sum()  \n",
    "yearly_energy = ac_output.resample('Y').sum().mean()  \n",
    "\n",
    "# Print corrected results\n",
    "print(f\"Estimated Yearly PV Generation: {yearly_energy:.2f} kWh\")"
   ]
  },
  {
   "cell_type": "code",
   "execution_count": 75,
   "metadata": {},
   "outputs": [
    {
     "data": {
      "text/plain": [
       "1668.3599386531507"
      ]
     },
     "execution_count": 75,
     "metadata": {},
     "output_type": "execute_result"
    }
   ],
   "source": [
    "energy_year_kwp = yearly_energy/10 # 10 installed capacity \n",
    "energy_year_kwp"
   ]
  },
  {
   "cell_type": "code",
   "execution_count": 76,
   "metadata": {},
   "outputs": [
    {
     "data": {
      "image/png": "[encoded data removed]",
      "text/plain": [
       "<Figure size 640x480 with 1 Axes>"
      ]
     },
     "metadata": {},
     "output_type": "display_data"
    }
   ],
   "source": [
    "winter_energy = ac_output[ac_output.index.month.isin([10, 11, 12, 1, 2, 3])].resample('D').sum().mean()\n",
    "summer_energy = ac_output[ac_output.index.month.isin([5, 4, 6, 7, 8, 9])].resample('D').sum().mean()\n",
    "\n",
    "# Plot Daily Energy Generation\n",
    "ac_output.plot(title=\"Daily PV Generation (kWh)\", ylabel=\"Energy (kWh)\", xlabel=\"Date\")\n",
    "plt.show()"
   ]
  },
  {
   "cell_type": "code",
   "execution_count": 77,
   "metadata": {},
   "outputs": [
    {
     "name": "stdout",
     "output_type": "stream",
     "text": [
      "Avergae daily energy in winter is -0.9053750268310292\n",
      "Average daily energy in summer is 53.13918010198435\n"
     ]
    }
   ],
   "source": [
    "print(f\"Avergae daily energy in winter is {winter_energy}\")\n",
    "print(f\"Average daily energy in summer is {summer_energy}\")"
   ]
  },
  {
   "cell_type": "markdown",
   "metadata": {},
   "source": [
    "### Solve the negative output\n",
    "### it it due to zero value available for Global radiation."
   ]
  },
  {
   "cell_type": "code",
   "execution_count": 79,
   "metadata": {},
   "outputs": [],
   "source": [
    "winter_energy_days = ac_output[weather_new.index.month.isin([10, 11, 12, 1, 2, 3])].resample('D').mean()"
   ]
  },
  {
   "cell_type": "code",
   "execution_count": 80,
   "metadata": {},
   "outputs": [
    {
     "data": {
      "text/plain": [
       "date\n",
       "2013-12-31 00:00:00+00:00   -3.123000\n",
       "2014-01-01 00:00:00+00:00   -3.123000\n",
       "2014-01-02 00:00:00+00:00   -3.123000\n",
       "2014-01-03 00:00:00+00:00   -3.123000\n",
       "2014-01-04 00:00:00+00:00   -3.123000\n",
       "                               ...   \n",
       "2024-12-27 00:00:00+00:00   -3.123000\n",
       "2024-12-28 00:00:00+00:00    2.465348\n",
       "2024-12-29 00:00:00+00:00   -3.123000\n",
       "2024-12-30 00:00:00+00:00   -3.123000\n",
       "2024-12-31 00:00:00+00:00   -2.034188\n",
       "Freq: D, Length: 4019, dtype: float64"
      ]
     },
     "execution_count": 80,
     "metadata": {},
     "output_type": "execute_result"
    }
   ],
   "source": [
    "winter_energy_days"
   ]
  },
  {
   "cell_type": "code",
   "execution_count": 81,
   "metadata": {},
   "outputs": [
    {
     "data": {
      "text/plain": [
       "<Axes: title={'center': 'Daily PV Generation (kWh)'}, xlabel='Date', ylabel='Energy (kWh)'>"
      ]
     },
     "execution_count": 81,
     "metadata": {},
     "output_type": "execute_result"
    },
    {
     "data": {
      "image/png": "[encoded data removed]",
      "text/plain": [
       "<Figure size 640x480 with 1 Axes>"
      ]
     },
     "metadata": {},
     "output_type": "display_data"
    }
   ],
   "source": [
    "winter_energy_days.plot(title=\"Daily PV Generation (kWh)\", ylabel=\"Energy (kWh)\", xlabel=\"Date\")"
   ]
  },
  {
   "cell_type": "markdown",
   "metadata": {},
   "source": [
    "### cliping of the non negative values"
   ]
  },
  {
   "cell_type": "code",
   "execution_count": 82,
   "metadata": {},
   "outputs": [
    {
     "data": {
      "text/plain": [
       "<Axes: title={'center': 'Daily PV Generation (kWh)'}, xlabel='Date', ylabel='Energy (kWh)'>"
      ]
     },
     "execution_count": 82,
     "metadata": {},
     "output_type": "execute_result"
    },
    {
     "data": {
      "image/png": "[encoded data removed]",
      "text/plain": [
       "<Figure size 640x480 with 1 Axes>"
      ]
     },
     "metadata": {},
     "output_type": "display_data"
    }
   ],
   "source": [
    "winter_energy_days = winter_energy_days.clip(lower=0)\n",
    "winter_energy_days.plot(title=\"Daily PV Generation (kWh)\", ylabel=\"Energy (kWh)\", xlabel=\"Date\")"
   ]
  },
  {
   "cell_type": "code",
   "execution_count": 83,
   "metadata": {},
   "outputs": [
    {
     "data": {
      "text/plain": [
       "33.357486132661386"
      ]
     },
     "execution_count": 83,
     "metadata": {},
     "output_type": "execute_result"
    }
   ],
   "source": [
    "ac_output_clipped = ac_output.clip(lower=0)\n",
    "winter_energy_days_clipped = ac_output_clipped[weather_new.index.month.isin([10, 11, 12, 1, 2, 3])].resample('D').sum().mean()\n",
    "winter_energy_days_clipped\n",
    "#winter_energy_days_clipped.plot(title=\"Daily PV Generation (kWh)\", ylabel=\"Energy (kWh)\", xlabel=\"Date\")\n"
   ]
  },
  {
   "cell_type": "code",
   "execution_count": 84,
   "metadata": {},
   "outputs": [
    {
     "name": "stdout",
     "output_type": "stream",
     "text": [
      "Avergae daily energy in winter is 33.357486132661386\n",
      "Average daily energy in summer is 53.13918010198435\n"
     ]
    }
   ],
   "source": [
    "print(f\"Avergae daily energy in winter is {winter_energy_days_clipped}\")\n",
    "print(f\"Average daily energy in summer is {summer_energy}\")"
   ]
  },
  {
   "cell_type": "code",
   "execution_count": 85,
   "metadata": {},
   "outputs": [
    {
     "data": {
      "text/plain": [
       "date\n",
       "2013-12-31 00:00:00+00:00       -3.123000\n",
       "2014-12-31 00:00:00+00:00    13442.181623\n",
       "2015-12-31 00:00:00+00:00    17947.383065\n",
       "2016-12-31 00:00:00+00:00    16204.395123\n",
       "2017-12-31 00:00:00+00:00    11838.833110\n",
       "2018-12-31 00:00:00+00:00    28047.933392\n",
       "2019-12-31 00:00:00+00:00    22367.965606\n",
       "2020-12-31 00:00:00+00:00    21939.072104\n",
       "2021-12-31 00:00:00+00:00    10424.319026\n",
       "2022-12-31 00:00:00+00:00    23670.120192\n",
       "2023-12-31 00:00:00+00:00    16169.828370\n",
       "2024-12-31 00:00:00+00:00    18154.284027\n",
       "Freq: A-DEC, dtype: float64"
      ]
     },
     "execution_count": 85,
     "metadata": {},
     "output_type": "execute_result"
    }
   ],
   "source": [
    "ac_output.resample('Y').sum()"
   ]
  }
 ],
 "metadata": {
  "kernelspec": {
   "display_name": "base",
   "language": "python",
   "name": "python3"
  },
  "language_info": {
   "codemirror_mode": {
    "name": "ipython",
    "version": 3
   },
   "file_extension": ".py",
   "mimetype": "text/x-python",
   "name": "python",
   "nbconvert_exporter": "python",
   "pygments_lexer": "ipython3",
   "version": "3.11.7"
  }
 },
 "nbformat": 4,
 "nbformat_minor": 2
}
